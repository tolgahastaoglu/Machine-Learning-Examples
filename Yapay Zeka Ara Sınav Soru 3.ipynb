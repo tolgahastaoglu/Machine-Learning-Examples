{
 "cells": [
  {
   "cell_type": "markdown",
   "metadata": {},
   "source": [
    "#  <font color='red'> Yapay Zeka Ara Sınav  Soru 3 </font>\n",
    "Tolga HASTAOĞLU 21040201015"
   ]
  },
  {
   "cell_type": "markdown",
   "metadata": {},
   "source": [
    "Aşağıdaki veri setlerinden birini kullanarak. Bu veri seti üzerinde aşağıdaki sınıflandırma\n",
    "yöntemlerini kullanınız. Her bir sınıflandırıcıdan alınan sonuçları ( Accuracy, Precision,\n",
    "Recall,F1-Score ) tablo halinde sonuçlarını gösteriniz. Rapora sonuçlarını ve karışıklık\n",
    "Matrisi (Confusion Matrix)lerini yazınız/çiziniz.\n",
    " Karar Ağaçları (Decision tree)\n",
    " Rastgele Orman (Random Forest)\n",
    " Lojistik Regresyon\n",
    " K-en yakın komşu (k-Nearest Neighbors classifier)"
   ]
  },
  {
   "cell_type": "code",
   "execution_count": 93,
   "metadata": {},
   "outputs": [],
   "source": [
    "import pandas as pd \n",
    "import numpy as np\n",
    "import seaborn as sns\n",
    "import matplotlib.pyplot as plt\n",
    "from sklearn.feature_selection import SelectKBest\n",
    "from sklearn.feature_selection import chi2,f_classif\n",
    "from sklearn.model_selection import train_test_split,cross_val_score\n",
    "from sklearn.linear_model import LogisticRegression\n",
    "from sklearn.preprocessing import MinMaxScaler,StandardScaler\n",
    "from sklearn.ensemble import ExtraTreesClassifier\n",
    "from sklearn.metrics import confusion_matrix, classification_report\n",
    "from sklearn import preprocessing\n",
    "from sklearn.metrics import plot_confusion_matrix"
   ]
  },
  {
   "cell_type": "code",
   "execution_count": 2,
   "metadata": {},
   "outputs": [
    {
     "data": {
      "text/html": [
       "<div>\n",
       "<style scoped>\n",
       "    .dataframe tbody tr th:only-of-type {\n",
       "        vertical-align: middle;\n",
       "    }\n",
       "\n",
       "    .dataframe tbody tr th {\n",
       "        vertical-align: top;\n",
       "    }\n",
       "\n",
       "    .dataframe thead th {\n",
       "        text-align: right;\n",
       "    }\n",
       "</style>\n",
       "<table border=\"1\" class=\"dataframe\">\n",
       "  <thead>\n",
       "    <tr style=\"text-align: right;\">\n",
       "      <th></th>\n",
       "      <th>age</th>\n",
       "      <th>sex</th>\n",
       "      <th>bmi</th>\n",
       "      <th>children</th>\n",
       "      <th>smoker</th>\n",
       "      <th>region</th>\n",
       "      <th>charges</th>\n",
       "    </tr>\n",
       "  </thead>\n",
       "  <tbody>\n",
       "    <tr>\n",
       "      <th>0</th>\n",
       "      <td>19</td>\n",
       "      <td>female</td>\n",
       "      <td>27.900</td>\n",
       "      <td>0</td>\n",
       "      <td>yes</td>\n",
       "      <td>southwest</td>\n",
       "      <td>16884.92400</td>\n",
       "    </tr>\n",
       "    <tr>\n",
       "      <th>1</th>\n",
       "      <td>18</td>\n",
       "      <td>male</td>\n",
       "      <td>33.770</td>\n",
       "      <td>1</td>\n",
       "      <td>no</td>\n",
       "      <td>southeast</td>\n",
       "      <td>1725.55230</td>\n",
       "    </tr>\n",
       "    <tr>\n",
       "      <th>2</th>\n",
       "      <td>28</td>\n",
       "      <td>male</td>\n",
       "      <td>33.000</td>\n",
       "      <td>3</td>\n",
       "      <td>no</td>\n",
       "      <td>southeast</td>\n",
       "      <td>4449.46200</td>\n",
       "    </tr>\n",
       "    <tr>\n",
       "      <th>3</th>\n",
       "      <td>33</td>\n",
       "      <td>male</td>\n",
       "      <td>22.705</td>\n",
       "      <td>0</td>\n",
       "      <td>no</td>\n",
       "      <td>northwest</td>\n",
       "      <td>21984.47061</td>\n",
       "    </tr>\n",
       "    <tr>\n",
       "      <th>4</th>\n",
       "      <td>32</td>\n",
       "      <td>male</td>\n",
       "      <td>28.880</td>\n",
       "      <td>0</td>\n",
       "      <td>no</td>\n",
       "      <td>northwest</td>\n",
       "      <td>3866.85520</td>\n",
       "    </tr>\n",
       "    <tr>\n",
       "      <th>...</th>\n",
       "      <td>...</td>\n",
       "      <td>...</td>\n",
       "      <td>...</td>\n",
       "      <td>...</td>\n",
       "      <td>...</td>\n",
       "      <td>...</td>\n",
       "      <td>...</td>\n",
       "    </tr>\n",
       "    <tr>\n",
       "      <th>1333</th>\n",
       "      <td>50</td>\n",
       "      <td>male</td>\n",
       "      <td>30.970</td>\n",
       "      <td>3</td>\n",
       "      <td>no</td>\n",
       "      <td>northwest</td>\n",
       "      <td>10600.54830</td>\n",
       "    </tr>\n",
       "    <tr>\n",
       "      <th>1334</th>\n",
       "      <td>18</td>\n",
       "      <td>female</td>\n",
       "      <td>31.920</td>\n",
       "      <td>0</td>\n",
       "      <td>no</td>\n",
       "      <td>northeast</td>\n",
       "      <td>2205.98080</td>\n",
       "    </tr>\n",
       "    <tr>\n",
       "      <th>1335</th>\n",
       "      <td>18</td>\n",
       "      <td>female</td>\n",
       "      <td>36.850</td>\n",
       "      <td>0</td>\n",
       "      <td>no</td>\n",
       "      <td>southeast</td>\n",
       "      <td>1629.83350</td>\n",
       "    </tr>\n",
       "    <tr>\n",
       "      <th>1336</th>\n",
       "      <td>21</td>\n",
       "      <td>female</td>\n",
       "      <td>25.800</td>\n",
       "      <td>0</td>\n",
       "      <td>no</td>\n",
       "      <td>southwest</td>\n",
       "      <td>2007.94500</td>\n",
       "    </tr>\n",
       "    <tr>\n",
       "      <th>1337</th>\n",
       "      <td>61</td>\n",
       "      <td>female</td>\n",
       "      <td>29.070</td>\n",
       "      <td>0</td>\n",
       "      <td>yes</td>\n",
       "      <td>northwest</td>\n",
       "      <td>29141.36030</td>\n",
       "    </tr>\n",
       "  </tbody>\n",
       "</table>\n",
       "<p>1338 rows × 7 columns</p>\n",
       "</div>"
      ],
      "text/plain": [
       "      age     sex     bmi  children smoker     region      charges\n",
       "0      19  female  27.900         0    yes  southwest  16884.92400\n",
       "1      18    male  33.770         1     no  southeast   1725.55230\n",
       "2      28    male  33.000         3     no  southeast   4449.46200\n",
       "3      33    male  22.705         0     no  northwest  21984.47061\n",
       "4      32    male  28.880         0     no  northwest   3866.85520\n",
       "...   ...     ...     ...       ...    ...        ...          ...\n",
       "1333   50    male  30.970         3     no  northwest  10600.54830\n",
       "1334   18  female  31.920         0     no  northeast   2205.98080\n",
       "1335   18  female  36.850         0     no  southeast   1629.83350\n",
       "1336   21  female  25.800         0     no  southwest   2007.94500\n",
       "1337   61  female  29.070         0    yes  northwest  29141.36030\n",
       "\n",
       "[1338 rows x 7 columns]"
      ]
     },
     "execution_count": 2,
     "metadata": {},
     "output_type": "execute_result"
    }
   ],
   "source": [
    "veriSeti=pd.read_csv(\"insurance.csv\")\n",
    "veriSeti"
   ]
  },
  {
   "cell_type": "code",
   "execution_count": 3,
   "metadata": {},
   "outputs": [],
   "source": [
    "sex_labels=[\"male\",\"female\"]\n",
    "sex_encoder=preprocessing.LabelEncoder()\n",
    "sex_encoder.fit(sex_labels)\n",
    "veriSeti[\"sex\"]=sex_encoder.transform(veriSeti[\"sex\"])"
   ]
  },
  {
   "cell_type": "code",
   "execution_count": 4,
   "metadata": {},
   "outputs": [],
   "source": [
    "smoker_labels=[\"yes\",\"no\"]\n",
    "smoker_encoder=preprocessing.LabelEncoder()\n",
    "smoker_encoder.fit(smoker_labels)\n",
    "veriSeti[\"smoker\"]=smoker_encoder.transform(veriSeti[\"smoker\"])"
   ]
  },
  {
   "cell_type": "code",
   "execution_count": 5,
   "metadata": {},
   "outputs": [],
   "source": [
    "region_labels=[\"southwest\",\"southeast\",\"northwest\",\"northeast\"]\n",
    "region_encoder=preprocessing.LabelEncoder()\n",
    "region_encoder.fit(region_labels)\n",
    "veriSeti[\"region\"]=region_encoder.transform(veriSeti[\"region\"])"
   ]
  },
  {
   "cell_type": "code",
   "execution_count": 6,
   "metadata": {},
   "outputs": [
    {
     "name": "stdout",
     "output_type": "stream",
     "text": [
      "sütun minimumum : 1121.8739, sütun maksimumu: 63770.42801\n"
     ]
    }
   ],
   "source": [
    "maksimum=veriSeti[\"charges\"].max()\n",
    "minimum=veriSeti[\"charges\"].min()\n",
    "print(\"sütun minimumum : \"+ str(minimum)+ \", sütun maksimumu: \"+ str(maksimum))"
   ]
  },
  {
   "cell_type": "markdown",
   "metadata": {},
   "source": [
    "Yukarıda maksimum ve minimum girilen değerlere göre 10 sınıf oluşturmak için 5000'lik ayrımlarda sınıflar oluşturulacaktır."
   ]
  },
  {
   "cell_type": "code",
   "execution_count": 7,
   "metadata": {},
   "outputs": [],
   "source": [
    "veriSeti['charges_categorical'] = pd.cut(veriSeti[\"charges\"], bins=[0, 5000, 10000,15000,20000,25000,30000,35000,40000,45000,50000,100000],\n",
    "                    labels=[0,1,2,3,4,5,6,7,8,9,10])\n",
    "veriSeti['charges_categorical']=veriSeti['charges_categorical'].astype(int)"
   ]
  },
  {
   "cell_type": "code",
   "execution_count": 8,
   "metadata": {},
   "outputs": [
    {
     "data": {
      "text/html": [
       "<div>\n",
       "<style scoped>\n",
       "    .dataframe tbody tr th:only-of-type {\n",
       "        vertical-align: middle;\n",
       "    }\n",
       "\n",
       "    .dataframe tbody tr th {\n",
       "        vertical-align: top;\n",
       "    }\n",
       "\n",
       "    .dataframe thead th {\n",
       "        text-align: right;\n",
       "    }\n",
       "</style>\n",
       "<table border=\"1\" class=\"dataframe\">\n",
       "  <thead>\n",
       "    <tr style=\"text-align: right;\">\n",
       "      <th></th>\n",
       "      <th>age</th>\n",
       "      <th>sex</th>\n",
       "      <th>bmi</th>\n",
       "      <th>children</th>\n",
       "      <th>smoker</th>\n",
       "      <th>region</th>\n",
       "      <th>charges</th>\n",
       "      <th>charges_categorical</th>\n",
       "    </tr>\n",
       "  </thead>\n",
       "  <tbody>\n",
       "    <tr>\n",
       "      <th>0</th>\n",
       "      <td>19</td>\n",
       "      <td>0</td>\n",
       "      <td>27.900</td>\n",
       "      <td>0</td>\n",
       "      <td>1</td>\n",
       "      <td>3</td>\n",
       "      <td>16884.92400</td>\n",
       "      <td>3</td>\n",
       "    </tr>\n",
       "    <tr>\n",
       "      <th>1</th>\n",
       "      <td>18</td>\n",
       "      <td>1</td>\n",
       "      <td>33.770</td>\n",
       "      <td>1</td>\n",
       "      <td>0</td>\n",
       "      <td>2</td>\n",
       "      <td>1725.55230</td>\n",
       "      <td>0</td>\n",
       "    </tr>\n",
       "    <tr>\n",
       "      <th>2</th>\n",
       "      <td>28</td>\n",
       "      <td>1</td>\n",
       "      <td>33.000</td>\n",
       "      <td>3</td>\n",
       "      <td>0</td>\n",
       "      <td>2</td>\n",
       "      <td>4449.46200</td>\n",
       "      <td>0</td>\n",
       "    </tr>\n",
       "    <tr>\n",
       "      <th>3</th>\n",
       "      <td>33</td>\n",
       "      <td>1</td>\n",
       "      <td>22.705</td>\n",
       "      <td>0</td>\n",
       "      <td>0</td>\n",
       "      <td>1</td>\n",
       "      <td>21984.47061</td>\n",
       "      <td>4</td>\n",
       "    </tr>\n",
       "    <tr>\n",
       "      <th>4</th>\n",
       "      <td>32</td>\n",
       "      <td>1</td>\n",
       "      <td>28.880</td>\n",
       "      <td>0</td>\n",
       "      <td>0</td>\n",
       "      <td>1</td>\n",
       "      <td>3866.85520</td>\n",
       "      <td>0</td>\n",
       "    </tr>\n",
       "    <tr>\n",
       "      <th>...</th>\n",
       "      <td>...</td>\n",
       "      <td>...</td>\n",
       "      <td>...</td>\n",
       "      <td>...</td>\n",
       "      <td>...</td>\n",
       "      <td>...</td>\n",
       "      <td>...</td>\n",
       "      <td>...</td>\n",
       "    </tr>\n",
       "    <tr>\n",
       "      <th>1333</th>\n",
       "      <td>50</td>\n",
       "      <td>1</td>\n",
       "      <td>30.970</td>\n",
       "      <td>3</td>\n",
       "      <td>0</td>\n",
       "      <td>1</td>\n",
       "      <td>10600.54830</td>\n",
       "      <td>2</td>\n",
       "    </tr>\n",
       "    <tr>\n",
       "      <th>1334</th>\n",
       "      <td>18</td>\n",
       "      <td>0</td>\n",
       "      <td>31.920</td>\n",
       "      <td>0</td>\n",
       "      <td>0</td>\n",
       "      <td>0</td>\n",
       "      <td>2205.98080</td>\n",
       "      <td>0</td>\n",
       "    </tr>\n",
       "    <tr>\n",
       "      <th>1335</th>\n",
       "      <td>18</td>\n",
       "      <td>0</td>\n",
       "      <td>36.850</td>\n",
       "      <td>0</td>\n",
       "      <td>0</td>\n",
       "      <td>2</td>\n",
       "      <td>1629.83350</td>\n",
       "      <td>0</td>\n",
       "    </tr>\n",
       "    <tr>\n",
       "      <th>1336</th>\n",
       "      <td>21</td>\n",
       "      <td>0</td>\n",
       "      <td>25.800</td>\n",
       "      <td>0</td>\n",
       "      <td>0</td>\n",
       "      <td>3</td>\n",
       "      <td>2007.94500</td>\n",
       "      <td>0</td>\n",
       "    </tr>\n",
       "    <tr>\n",
       "      <th>1337</th>\n",
       "      <td>61</td>\n",
       "      <td>0</td>\n",
       "      <td>29.070</td>\n",
       "      <td>0</td>\n",
       "      <td>1</td>\n",
       "      <td>1</td>\n",
       "      <td>29141.36030</td>\n",
       "      <td>5</td>\n",
       "    </tr>\n",
       "  </tbody>\n",
       "</table>\n",
       "<p>1338 rows × 8 columns</p>\n",
       "</div>"
      ],
      "text/plain": [
       "      age  sex     bmi  children  smoker  region      charges  \\\n",
       "0      19    0  27.900         0       1       3  16884.92400   \n",
       "1      18    1  33.770         1       0       2   1725.55230   \n",
       "2      28    1  33.000         3       0       2   4449.46200   \n",
       "3      33    1  22.705         0       0       1  21984.47061   \n",
       "4      32    1  28.880         0       0       1   3866.85520   \n",
       "...   ...  ...     ...       ...     ...     ...          ...   \n",
       "1333   50    1  30.970         3       0       1  10600.54830   \n",
       "1334   18    0  31.920         0       0       0   2205.98080   \n",
       "1335   18    0  36.850         0       0       2   1629.83350   \n",
       "1336   21    0  25.800         0       0       3   2007.94500   \n",
       "1337   61    0  29.070         0       1       1  29141.36030   \n",
       "\n",
       "      charges_categorical  \n",
       "0                       3  \n",
       "1                       0  \n",
       "2                       0  \n",
       "3                       4  \n",
       "4                       0  \n",
       "...                   ...  \n",
       "1333                    2  \n",
       "1334                    0  \n",
       "1335                    0  \n",
       "1336                    0  \n",
       "1337                    5  \n",
       "\n",
       "[1338 rows x 8 columns]"
      ]
     },
     "execution_count": 8,
     "metadata": {},
     "output_type": "execute_result"
    }
   ],
   "source": [
    "veriSeti"
   ]
  },
  {
   "cell_type": "markdown",
   "metadata": {},
   "source": [
    "Veriler kagegorik hale getirilmiş olup sayısal olup olmadığı kontrol edilmiştir."
   ]
  },
  {
   "cell_type": "code",
   "execution_count": 9,
   "metadata": {},
   "outputs": [
    {
     "name": "stdout",
     "output_type": "stream",
     "text": [
      "<class 'pandas.core.frame.DataFrame'>\n",
      "RangeIndex: 1338 entries, 0 to 1337\n",
      "Data columns (total 8 columns):\n",
      " #   Column               Non-Null Count  Dtype  \n",
      "---  ------               --------------  -----  \n",
      " 0   age                  1338 non-null   int64  \n",
      " 1   sex                  1338 non-null   int32  \n",
      " 2   bmi                  1338 non-null   float64\n",
      " 3   children             1338 non-null   int64  \n",
      " 4   smoker               1338 non-null   int32  \n",
      " 5   region               1338 non-null   int32  \n",
      " 6   charges              1338 non-null   float64\n",
      " 7   charges_categorical  1338 non-null   int32  \n",
      "dtypes: float64(2), int32(4), int64(2)\n",
      "memory usage: 62.8 KB\n"
     ]
    }
   ],
   "source": [
    "veriSeti.info()"
   ]
  },
  {
   "cell_type": "markdown",
   "metadata": {},
   "source": [
    "yinelenen değer kontrolü yapılacak ve yinelenen değer varsa silinecektir"
   ]
  },
  {
   "cell_type": "code",
   "execution_count": 10,
   "metadata": {},
   "outputs": [
    {
     "data": {
      "text/html": [
       "<div>\n",
       "<style scoped>\n",
       "    .dataframe tbody tr th:only-of-type {\n",
       "        vertical-align: middle;\n",
       "    }\n",
       "\n",
       "    .dataframe tbody tr th {\n",
       "        vertical-align: top;\n",
       "    }\n",
       "\n",
       "    .dataframe thead th {\n",
       "        text-align: right;\n",
       "    }\n",
       "</style>\n",
       "<table border=\"1\" class=\"dataframe\">\n",
       "  <thead>\n",
       "    <tr style=\"text-align: right;\">\n",
       "      <th></th>\n",
       "      <th>age</th>\n",
       "      <th>sex</th>\n",
       "      <th>bmi</th>\n",
       "      <th>children</th>\n",
       "      <th>smoker</th>\n",
       "      <th>region</th>\n",
       "      <th>charges</th>\n",
       "      <th>charges_categorical</th>\n",
       "    </tr>\n",
       "  </thead>\n",
       "  <tbody>\n",
       "    <tr>\n",
       "      <th>581</th>\n",
       "      <td>19</td>\n",
       "      <td>1</td>\n",
       "      <td>30.59</td>\n",
       "      <td>0</td>\n",
       "      <td>0</td>\n",
       "      <td>1</td>\n",
       "      <td>1639.5631</td>\n",
       "      <td>0</td>\n",
       "    </tr>\n",
       "  </tbody>\n",
       "</table>\n",
       "</div>"
      ],
      "text/plain": [
       "     age  sex    bmi  children  smoker  region    charges  charges_categorical\n",
       "581   19    1  30.59         0       0       1  1639.5631                    0"
      ]
     },
     "execution_count": 10,
     "metadata": {},
     "output_type": "execute_result"
    }
   ],
   "source": [
    "veriSeti[veriSeti.duplicated()==True]"
   ]
  },
  {
   "cell_type": "code",
   "execution_count": 11,
   "metadata": {},
   "outputs": [],
   "source": [
    "veriSeti.drop([581], axis=0, inplace=True)"
   ]
  },
  {
   "cell_type": "code",
   "execution_count": 12,
   "metadata": {},
   "outputs": [
    {
     "data": {
      "text/html": [
       "<div>\n",
       "<style scoped>\n",
       "    .dataframe tbody tr th:only-of-type {\n",
       "        vertical-align: middle;\n",
       "    }\n",
       "\n",
       "    .dataframe tbody tr th {\n",
       "        vertical-align: top;\n",
       "    }\n",
       "\n",
       "    .dataframe thead th {\n",
       "        text-align: right;\n",
       "    }\n",
       "</style>\n",
       "<table border=\"1\" class=\"dataframe\">\n",
       "  <thead>\n",
       "    <tr style=\"text-align: right;\">\n",
       "      <th></th>\n",
       "      <th>age</th>\n",
       "      <th>sex</th>\n",
       "      <th>bmi</th>\n",
       "      <th>children</th>\n",
       "      <th>smoker</th>\n",
       "      <th>region</th>\n",
       "      <th>charges</th>\n",
       "      <th>charges_categorical</th>\n",
       "    </tr>\n",
       "  </thead>\n",
       "  <tbody>\n",
       "  </tbody>\n",
       "</table>\n",
       "</div>"
      ],
      "text/plain": [
       "Empty DataFrame\n",
       "Columns: [age, sex, bmi, children, smoker, region, charges, charges_categorical]\n",
       "Index: []"
      ]
     },
     "execution_count": 12,
     "metadata": {},
     "output_type": "execute_result"
    }
   ],
   "source": [
    "veriSeti[veriSeti.duplicated()==True]"
   ]
  },
  {
   "cell_type": "markdown",
   "metadata": {},
   "source": [
    "Yinelene veri de kalmamıştır artık veri temizliği tamamlanmıştı önce öznitelik önemliliğine ve skorlarına bakılacak sonrasında da analizlere başlanılacaktır."
   ]
  },
  {
   "cell_type": "code",
   "execution_count": 13,
   "metadata": {},
   "outputs": [],
   "source": [
    "X = veriSeti.iloc[:,0:6] \n",
    "y = veriSeti.iloc[:,-1] "
   ]
  },
  {
   "cell_type": "code",
   "execution_count": 14,
   "metadata": {},
   "outputs": [
    {
     "name": "stdout",
     "output_type": "stream",
     "text": [
      "[0.5101563  0.01738401 0.20772513 0.08733895 0.12236184 0.05503377]\n"
     ]
    },
    {
     "data": {
      "image/png": "[encoded data removed]",
      "text/plain": [
       "<Figure size 432x288 with 1 Axes>"
      ]
     },
     "metadata": {
      "needs_background": "light"
     },
     "output_type": "display_data"
    }
   ],
   "source": [
    "model = ExtraTreesClassifier()\n",
    "model.fit(X,y)\n",
    "print(model.feature_importances_)\n",
    "oznitelik_onemliligi = pd.Series(model.feature_importances_, index=X.\n",
    "columns)\n",
    "oznitelik_onemliligi.nlargest(15).plot(kind='barh')\n",
    "plt.show()"
   ]
  },
  {
   "cell_type": "code",
   "execution_count": 15,
   "metadata": {},
   "outputs": [
    {
     "name": "stdout",
     "output_type": "stream",
     "text": [
      "   degişken       score\n",
      "4    smoker  341.575150\n",
      "0       age  225.483387\n",
      "2       bmi   15.735688\n",
      "3  children    8.541967\n",
      "1       sex    1.772899\n",
      "5    region    1.175579\n"
     ]
    }
   ],
   "source": [
    "bestfeatures = SelectKBest(score_func=f_classif, k=5)\n",
    "fit = bestfeatures.fit(X,y)\n",
    "dfscores = pd.DataFrame(fit.scores_)\n",
    "dfcolumns = pd.DataFrame(X.columns)\n",
    "scores = pd.concat([dfcolumns,dfscores],axis=1)\n",
    "scores.columns = ['degişken','score']\n",
    "print(scores.nlargest(15,'score'))"
   ]
  },
  {
   "cell_type": "markdown",
   "metadata": {},
   "source": [
    "#  <font color=\"green\">Karar Ağaçları (Decision Tree) ile sınıflama ve sonuçları</font>"
   ]
  },
  {
   "cell_type": "code",
   "execution_count": 26,
   "metadata": {},
   "outputs": [],
   "source": [
    "from sklearn.tree import DecisionTreeClassifier \n",
    "from sklearn.preprocessing import StandardScaler"
   ]
  },
  {
   "cell_type": "code",
   "execution_count": 27,
   "metadata": {},
   "outputs": [],
   "source": [
    "X_train, X_test, y_train, y_test = train_test_split(X, y, test_size = 0.25, random_state = 0)"
   ]
  },
  {
   "cell_type": "code",
   "execution_count": 28,
   "metadata": {},
   "outputs": [],
   "source": [
    "sc_X = StandardScaler()\n",
    "X_train = sc_X.fit_transform(X_train)\n",
    "X_test = sc_X.transform(X_test)\n",
    "classifier = DecisionTreeClassifier(criterion = 'entropy', random_state=0)\n",
    "classifier.fit(X_train, y_train)\n",
    "y_pred = classifier.predict(X_test)"
   ]
  },
  {
   "cell_type": "code",
   "execution_count": 29,
   "metadata": {},
   "outputs": [
    {
     "name": "stdout",
     "output_type": "stream",
     "text": [
      "[[73  3  3  3  1  2  0  0  0  0  0]\n",
      " [ 5 82  5  0  3  3  0  0  0  0  0]\n",
      " [ 2  1 41  2  4  2  3  0  0  0  0]\n",
      " [ 5  1  1 11  0  0  0  3  0  0  0]\n",
      " [ 2  0  3  2  8  0  0  1  0  0  0]\n",
      " [ 0  6  5  1  1  1  2  0  0  0  0]\n",
      " [ 0  0  0  1  0  1  5  0  0  0  0]\n",
      " [ 0  0  2  0  0  0  1  6  3  0  1]\n",
      " [ 0  0  0  0  0  0  0  4  4  1  1]\n",
      " [ 0  0  0  0  0  0  0  0  0 10  2]\n",
      " [ 0  0  0  0  0  0  0  1  0  1  0]]\n"
     ]
    }
   ],
   "source": [
    "cm = confusion_matrix(y_test, y_pred)\n",
    "print(cm)"
   ]
  },
  {
   "cell_type": "code",
   "execution_count": 33,
   "metadata": {},
   "outputs": [
    {
     "data": {
      "image/png": "[encoded data removed]",
      "text/plain": [
       "<Figure size 432x288 with 2 Axes>"
      ]
     },
     "metadata": {
      "needs_background": "light"
     },
     "output_type": "display_data"
    }
   ],
   "source": [
    "plot_confusion_matrix(classifier, X_test, y_test)  \n",
    "plt.show()"
   ]
  },
  {
   "cell_type": "code",
   "execution_count": 34,
   "metadata": {},
   "outputs": [
    {
     "name": "stdout",
     "output_type": "stream",
     "text": [
      "              precision    recall  f1-score   support\n",
      "\n",
      "           0       0.84      0.86      0.85        85\n",
      "           1       0.88      0.84      0.86        98\n",
      "           2       0.68      0.75      0.71        55\n",
      "           3       0.55      0.52      0.54        21\n",
      "           4       0.47      0.50      0.48        16\n",
      "           5       0.11      0.06      0.08        16\n",
      "           6       0.45      0.71      0.56         7\n",
      "           7       0.40      0.46      0.43        13\n",
      "           8       0.57      0.40      0.47        10\n",
      "           9       0.83      0.83      0.83        12\n",
      "          10       0.00      0.00      0.00         2\n",
      "\n",
      "    accuracy                           0.72       335\n",
      "   macro avg       0.53      0.54      0.53       335\n",
      "weighted avg       0.72      0.72      0.72       335\n",
      "\n"
     ]
    }
   ],
   "source": [
    "print(classification_report(y_true=y_test, y_pred=y_pred))"
   ]
  },
  {
   "cell_type": "code",
   "execution_count": 35,
   "metadata": {},
   "outputs": [],
   "source": [
    "veriSeti1=veriSeti.copy()\n",
    "veriSeti1.drop(\"region\",axis=1,inplace=True)\n",
    "X = veriSeti1.iloc[:,0:5] \n",
    "y = veriSeti1.iloc[:,-1] "
   ]
  },
  {
   "cell_type": "code",
   "execution_count": 36,
   "metadata": {},
   "outputs": [
    {
     "name": "stdout",
     "output_type": "stream",
     "text": [
      "[[76  1  3  3  0  2  0  0  0  0  0]\n",
      " [ 9 78  4  1  3  1  2  0  0  0  0]\n",
      " [ 2  4 39  3  3  0  4  0  0  0  0]\n",
      " [ 6  0  1  9  4  0  0  1  0  0  0]\n",
      " [ 1  1  3  1  9  0  0  1  0  0  0]\n",
      " [ 0  7  6  1  1  1  0  0  0  0  0]\n",
      " [ 0  0  0  1  0  1  5  0  0  0  0]\n",
      " [ 0  0  2  0  0  0  1  7  3  0  0]\n",
      " [ 0  0  0  0  0  0  0  4  4  1  1]\n",
      " [ 0  0  0  0  0  0  0  0  0 10  2]\n",
      " [ 0  0  0  0  0  0  0  1  0  1  0]]\n"
     ]
    }
   ],
   "source": [
    "X_train, X_test, y_train, y_test = train_test_split(X, y, test_size = 0.25, random_state = 0)\n",
    "sc_X = StandardScaler()\n",
    "X_train = sc_X.fit_transform(X_train)\n",
    "X_test = sc_X.transform(X_test)\n",
    "classifier = DecisionTreeClassifier(criterion = 'entropy', random_state=0)\n",
    "classifier.fit(X_train, y_train)\n",
    "y_pred = classifier.predict(X_test)\n",
    "cm = confusion_matrix(y_test, y_pred)\n",
    "print(cm)"
   ]
  },
  {
   "cell_type": "code",
   "execution_count": 37,
   "metadata": {},
   "outputs": [
    {
     "data": {
      "image/png": "[encoded data removed]",
      "text/plain": [
       "<Figure size 432x288 with 2 Axes>"
      ]
     },
     "metadata": {
      "needs_background": "light"
     },
     "output_type": "display_data"
    }
   ],
   "source": [
    "plot_confusion_matrix(classifier, X_test, y_test)  \n",
    "plt.show()"
   ]
  },
  {
   "cell_type": "code",
   "execution_count": 38,
   "metadata": {},
   "outputs": [
    {
     "name": "stdout",
     "output_type": "stream",
     "text": [
      "              precision    recall  f1-score   support\n",
      "\n",
      "           0       0.81      0.89      0.85        85\n",
      "           1       0.86      0.80      0.83        98\n",
      "           2       0.67      0.71      0.69        55\n",
      "           3       0.47      0.43      0.45        21\n",
      "           4       0.45      0.56      0.50        16\n",
      "           5       0.20      0.06      0.10        16\n",
      "           6       0.42      0.71      0.53         7\n",
      "           7       0.50      0.54      0.52        13\n",
      "           8       0.57      0.40      0.47        10\n",
      "           9       0.83      0.83      0.83        12\n",
      "          10       0.00      0.00      0.00         2\n",
      "\n",
      "    accuracy                           0.71       335\n",
      "   macro avg       0.53      0.54      0.52       335\n",
      "weighted avg       0.70      0.71      0.70       335\n",
      "\n"
     ]
    }
   ],
   "source": [
    "print(classification_report(y_true=y_test, y_pred=y_pred))"
   ]
  },
  {
   "cell_type": "code",
   "execution_count": 39,
   "metadata": {},
   "outputs": [],
   "source": [
    "veriSeti2=veriSeti1.copy()\n",
    "veriSeti2.drop(\"sex\",axis=1,inplace=True)\n",
    "X = veriSeti2.iloc[:,0:4] \n",
    "y = veriSeti2.iloc[:,-1] "
   ]
  },
  {
   "cell_type": "code",
   "execution_count": 40,
   "metadata": {},
   "outputs": [
    {
     "name": "stdout",
     "output_type": "stream",
     "text": [
      "[[74  2  3  3  1  2  0  0  0  0  0]\n",
      " [ 9 77  4  3  2  1  2  0  0  0  0]\n",
      " [ 2  2 40  2  5  0  4  0  0  0  0]\n",
      " [ 6  0  1  9  4  0  0  1  0  0  0]\n",
      " [ 1  1  3  1  8  1  0  1  0  0  0]\n",
      " [ 0  5  7  1  1  1  1  0  0  0  0]\n",
      " [ 0  0  0  1  0  1  4  1  0  0  0]\n",
      " [ 0  0  2  0  0  0  1  8  2  0  0]\n",
      " [ 0  0  0  0  0  0  0  5  4  1  0]\n",
      " [ 0  0  0  0  0  0  0  0  0 10  2]\n",
      " [ 0  0  0  0  0  0  0  1  0  1  0]]\n"
     ]
    }
   ],
   "source": [
    "X_train, X_test, y_train, y_test = train_test_split(X, y, test_size = 0.25, random_state = 0)\n",
    "sc_X = StandardScaler()\n",
    "X_train = sc_X.fit_transform(X_train)\n",
    "X_test = sc_X.transform(X_test)\n",
    "classifier = DecisionTreeClassifier(criterion = 'entropy', random_state=0)\n",
    "classifier.fit(X_train, y_train)\n",
    "y_pred = classifier.predict(X_test)\n",
    "cm = confusion_matrix(y_test, y_pred)\n",
    "print(cm)"
   ]
  },
  {
   "cell_type": "code",
   "execution_count": 41,
   "metadata": {},
   "outputs": [
    {
     "data": {
      "image/png": "[encoded data removed]",
      "text/plain": [
       "<Figure size 432x288 with 2 Axes>"
      ]
     },
     "metadata": {
      "needs_background": "light"
     },
     "output_type": "display_data"
    }
   ],
   "source": [
    "plot_confusion_matrix(classifier, X_test, y_test)  \n",
    "plt.show()"
   ]
  },
  {
   "cell_type": "code",
   "execution_count": 42,
   "metadata": {},
   "outputs": [
    {
     "name": "stdout",
     "output_type": "stream",
     "text": [
      "              precision    recall  f1-score   support\n",
      "\n",
      "           0       0.80      0.87      0.84        85\n",
      "           1       0.89      0.79      0.83        98\n",
      "           2       0.67      0.73      0.70        55\n",
      "           3       0.45      0.43      0.44        21\n",
      "           4       0.38      0.50      0.43        16\n",
      "           5       0.17      0.06      0.09        16\n",
      "           6       0.33      0.57      0.42         7\n",
      "           7       0.47      0.62      0.53        13\n",
      "           8       0.67      0.40      0.50        10\n",
      "           9       0.83      0.83      0.83        12\n",
      "          10       0.00      0.00      0.00         2\n",
      "\n",
      "    accuracy                           0.70       335\n",
      "   macro avg       0.51      0.53      0.51       335\n",
      "weighted avg       0.70      0.70      0.70       335\n",
      "\n"
     ]
    }
   ],
   "source": [
    "print(classification_report(y_true=y_test, y_pred=y_pred))"
   ]
  },
  {
   "cell_type": "markdown",
   "metadata": {},
   "source": [
    "# <font color=\"green\">Random Forest ile Sınıflama ve Sonuçları<f/ont>"
   ]
  },
  {
   "cell_type": "code",
   "execution_count": 43,
   "metadata": {},
   "outputs": [],
   "source": [
    "from sklearn.ensemble import RandomForestClassifier"
   ]
  },
  {
   "cell_type": "code",
   "execution_count": 45,
   "metadata": {},
   "outputs": [],
   "source": [
    "X = veriSeti.iloc[:,0:6] \n",
    "y = veriSeti.iloc[:,-1] \n",
    "X_train, X_test, y_train, y_test = train_test_split(X, y, test_size = 0.25, random_state = 0)"
   ]
  },
  {
   "cell_type": "code",
   "execution_count": 46,
   "metadata": {},
   "outputs": [
    {
     "name": "stdout",
     "output_type": "stream",
     "text": [
      "[[82  2  1  0  0  0  0  0  0  0  0]\n",
      " [ 7 89  2  0  0  0  0  0  0  0  0]\n",
      " [ 3  1 46  5  0  0  0  0  0  0  0]\n",
      " [ 5  1  2 12  1  0  0  0  0  0  0]\n",
      " [ 2  0  4  0 10  0  0  0  0  0  0]\n",
      " [ 0  7  6  1  1  1  0  0  0  0  0]\n",
      " [ 0  0  0  2  0  1  4  0  0  0  0]\n",
      " [ 0  0  2  0  0  0  0 11  0  0  0]\n",
      " [ 0  0  0  0  0  0  0  4  5  0  1]\n",
      " [ 0  0  0  0  0  0  0  0  1 11  0]\n",
      " [ 0  0  0  0  0  0  0  1  0  1  0]]\n"
     ]
    }
   ],
   "source": [
    "classifier = RandomForestClassifier(n_estimators=100, max_features=\"auto\", random_state=44)\n",
    "classifier.fit(X_train,y_train)\n",
    "y_pred = classifier.predict(X_test)\n",
    "cm = confusion_matrix(y_test, y_pred)\n",
    "print(cm)"
   ]
  },
  {
   "cell_type": "code",
   "execution_count": 47,
   "metadata": {},
   "outputs": [
    {
     "data": {
      "image/png": "[encoded data removed]",
      "text/plain": [
       "<Figure size 432x288 with 2 Axes>"
      ]
     },
     "metadata": {
      "needs_background": "light"
     },
     "output_type": "display_data"
    }
   ],
   "source": [
    "plot_confusion_matrix(classifier, X_test, y_test)  \n",
    "plt.show()"
   ]
  },
  {
   "cell_type": "code",
   "execution_count": 48,
   "metadata": {},
   "outputs": [
    {
     "name": "stdout",
     "output_type": "stream",
     "text": [
      "              precision    recall  f1-score   support\n",
      "\n",
      "           0       0.83      0.96      0.89        85\n",
      "           1       0.89      0.91      0.90        98\n",
      "           2       0.73      0.84      0.78        55\n",
      "           3       0.60      0.57      0.59        21\n",
      "           4       0.83      0.62      0.71        16\n",
      "           5       0.50      0.06      0.11        16\n",
      "           6       1.00      0.57      0.73         7\n",
      "           7       0.69      0.85      0.76        13\n",
      "           8       0.83      0.50      0.62        10\n",
      "           9       0.92      0.92      0.92        12\n",
      "          10       0.00      0.00      0.00         2\n",
      "\n",
      "    accuracy                           0.81       335\n",
      "   macro avg       0.71      0.62      0.64       335\n",
      "weighted avg       0.80      0.81      0.79       335\n",
      "\n"
     ]
    }
   ],
   "source": [
    "print(classification_report(y_true=y_test, y_pred=y_pred))"
   ]
  },
  {
   "cell_type": "code",
   "execution_count": 49,
   "metadata": {},
   "outputs": [],
   "source": [
    "veriSeti1=veriSeti.copy()\n",
    "veriSeti1.drop(\"region\",axis=1,inplace=True)\n",
    "X = veriSeti1.iloc[:,0:5] \n",
    "y = veriSeti1.iloc[:,-1] \n",
    "X_train, X_test, y_train, y_test = train_test_split(X, y, test_size = 0.25, random_state = 0)"
   ]
  },
  {
   "cell_type": "code",
   "execution_count": 50,
   "metadata": {},
   "outputs": [
    {
     "name": "stdout",
     "output_type": "stream",
     "text": [
      "[[84  1  0  0  0  0  0  0  0  0  0]\n",
      " [ 8 87  3  0  0  0  0  0  0  0  0]\n",
      " [ 3  1 47  3  1  0  0  0  0  0  0]\n",
      " [ 6  0  2 10  3  0  0  0  0  0  0]\n",
      " [ 1  2  3  1  8  0  0  1  0  0  0]\n",
      " [ 0  6  7  1  1  1  0  0  0  0  0]\n",
      " [ 0  0  0  1  0  1  5  0  0  0  0]\n",
      " [ 0  0  2  0  0  0  0 11  0  0  0]\n",
      " [ 0  0  0  0  0  0  0  5  5  0  0]\n",
      " [ 0  0  0  0  0  0  0  0  1 11  0]\n",
      " [ 0  0  0  0  0  0  0  1  0  1  0]]\n"
     ]
    }
   ],
   "source": [
    "classifier = RandomForestClassifier(n_estimators=100, max_features=\"auto\", random_state=4)\n",
    "classifier.fit(X_train,y_train)\n",
    "y_pred = classifier.predict(X_test)\n",
    "cm = confusion_matrix(y_test, y_pred)\n",
    "print(cm)"
   ]
  },
  {
   "cell_type": "code",
   "execution_count": 51,
   "metadata": {},
   "outputs": [
    {
     "data": {
      "image/png": "[encoded data removed]",
      "text/plain": [
       "<Figure size 432x288 with 2 Axes>"
      ]
     },
     "metadata": {
      "needs_background": "light"
     },
     "output_type": "display_data"
    }
   ],
   "source": [
    "plot_confusion_matrix(classifier, X_test, y_test)  \n",
    "plt.show()"
   ]
  },
  {
   "cell_type": "code",
   "execution_count": 52,
   "metadata": {},
   "outputs": [
    {
     "name": "stdout",
     "output_type": "stream",
     "text": [
      "              precision    recall  f1-score   support\n",
      "\n",
      "           0       0.82      0.99      0.90        85\n",
      "           1       0.90      0.89      0.89        98\n",
      "           2       0.73      0.85      0.79        55\n",
      "           3       0.62      0.48      0.54        21\n",
      "           4       0.62      0.50      0.55        16\n",
      "           5       0.50      0.06      0.11        16\n",
      "           6       1.00      0.71      0.83         7\n",
      "           7       0.61      0.85      0.71        13\n",
      "           8       0.83      0.50      0.62        10\n",
      "           9       0.92      0.92      0.92        12\n",
      "          10       0.00      0.00      0.00         2\n",
      "\n",
      "    accuracy                           0.80       335\n",
      "   macro avg       0.69      0.61      0.62       335\n",
      "weighted avg       0.79      0.80      0.78       335\n",
      "\n"
     ]
    },
    {
     "name": "stderr",
     "output_type": "stream",
     "text": [
      "C:\\Users\\22490046962\\Anaconda3\\lib\\site-packages\\sklearn\\metrics\\_classification.py:1221: UndefinedMetricWarning: Precision and F-score are ill-defined and being set to 0.0 in labels with no predicted samples. Use `zero_division` parameter to control this behavior.\n",
      "  _warn_prf(average, modifier, msg_start, len(result))\n"
     ]
    }
   ],
   "source": [
    "print(classification_report(y_true=y_test, y_pred=y_pred))"
   ]
  },
  {
   "cell_type": "code",
   "execution_count": 53,
   "metadata": {},
   "outputs": [],
   "source": [
    "veriSeti2=veriSeti1.copy()\n",
    "veriSeti2.drop(\"sex\",axis=1,inplace=True)\n",
    "X = veriSeti2.iloc[:,0:4] \n",
    "y = veriSeti2.iloc[:,-1] \n",
    "X_train, X_test, y_train, y_test = train_test_split(X, y, test_size = 0.25, random_state = 0)"
   ]
  },
  {
   "cell_type": "code",
   "execution_count": 54,
   "metadata": {},
   "outputs": [
    {
     "name": "stdout",
     "output_type": "stream",
     "text": [
      "[[83  2  0  0  0  0  0  0  0  0  0]\n",
      " [ 8 85  3  0  1  0  1  0  0  0  0]\n",
      " [ 3  2 46  4  0  0  0  0  0  0  0]\n",
      " [ 5  1  2 11  2  0  0  0  0  0  0]\n",
      " [ 1  2  3  1  9  0  0  0  0  0  0]\n",
      " [ 0  6  6  1  1  1  1  0  0  0  0]\n",
      " [ 0  0  0  1  0  1  4  1  0  0  0]\n",
      " [ 0  0  2  0  0  0  0 11  0  0  0]\n",
      " [ 0  0  0  0  0  0  0  4  6  0  0]\n",
      " [ 0  0  0  0  0  0  0  0  1 11  0]\n",
      " [ 0  0  0  0  0  0  0  1  0  1  0]]\n"
     ]
    }
   ],
   "source": [
    "classifier = RandomForestClassifier(n_estimators=100, max_features=\"auto\", random_state=4)\n",
    "classifier.fit(X_train,y_train)\n",
    "y_pred = classifier.predict(X_test)\n",
    "cm = confusion_matrix(y_test, y_pred)\n",
    "print(cm)"
   ]
  },
  {
   "cell_type": "code",
   "execution_count": 55,
   "metadata": {},
   "outputs": [
    {
     "data": {
      "image/png": "[encoded data removed]",
      "text/plain": [
       "<Figure size 432x288 with 2 Axes>"
      ]
     },
     "metadata": {
      "needs_background": "light"
     },
     "output_type": "display_data"
    }
   ],
   "source": [
    "plot_confusion_matrix(classifier, X_test, y_test)  \n",
    "plt.show()"
   ]
  },
  {
   "cell_type": "code",
   "execution_count": 56,
   "metadata": {},
   "outputs": [
    {
     "name": "stdout",
     "output_type": "stream",
     "text": [
      "              precision    recall  f1-score   support\n",
      "\n",
      "           0       0.83      0.98      0.90        85\n",
      "           1       0.87      0.87      0.87        98\n",
      "           2       0.74      0.84      0.79        55\n",
      "           3       0.61      0.52      0.56        21\n",
      "           4       0.69      0.56      0.62        16\n",
      "           5       0.50      0.06      0.11        16\n",
      "           6       0.67      0.57      0.62         7\n",
      "           7       0.65      0.85      0.73        13\n",
      "           8       0.86      0.60      0.71        10\n",
      "           9       0.92      0.92      0.92        12\n",
      "          10       0.00      0.00      0.00         2\n",
      "\n",
      "    accuracy                           0.80       335\n",
      "   macro avg       0.67      0.61      0.62       335\n",
      "weighted avg       0.78      0.80      0.78       335\n",
      "\n"
     ]
    },
    {
     "name": "stderr",
     "output_type": "stream",
     "text": [
      "C:\\Users\\22490046962\\Anaconda3\\lib\\site-packages\\sklearn\\metrics\\_classification.py:1221: UndefinedMetricWarning: Precision and F-score are ill-defined and being set to 0.0 in labels with no predicted samples. Use `zero_division` parameter to control this behavior.\n",
      "  _warn_prf(average, modifier, msg_start, len(result))\n"
     ]
    }
   ],
   "source": [
    "print(classification_report(y_true=y_test, y_pred=y_pred))"
   ]
  },
  {
   "cell_type": "markdown",
   "metadata": {},
   "source": [
    "# <font color=\"green\">Lojistik Regresyon ile Sınıflama ve Sonuçları</font>"
   ]
  },
  {
   "cell_type": "markdown",
   "metadata": {},
   "source": [
    "Lojistik Regresyon kullanmak için 2'li sınıflama yapılması gerekmektedir bu nedenle veri seti 2'ye bölünecektir, max ve min değerleri kontrol edildiğinde 30000 sınırının uygun olduğu düşünülmüştür."
   ]
  },
  {
   "cell_type": "code",
   "execution_count": 57,
   "metadata": {},
   "outputs": [],
   "source": [
    "veriSeti['charges_logistic'] = pd.cut(veriSeti[\"charges\"], bins=[0, 30000,100000],\n",
    "                    labels=[0,1])\n",
    "veriSeti['charges_logistic']=veriSeti['charges_logistic'].astype(int)"
   ]
  },
  {
   "cell_type": "code",
   "execution_count": 58,
   "metadata": {},
   "outputs": [],
   "source": [
    "from sklearn import linear_model"
   ]
  },
  {
   "cell_type": "code",
   "execution_count": 59,
   "metadata": {},
   "outputs": [],
   "source": [
    "X = veriSeti.iloc[:,0:6] \n",
    "y = veriSeti.iloc[:,-1]\n",
    "X_train, X_test, y_train, y_test = train_test_split(X, y, test_size = 0.25, random_state = 0)"
   ]
  },
  {
   "cell_type": "code",
   "execution_count": 60,
   "metadata": {},
   "outputs": [],
   "source": [
    "sc=StandardScaler()\n",
    "X_train=sc.fit_transform(X_train)\n",
    "X_test=sc.fit_transform(X_test)"
   ]
  },
  {
   "cell_type": "code",
   "execution_count": 61,
   "metadata": {},
   "outputs": [
    {
     "name": "stdout",
     "output_type": "stream",
     "text": [
      "[-4.87963333] [[ 0.25838616  0.13598807  1.81443815  0.19196917  2.62777904 -0.12103944]]\n"
     ]
    }
   ],
   "source": [
    "model=LogisticRegression(random_state=0)\n",
    "model.fit(X_train,y_train)\n",
    "y_pred=model.predict(X_test)\n",
    "print(model.intercept_,model.coef_)"
   ]
  },
  {
   "cell_type": "code",
   "execution_count": 63,
   "metadata": {},
   "outputs": [
    {
     "data": {
      "text/plain": [
       "array([[291,   0],\n",
       "       [  7,  37]], dtype=int64)"
      ]
     },
     "execution_count": 63,
     "metadata": {},
     "output_type": "execute_result"
    }
   ],
   "source": [
    "confusion_matrix(y_true=y_test, y_pred=y_pred)"
   ]
  },
  {
   "cell_type": "code",
   "execution_count": 64,
   "metadata": {},
   "outputs": [
    {
     "data": {
      "image/png": "[encoded data removed]",
      "text/plain": [
       "<Figure size 432x288 with 2 Axes>"
      ]
     },
     "metadata": {
      "needs_background": "light"
     },
     "output_type": "display_data"
    }
   ],
   "source": [
    "plot_confusion_matrix(model, X_test, y_test)  \n",
    "plt.show()"
   ]
  },
  {
   "cell_type": "code",
   "execution_count": 65,
   "metadata": {},
   "outputs": [
    {
     "name": "stdout",
     "output_type": "stream",
     "text": [
      "              precision    recall  f1-score   support\n",
      "\n",
      "           0       0.98      1.00      0.99       291\n",
      "           1       1.00      0.84      0.91        44\n",
      "\n",
      "    accuracy                           0.98       335\n",
      "   macro avg       0.99      0.92      0.95       335\n",
      "weighted avg       0.98      0.98      0.98       335\n",
      "\n"
     ]
    }
   ],
   "source": [
    "print(classification_report(y_true=y_test, y_pred=y_pred))"
   ]
  },
  {
   "cell_type": "markdown",
   "metadata": {},
   "source": [
    "Region değişkeni çıkarılarak tekrar analiz edilecektir."
   ]
  },
  {
   "cell_type": "code",
   "execution_count": 66,
   "metadata": {},
   "outputs": [],
   "source": [
    "veriSeti1=veriSeti.copy()\n",
    "veriSeti1.drop(\"region\",axis=1,inplace=True)\n",
    "X = veriSeti1.iloc[:,0:5] \n",
    "y = veriSeti1.iloc[:,-1] \n",
    "X_train, X_test, y_train, y_test = train_test_split(X, y, test_size = 0.25, random_state = 0)"
   ]
  },
  {
   "cell_type": "code",
   "execution_count": 67,
   "metadata": {},
   "outputs": [
    {
     "name": "stdout",
     "output_type": "stream",
     "text": [
      "[-13.97515836] [[0.01497243 0.26792237 0.25279066 0.12952941 5.51620266]]\n"
     ]
    }
   ],
   "source": [
    "model=LogisticRegression(random_state=0)\n",
    "model.fit(X_train,y_train)\n",
    "y_pred=model.predict(X_test)\n",
    "print(model.intercept_,model.coef_)"
   ]
  },
  {
   "cell_type": "code",
   "execution_count": 68,
   "metadata": {},
   "outputs": [
    {
     "data": {
      "text/plain": [
       "array([[291,   0],\n",
       "       [  6,  38]], dtype=int64)"
      ]
     },
     "execution_count": 68,
     "metadata": {},
     "output_type": "execute_result"
    }
   ],
   "source": [
    "confusion_matrix(y_true=y_test, y_pred=y_pred)"
   ]
  },
  {
   "cell_type": "code",
   "execution_count": 69,
   "metadata": {},
   "outputs": [
    {
     "data": {
      "image/png": "[encoded data removed]",
      "text/plain": [
       "<Figure size 432x288 with 2 Axes>"
      ]
     },
     "metadata": {
      "needs_background": "light"
     },
     "output_type": "display_data"
    }
   ],
   "source": [
    "plot_confusion_matrix(model, X_test, y_test)  \n",
    "plt.show()"
   ]
  },
  {
   "cell_type": "code",
   "execution_count": 70,
   "metadata": {},
   "outputs": [
    {
     "name": "stdout",
     "output_type": "stream",
     "text": [
      "              precision    recall  f1-score   support\n",
      "\n",
      "           0       0.98      1.00      0.99       291\n",
      "           1       1.00      0.86      0.93        44\n",
      "\n",
      "    accuracy                           0.98       335\n",
      "   macro avg       0.99      0.93      0.96       335\n",
      "weighted avg       0.98      0.98      0.98       335\n",
      "\n"
     ]
    }
   ],
   "source": [
    "print(classification_report(y_true=y_test, y_pred=y_pred))"
   ]
  },
  {
   "cell_type": "markdown",
   "metadata": {},
   "source": [
    "sex değişkeni çıkarılarak tekrar analiz edilecektir."
   ]
  },
  {
   "cell_type": "code",
   "execution_count": 71,
   "metadata": {},
   "outputs": [],
   "source": [
    "veriSeti2=veriSeti1.copy()\n",
    "veriSeti2.drop(\"sex\",axis=1,inplace=True)\n",
    "X = veriSeti2.iloc[:,0:4] \n",
    "y = veriSeti2.iloc[:,-1] \n",
    "X_train, X_test, y_train, y_test = train_test_split(X, y, test_size = 0.25, random_state = 0)"
   ]
  },
  {
   "cell_type": "code",
   "execution_count": 72,
   "metadata": {},
   "outputs": [
    {
     "name": "stdout",
     "output_type": "stream",
     "text": [
      "[-13.89448539] [[0.01413851 0.25509242 0.13884789 5.53844494]]\n"
     ]
    }
   ],
   "source": [
    "model=LogisticRegression(random_state=0)\n",
    "model.fit(X_train,y_train)\n",
    "y_pred=model.predict(X_test)\n",
    "print(model.intercept_,model.coef_)"
   ]
  },
  {
   "cell_type": "code",
   "execution_count": 74,
   "metadata": {},
   "outputs": [
    {
     "data": {
      "text/plain": [
       "array([[291,   0],\n",
       "       [  8,  36]], dtype=int64)"
      ]
     },
     "execution_count": 74,
     "metadata": {},
     "output_type": "execute_result"
    }
   ],
   "source": [
    "confusion_matrix(y_true=y_test, y_pred=y_pred)"
   ]
  },
  {
   "cell_type": "code",
   "execution_count": 75,
   "metadata": {},
   "outputs": [
    {
     "data": {
      "image/png": "[encoded data removed]",
      "text/plain": [
       "<Figure size 432x288 with 2 Axes>"
      ]
     },
     "metadata": {
      "needs_background": "light"
     },
     "output_type": "display_data"
    }
   ],
   "source": [
    "plot_confusion_matrix(model, X_test, y_test)  \n",
    "plt.show()"
   ]
  },
  {
   "cell_type": "code",
   "execution_count": 76,
   "metadata": {},
   "outputs": [
    {
     "name": "stdout",
     "output_type": "stream",
     "text": [
      "              precision    recall  f1-score   support\n",
      "\n",
      "           0       0.97      1.00      0.99       291\n",
      "           1       1.00      0.82      0.90        44\n",
      "\n",
      "    accuracy                           0.98       335\n",
      "   macro avg       0.99      0.91      0.94       335\n",
      "weighted avg       0.98      0.98      0.98       335\n",
      "\n"
     ]
    }
   ],
   "source": [
    "print(classification_report(y_true=y_test, y_pred=y_pred))"
   ]
  },
  {
   "cell_type": "markdown",
   "metadata": {},
   "source": [
    "# <font color=\"green\"> K-en yakın komşu (k-Nearest Neighbors classifier)</font>"
   ]
  },
  {
   "cell_type": "code",
   "execution_count": 77,
   "metadata": {},
   "outputs": [],
   "source": [
    "from sklearn.neighbors import KNeighborsClassifier"
   ]
  },
  {
   "cell_type": "code",
   "execution_count": 78,
   "metadata": {},
   "outputs": [],
   "source": [
    "X = veriSeti.iloc[:,0:6] \n",
    "y = veriSeti.iloc[:,-1]\n",
    "X_train, X_test, y_train, y_test = train_test_split(X, y, test_size = 0.25, random_state = 0)\n",
    "classifier = KNeighborsClassifier(n_neighbors=5, metric='minkowski', p = 2)\n",
    "classifier.fit(X_train, y_train)\n",
    "y_pred = classifier.predict(X_test)"
   ]
  },
  {
   "cell_type": "code",
   "execution_count": 80,
   "metadata": {},
   "outputs": [
    {
     "data": {
      "text/plain": [
       "array([[288,   3],\n",
       "       [ 42,   2]], dtype=int64)"
      ]
     },
     "execution_count": 80,
     "metadata": {},
     "output_type": "execute_result"
    }
   ],
   "source": [
    "confusion_matrix(y_true=y_test, y_pred=y_pred)"
   ]
  },
  {
   "cell_type": "code",
   "execution_count": 81,
   "metadata": {},
   "outputs": [
    {
     "data": {
      "image/png": "[encoded data removed]",
      "text/plain": [
       "<Figure size 432x288 with 2 Axes>"
      ]
     },
     "metadata": {
      "needs_background": "light"
     },
     "output_type": "display_data"
    }
   ],
   "source": [
    "plot_confusion_matrix(classifier, X_test, y_test)  \n",
    "plt.show()"
   ]
  },
  {
   "cell_type": "code",
   "execution_count": 82,
   "metadata": {},
   "outputs": [
    {
     "name": "stdout",
     "output_type": "stream",
     "text": [
      "              precision    recall  f1-score   support\n",
      "\n",
      "           0       0.87      0.99      0.93       291\n",
      "           1       0.40      0.05      0.08        44\n",
      "\n",
      "    accuracy                           0.87       335\n",
      "   macro avg       0.64      0.52      0.50       335\n",
      "weighted avg       0.81      0.87      0.82       335\n",
      "\n"
     ]
    }
   ],
   "source": [
    "print(classification_report(y_true=y_test, y_pred=y_pred))"
   ]
  },
  {
   "cell_type": "markdown",
   "metadata": {},
   "source": [
    "Region değişkeni çıkarılarak tekrar analiz edilecektir."
   ]
  },
  {
   "cell_type": "code",
   "execution_count": 83,
   "metadata": {},
   "outputs": [],
   "source": [
    "veriSeti1=veriSeti.copy()\n",
    "veriSeti1.drop(\"region\",axis=1,inplace=True)\n",
    "X = veriSeti1.iloc[:,0:5] \n",
    "y = veriSeti1.iloc[:,-1] \n",
    "X_train, X_test, y_train, y_test = train_test_split(X, y, test_size = 0.25, random_state = 0)"
   ]
  },
  {
   "cell_type": "code",
   "execution_count": 84,
   "metadata": {},
   "outputs": [],
   "source": [
    "classifier = KNeighborsClassifier(n_neighbors=5, metric='minkowski', p = 2)\n",
    "classifier.fit(X_train, y_train)\n",
    "y_pred = classifier.predict(X_test)"
   ]
  },
  {
   "cell_type": "code",
   "execution_count": 85,
   "metadata": {},
   "outputs": [
    {
     "data": {
      "text/plain": [
       "array([[287,   4],\n",
       "       [ 39,   5]], dtype=int64)"
      ]
     },
     "execution_count": 85,
     "metadata": {},
     "output_type": "execute_result"
    }
   ],
   "source": [
    "confusion_matrix(y_true=y_test, y_pred=y_pred)"
   ]
  },
  {
   "cell_type": "code",
   "execution_count": 86,
   "metadata": {},
   "outputs": [
    {
     "data": {
      "image/png": "[encoded data removed]",
      "text/plain": [
       "<Figure size 432x288 with 2 Axes>"
      ]
     },
     "metadata": {
      "needs_background": "light"
     },
     "output_type": "display_data"
    }
   ],
   "source": [
    "plot_confusion_matrix(classifier, X_test, y_test)  \n",
    "plt.show()"
   ]
  },
  {
   "cell_type": "code",
   "execution_count": 87,
   "metadata": {},
   "outputs": [
    {
     "name": "stdout",
     "output_type": "stream",
     "text": [
      "              precision    recall  f1-score   support\n",
      "\n",
      "           0       0.88      0.99      0.93       291\n",
      "           1       0.56      0.11      0.19        44\n",
      "\n",
      "    accuracy                           0.87       335\n",
      "   macro avg       0.72      0.55      0.56       335\n",
      "weighted avg       0.84      0.87      0.83       335\n",
      "\n"
     ]
    }
   ],
   "source": [
    "print(classification_report(y_true=y_test, y_pred=y_pred))"
   ]
  },
  {
   "cell_type": "markdown",
   "metadata": {},
   "source": [
    "Sex değişkeni çıkarılarak tekrar analiz edilecektir."
   ]
  },
  {
   "cell_type": "code",
   "execution_count": 88,
   "metadata": {},
   "outputs": [],
   "source": [
    "veriSeti2=veriSeti1.copy()\n",
    "veriSeti2.drop(\"sex\",axis=1,inplace=True)\n",
    "X = veriSeti2.iloc[:,0:4] \n",
    "y = veriSeti2.iloc[:,-1] \n",
    "X_train, X_test, y_train, y_test = train_test_split(X, y, test_size = 0.25, random_state = 0)"
   ]
  },
  {
   "cell_type": "code",
   "execution_count": 89,
   "metadata": {},
   "outputs": [],
   "source": [
    "classifier = KNeighborsClassifier(n_neighbors=5, metric='minkowski', p = 2)\n",
    "classifier.fit(X_train, y_train)\n",
    "y_pred = classifier.predict(X_test)"
   ]
  },
  {
   "cell_type": "code",
   "execution_count": 90,
   "metadata": {},
   "outputs": [
    {
     "data": {
      "text/plain": [
       "array([[288,   3],\n",
       "       [ 41,   3]], dtype=int64)"
      ]
     },
     "execution_count": 90,
     "metadata": {},
     "output_type": "execute_result"
    }
   ],
   "source": [
    "confusion_matrix(y_true=y_test, y_pred=y_pred)"
   ]
  },
  {
   "cell_type": "code",
   "execution_count": 91,
   "metadata": {},
   "outputs": [
    {
     "data": {
      "image/png": "[encoded data removed]",
      "text/plain": [
       "<Figure size 432x288 with 2 Axes>"
      ]
     },
     "metadata": {
      "needs_background": "light"
     },
     "output_type": "display_data"
    }
   ],
   "source": [
    "plot_confusion_matrix(classifier, X_test, y_test)  \n",
    "plt.show()"
   ]
  },
  {
   "cell_type": "code",
   "execution_count": 92,
   "metadata": {},
   "outputs": [
    {
     "name": "stdout",
     "output_type": "stream",
     "text": [
      "              precision    recall  f1-score   support\n",
      "\n",
      "           0       0.88      0.99      0.93       291\n",
      "           1       0.50      0.07      0.12        44\n",
      "\n",
      "    accuracy                           0.87       335\n",
      "   macro avg       0.69      0.53      0.52       335\n",
      "weighted avg       0.83      0.87      0.82       335\n",
      "\n"
     ]
    }
   ],
   "source": [
    "print(classification_report(y_true=y_test, y_pred=y_pred))"
   ]
  },
  {
   "cell_type": "markdown",
   "metadata": {},
   "source": [
    "# <font color=\"green\"> Sonuç </font>"
   ]
  },
  {
   "cell_type": "markdown",
   "metadata": {},
   "source": [
    "Accuracy değerlerine bakıldığında Karar Ağaçları modeline en yüksek değer 0.72, Random Forest modelinde 0.80, Lojistik Regresyon modeline göre 0.98, K en yakın komşuya göre 0.87 çıkmıştır. Sonuçlar Karar ağaçları algoritması dışında yüksek değerler çıkmıştır ancak Lojistik Regresyon modelinde 0.98 ile en yüksek sonuca ulaşmıştır.insurance veri seti için en iyi algoritmanın Lojistik Regresyon olduğu düşünülmektedir."
   ]
  }
 ],
 "metadata": {
  "kernelspec": {
   "display_name": "Python 3",
   "language": "python",
   "name": "python3"
  },
  "language_info": {
   "codemirror_mode": {
    "name": "ipython",
    "version": 3
   },
   "file_extension": ".py",
   "mimetype": "text/x-python",
   "name": "python",
   "nbconvert_exporter": "python",
   "pygments_lexer": "ipython3",
   "version": "3.8.3"
  }
 },
 "nbformat": 4,
 "nbformat_minor": 4
}
