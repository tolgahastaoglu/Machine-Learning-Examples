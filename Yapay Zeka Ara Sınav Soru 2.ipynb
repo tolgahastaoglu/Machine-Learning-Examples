{
 "cells": [
  {
   "cell_type": "markdown",
   "id": "bf13d87d",
   "metadata": {},
   "source": [
    "# <font color='red'> Yapay Zeka Ara Sınav  Soru 2 </font>\n",
    "Tolga HASTAOĞLU 21040201015"
   ]
  },
  {
   "cell_type": "markdown",
   "id": "3b7dc2b1",
   "metadata": {},
   "source": [
    "Aşağıdaki veri üzerinde sınıflandırıcılar ile tahminleme işlemini yapınız.  Lojistik Regresyon  Naïve Bayes  Destek Vektör Makineleri (Support Vector Machines-SVM)  kNN  Yapay Sinir Ağları (Neural Network) Her bir sınıflandırıcıdan alınan sonuçları ( Accuracy, Precision, Recall,F1-Score ) tablo halinde sonuçlarını gösteriniz. Rapora sonuçlarını ve karışıklık Matrisi (Confusion Matrix)lerini yazınız/çiziniz."
   ]
  },
  {
   "cell_type": "markdown",
   "id": "fe4fa6a3",
   "metadata": {},
   "source": [
    "# <font color='green'> Veri Önişleme </font>"
   ]
  },
  {
   "cell_type": "code",
   "execution_count": 1,
   "id": "adaad9aa",
   "metadata": {},
   "outputs": [],
   "source": [
    "import pandas as pd \n",
    "import numpy as np\n",
    "import seaborn as sns\n",
    "import matplotlib.pyplot as plt\n",
    "from sklearn.feature_selection import SelectKBest\n",
    "from sklearn.feature_selection import chi2,f_classif\n",
    "from sklearn.model_selection import train_test_split,cross_val_score\n",
    "from sklearn.linear_model import LogisticRegression\n",
    "from sklearn.preprocessing import MinMaxScaler,StandardScaler\n",
    "from sklearn.ensemble import ExtraTreesClassifier\n",
    "from sklearn.metrics import confusion_matrix, classification_report\n",
    "from sklearn.metrics import plot_confusion_matrix\n",
    "from sklearn import preprocessing"
   ]
  },
  {
   "cell_type": "code",
   "execution_count": 2,
   "id": "49b13bfe",
   "metadata": {},
   "outputs": [
    {
     "data": {
      "text/html": [
       "<div>\n",
       "<style scoped>\n",
       "    .dataframe tbody tr th:only-of-type {\n",
       "        vertical-align: middle;\n",
       "    }\n",
       "\n",
       "    .dataframe tbody tr th {\n",
       "        vertical-align: top;\n",
       "    }\n",
       "\n",
       "    .dataframe thead th {\n",
       "        text-align: right;\n",
       "    }\n",
       "</style>\n",
       "<table border=\"1\" class=\"dataframe\">\n",
       "  <thead>\n",
       "    <tr style=\"text-align: right;\">\n",
       "      <th></th>\n",
       "      <th>age</th>\n",
       "      <th>job</th>\n",
       "      <th>marital</th>\n",
       "      <th>education</th>\n",
       "      <th>default</th>\n",
       "      <th>balance</th>\n",
       "      <th>housing</th>\n",
       "      <th>loan</th>\n",
       "      <th>contact</th>\n",
       "      <th>day</th>\n",
       "      <th>month</th>\n",
       "      <th>duration</th>\n",
       "      <th>campaign</th>\n",
       "      <th>pdays</th>\n",
       "      <th>previous</th>\n",
       "      <th>poutcome</th>\n",
       "      <th>deposit</th>\n",
       "    </tr>\n",
       "  </thead>\n",
       "  <tbody>\n",
       "    <tr>\n",
       "      <th>0</th>\n",
       "      <td>59</td>\n",
       "      <td>admin.</td>\n",
       "      <td>married</td>\n",
       "      <td>secondary</td>\n",
       "      <td>no</td>\n",
       "      <td>2343</td>\n",
       "      <td>yes</td>\n",
       "      <td>no</td>\n",
       "      <td>unknown</td>\n",
       "      <td>5</td>\n",
       "      <td>may</td>\n",
       "      <td>1042</td>\n",
       "      <td>1</td>\n",
       "      <td>-1</td>\n",
       "      <td>0</td>\n",
       "      <td>unknown</td>\n",
       "      <td>yes</td>\n",
       "    </tr>\n",
       "    <tr>\n",
       "      <th>1</th>\n",
       "      <td>56</td>\n",
       "      <td>admin.</td>\n",
       "      <td>married</td>\n",
       "      <td>secondary</td>\n",
       "      <td>no</td>\n",
       "      <td>45</td>\n",
       "      <td>no</td>\n",
       "      <td>no</td>\n",
       "      <td>unknown</td>\n",
       "      <td>5</td>\n",
       "      <td>may</td>\n",
       "      <td>1467</td>\n",
       "      <td>1</td>\n",
       "      <td>-1</td>\n",
       "      <td>0</td>\n",
       "      <td>unknown</td>\n",
       "      <td>yes</td>\n",
       "    </tr>\n",
       "    <tr>\n",
       "      <th>2</th>\n",
       "      <td>41</td>\n",
       "      <td>technician</td>\n",
       "      <td>married</td>\n",
       "      <td>secondary</td>\n",
       "      <td>no</td>\n",
       "      <td>1270</td>\n",
       "      <td>yes</td>\n",
       "      <td>no</td>\n",
       "      <td>unknown</td>\n",
       "      <td>5</td>\n",
       "      <td>may</td>\n",
       "      <td>1389</td>\n",
       "      <td>1</td>\n",
       "      <td>-1</td>\n",
       "      <td>0</td>\n",
       "      <td>unknown</td>\n",
       "      <td>yes</td>\n",
       "    </tr>\n",
       "    <tr>\n",
       "      <th>3</th>\n",
       "      <td>55</td>\n",
       "      <td>services</td>\n",
       "      <td>married</td>\n",
       "      <td>secondary</td>\n",
       "      <td>no</td>\n",
       "      <td>2476</td>\n",
       "      <td>yes</td>\n",
       "      <td>no</td>\n",
       "      <td>unknown</td>\n",
       "      <td>5</td>\n",
       "      <td>may</td>\n",
       "      <td>579</td>\n",
       "      <td>1</td>\n",
       "      <td>-1</td>\n",
       "      <td>0</td>\n",
       "      <td>unknown</td>\n",
       "      <td>yes</td>\n",
       "    </tr>\n",
       "    <tr>\n",
       "      <th>4</th>\n",
       "      <td>54</td>\n",
       "      <td>admin.</td>\n",
       "      <td>married</td>\n",
       "      <td>tertiary</td>\n",
       "      <td>no</td>\n",
       "      <td>184</td>\n",
       "      <td>no</td>\n",
       "      <td>no</td>\n",
       "      <td>unknown</td>\n",
       "      <td>5</td>\n",
       "      <td>may</td>\n",
       "      <td>673</td>\n",
       "      <td>2</td>\n",
       "      <td>-1</td>\n",
       "      <td>0</td>\n",
       "      <td>unknown</td>\n",
       "      <td>yes</td>\n",
       "    </tr>\n",
       "  </tbody>\n",
       "</table>\n",
       "</div>"
      ],
      "text/plain": [
       "   age         job  marital  education default  balance housing loan  contact  \\\n",
       "0   59      admin.  married  secondary      no     2343     yes   no  unknown   \n",
       "1   56      admin.  married  secondary      no       45      no   no  unknown   \n",
       "2   41  technician  married  secondary      no     1270     yes   no  unknown   \n",
       "3   55    services  married  secondary      no     2476     yes   no  unknown   \n",
       "4   54      admin.  married   tertiary      no      184      no   no  unknown   \n",
       "\n",
       "   day month  duration  campaign  pdays  previous poutcome deposit  \n",
       "0    5   may      1042         1     -1         0  unknown     yes  \n",
       "1    5   may      1467         1     -1         0  unknown     yes  \n",
       "2    5   may      1389         1     -1         0  unknown     yes  \n",
       "3    5   may       579         1     -1         0  unknown     yes  \n",
       "4    5   may       673         2     -1         0  unknown     yes  "
      ]
     },
     "execution_count": 2,
     "metadata": {},
     "output_type": "execute_result"
    }
   ],
   "source": [
    "veriSeti=pd.read_csv(\"bank.csv\")\n",
    "veriSeti.head()"
   ]
  },
  {
   "cell_type": "code",
   "execution_count": 3,
   "id": "ca94284d",
   "metadata": {},
   "outputs": [
    {
     "name": "stdout",
     "output_type": "stream",
     "text": [
      "<class 'pandas.core.frame.DataFrame'>\n",
      "RangeIndex: 11162 entries, 0 to 11161\n",
      "Data columns (total 17 columns):\n",
      " #   Column     Non-Null Count  Dtype \n",
      "---  ------     --------------  ----- \n",
      " 0   age        11162 non-null  int64 \n",
      " 1   job        11162 non-null  object\n",
      " 2   marital    11162 non-null  object\n",
      " 3   education  11162 non-null  object\n",
      " 4   default    11162 non-null  object\n",
      " 5   balance    11162 non-null  int64 \n",
      " 6   housing    11162 non-null  object\n",
      " 7   loan       11162 non-null  object\n",
      " 8   contact    11162 non-null  object\n",
      " 9   day        11162 non-null  int64 \n",
      " 10  month      11162 non-null  object\n",
      " 11  duration   11162 non-null  int64 \n",
      " 12  campaign   11162 non-null  int64 \n",
      " 13  pdays      11162 non-null  int64 \n",
      " 14  previous   11162 non-null  int64 \n",
      " 15  poutcome   11162 non-null  object\n",
      " 16  deposit    11162 non-null  object\n",
      "dtypes: int64(7), object(10)\n",
      "memory usage: 1.4+ MB\n"
     ]
    }
   ],
   "source": [
    "veriSeti.info()"
   ]
  },
  {
   "cell_type": "markdown",
   "id": "35cd5415",
   "metadata": {},
   "source": [
    "öncelikli olarak kategorik verileri sayısallaştıracağız"
   ]
  },
  {
   "cell_type": "code",
   "execution_count": 4,
   "id": "4d6a8b4a",
   "metadata": {},
   "outputs": [],
   "source": [
    "job_labels=[\"admin.\",\"blue-collar\",\"entrepreneur\",\"housemaid\",\"management\",\"retired\",\"self-employed\",\"services\",\"student\",\"technician\",\"unemployed\",\"unknown\"]\n",
    "job_encoder=preprocessing.LabelEncoder()\n",
    "job_encoder.fit(job_labels)\n",
    "veriSeti[\"job\"]=job_encoder.transform(veriSeti[\"job\"])\n"
   ]
  },
  {
   "cell_type": "code",
   "execution_count": 5,
   "id": "f0df440a",
   "metadata": {},
   "outputs": [],
   "source": [
    "marrital_labels=[\"divorced\",\"married\",\"single\",\"unknown\"]\n",
    "marrital_encoder=preprocessing.LabelEncoder()\n",
    "marrital_encoder.fit(marrital_labels)\n",
    "veriSeti[\"marital\"]=marrital_encoder.transform(veriSeti[\"marital\"])\n",
    "\n"
   ]
  },
  {
   "cell_type": "code",
   "execution_count": 6,
   "id": "4f225a53",
   "metadata": {},
   "outputs": [],
   "source": [
    "edu_labels=[\"secondary\",\"tertiary\",\"primary\",\"unknown\"]\n",
    "edu_encoder=preprocessing.LabelEncoder()\n",
    "edu_encoder.fit(edu_labels)\n",
    "veriSeti[\"education\"]=edu_encoder.transform(veriSeti[\"education\"])"
   ]
  },
  {
   "cell_type": "code",
   "execution_count": 7,
   "id": "1fd32fe0",
   "metadata": {},
   "outputs": [],
   "source": [
    "default_labels=[\"no\",\"yes\",\"unknown\"]\n",
    "default_encoder=preprocessing.LabelEncoder()\n",
    "default_encoder.fit(default_labels)\n",
    "veriSeti[\"default\"]=default_encoder.transform(veriSeti[\"default\"])"
   ]
  },
  {
   "cell_type": "code",
   "execution_count": 8,
   "id": "53456f7b",
   "metadata": {},
   "outputs": [],
   "source": [
    "housing_labels=[\"no\",\"yes\",\"unknown\"]\n",
    "housing_encoder=preprocessing.LabelEncoder()\n",
    "housing_encoder.fit(housing_labels)\n",
    "veriSeti[\"housing\"]=housing_encoder.transform(veriSeti[\"housing\"])"
   ]
  },
  {
   "cell_type": "code",
   "execution_count": 9,
   "id": "da29459a",
   "metadata": {},
   "outputs": [],
   "source": [
    "loan_labels=[\"no\",\"yes\",\"unknown\"]\n",
    "loan_encoder=preprocessing.LabelEncoder()\n",
    "loan_encoder.fit(loan_labels)\n",
    "veriSeti[\"loan\"]=loan_encoder.transform(veriSeti[\"loan\"])"
   ]
  },
  {
   "cell_type": "code",
   "execution_count": 10,
   "id": "611d7aaa",
   "metadata": {},
   "outputs": [],
   "source": [
    "contact_labels=[\"cellular\",\"telephone\",\"unknown\"]\n",
    "contact_encoder=preprocessing.LabelEncoder()\n",
    "contact_encoder.fit(contact_labels)\n",
    "veriSeti[\"contact\"]=contact_encoder.transform(veriSeti[\"contact\"])"
   ]
  },
  {
   "cell_type": "code",
   "execution_count": 11,
   "id": "1e73bdec",
   "metadata": {},
   "outputs": [],
   "source": [
    "month_labels=[\"jan\",\"feb\",\"mar\",\"apr\",\"may\",\"jun\",\"jul\",\"aug\",\"sep\",\"oct\",\"nov\",\"dec\"]\n",
    "month_encoder=preprocessing.LabelEncoder()\n",
    "month_encoder.fit(month_labels)\n",
    "veriSeti[\"month\"]=month_encoder.transform(veriSeti[\"month\"])"
   ]
  },
  {
   "cell_type": "code",
   "execution_count": 12,
   "id": "4d315d33",
   "metadata": {},
   "outputs": [],
   "source": [
    "poutcome_labels=[\"failure\",\"success\",\"other\",\"unknown\"]\n",
    "poutcome_encoder=preprocessing.LabelEncoder()\n",
    "poutcome_encoder.fit(poutcome_labels)\n",
    "veriSeti[\"poutcome\"]=poutcome_encoder.transform(veriSeti[\"poutcome\"])"
   ]
  },
  {
   "cell_type": "code",
   "execution_count": 13,
   "id": "2fb28633",
   "metadata": {},
   "outputs": [],
   "source": [
    "deposit_labels=[\"no\",\"yes\"]\n",
    "deposit_encoder=preprocessing.LabelEncoder()\n",
    "deposit_encoder.fit(deposit_labels)\n",
    "veriSeti[\"deposit\"]=deposit_encoder.transform(veriSeti[\"deposit\"])"
   ]
  },
  {
   "cell_type": "code",
   "execution_count": 14,
   "id": "b76b3a2f",
   "metadata": {},
   "outputs": [
    {
     "data": {
      "text/html": [
       "<div>\n",
       "<style scoped>\n",
       "    .dataframe tbody tr th:only-of-type {\n",
       "        vertical-align: middle;\n",
       "    }\n",
       "\n",
       "    .dataframe tbody tr th {\n",
       "        vertical-align: top;\n",
       "    }\n",
       "\n",
       "    .dataframe thead th {\n",
       "        text-align: right;\n",
       "    }\n",
       "</style>\n",
       "<table border=\"1\" class=\"dataframe\">\n",
       "  <thead>\n",
       "    <tr style=\"text-align: right;\">\n",
       "      <th></th>\n",
       "      <th>age</th>\n",
       "      <th>job</th>\n",
       "      <th>marital</th>\n",
       "      <th>education</th>\n",
       "      <th>default</th>\n",
       "      <th>balance</th>\n",
       "      <th>housing</th>\n",
       "      <th>loan</th>\n",
       "      <th>contact</th>\n",
       "      <th>day</th>\n",
       "      <th>month</th>\n",
       "      <th>duration</th>\n",
       "      <th>campaign</th>\n",
       "      <th>pdays</th>\n",
       "      <th>previous</th>\n",
       "      <th>poutcome</th>\n",
       "      <th>deposit</th>\n",
       "    </tr>\n",
       "  </thead>\n",
       "  <tbody>\n",
       "    <tr>\n",
       "      <th>0</th>\n",
       "      <td>59</td>\n",
       "      <td>0</td>\n",
       "      <td>1</td>\n",
       "      <td>1</td>\n",
       "      <td>0</td>\n",
       "      <td>2343</td>\n",
       "      <td>2</td>\n",
       "      <td>0</td>\n",
       "      <td>2</td>\n",
       "      <td>5</td>\n",
       "      <td>8</td>\n",
       "      <td>1042</td>\n",
       "      <td>1</td>\n",
       "      <td>-1</td>\n",
       "      <td>0</td>\n",
       "      <td>3</td>\n",
       "      <td>1</td>\n",
       "    </tr>\n",
       "    <tr>\n",
       "      <th>1</th>\n",
       "      <td>56</td>\n",
       "      <td>0</td>\n",
       "      <td>1</td>\n",
       "      <td>1</td>\n",
       "      <td>0</td>\n",
       "      <td>45</td>\n",
       "      <td>0</td>\n",
       "      <td>0</td>\n",
       "      <td>2</td>\n",
       "      <td>5</td>\n",
       "      <td>8</td>\n",
       "      <td>1467</td>\n",
       "      <td>1</td>\n",
       "      <td>-1</td>\n",
       "      <td>0</td>\n",
       "      <td>3</td>\n",
       "      <td>1</td>\n",
       "    </tr>\n",
       "    <tr>\n",
       "      <th>2</th>\n",
       "      <td>41</td>\n",
       "      <td>9</td>\n",
       "      <td>1</td>\n",
       "      <td>1</td>\n",
       "      <td>0</td>\n",
       "      <td>1270</td>\n",
       "      <td>2</td>\n",
       "      <td>0</td>\n",
       "      <td>2</td>\n",
       "      <td>5</td>\n",
       "      <td>8</td>\n",
       "      <td>1389</td>\n",
       "      <td>1</td>\n",
       "      <td>-1</td>\n",
       "      <td>0</td>\n",
       "      <td>3</td>\n",
       "      <td>1</td>\n",
       "    </tr>\n",
       "    <tr>\n",
       "      <th>3</th>\n",
       "      <td>55</td>\n",
       "      <td>7</td>\n",
       "      <td>1</td>\n",
       "      <td>1</td>\n",
       "      <td>0</td>\n",
       "      <td>2476</td>\n",
       "      <td>2</td>\n",
       "      <td>0</td>\n",
       "      <td>2</td>\n",
       "      <td>5</td>\n",
       "      <td>8</td>\n",
       "      <td>579</td>\n",
       "      <td>1</td>\n",
       "      <td>-1</td>\n",
       "      <td>0</td>\n",
       "      <td>3</td>\n",
       "      <td>1</td>\n",
       "    </tr>\n",
       "    <tr>\n",
       "      <th>4</th>\n",
       "      <td>54</td>\n",
       "      <td>0</td>\n",
       "      <td>1</td>\n",
       "      <td>2</td>\n",
       "      <td>0</td>\n",
       "      <td>184</td>\n",
       "      <td>0</td>\n",
       "      <td>0</td>\n",
       "      <td>2</td>\n",
       "      <td>5</td>\n",
       "      <td>8</td>\n",
       "      <td>673</td>\n",
       "      <td>2</td>\n",
       "      <td>-1</td>\n",
       "      <td>0</td>\n",
       "      <td>3</td>\n",
       "      <td>1</td>\n",
       "    </tr>\n",
       "    <tr>\n",
       "      <th>...</th>\n",
       "      <td>...</td>\n",
       "      <td>...</td>\n",
       "      <td>...</td>\n",
       "      <td>...</td>\n",
       "      <td>...</td>\n",
       "      <td>...</td>\n",
       "      <td>...</td>\n",
       "      <td>...</td>\n",
       "      <td>...</td>\n",
       "      <td>...</td>\n",
       "      <td>...</td>\n",
       "      <td>...</td>\n",
       "      <td>...</td>\n",
       "      <td>...</td>\n",
       "      <td>...</td>\n",
       "      <td>...</td>\n",
       "      <td>...</td>\n",
       "    </tr>\n",
       "    <tr>\n",
       "      <th>11157</th>\n",
       "      <td>33</td>\n",
       "      <td>1</td>\n",
       "      <td>2</td>\n",
       "      <td>0</td>\n",
       "      <td>0</td>\n",
       "      <td>1</td>\n",
       "      <td>2</td>\n",
       "      <td>0</td>\n",
       "      <td>0</td>\n",
       "      <td>20</td>\n",
       "      <td>0</td>\n",
       "      <td>257</td>\n",
       "      <td>1</td>\n",
       "      <td>-1</td>\n",
       "      <td>0</td>\n",
       "      <td>3</td>\n",
       "      <td>0</td>\n",
       "    </tr>\n",
       "    <tr>\n",
       "      <th>11158</th>\n",
       "      <td>39</td>\n",
       "      <td>7</td>\n",
       "      <td>1</td>\n",
       "      <td>1</td>\n",
       "      <td>0</td>\n",
       "      <td>733</td>\n",
       "      <td>0</td>\n",
       "      <td>0</td>\n",
       "      <td>2</td>\n",
       "      <td>16</td>\n",
       "      <td>6</td>\n",
       "      <td>83</td>\n",
       "      <td>4</td>\n",
       "      <td>-1</td>\n",
       "      <td>0</td>\n",
       "      <td>3</td>\n",
       "      <td>0</td>\n",
       "    </tr>\n",
       "    <tr>\n",
       "      <th>11159</th>\n",
       "      <td>32</td>\n",
       "      <td>9</td>\n",
       "      <td>2</td>\n",
       "      <td>1</td>\n",
       "      <td>0</td>\n",
       "      <td>29</td>\n",
       "      <td>0</td>\n",
       "      <td>0</td>\n",
       "      <td>0</td>\n",
       "      <td>19</td>\n",
       "      <td>1</td>\n",
       "      <td>156</td>\n",
       "      <td>2</td>\n",
       "      <td>-1</td>\n",
       "      <td>0</td>\n",
       "      <td>3</td>\n",
       "      <td>0</td>\n",
       "    </tr>\n",
       "    <tr>\n",
       "      <th>11160</th>\n",
       "      <td>43</td>\n",
       "      <td>9</td>\n",
       "      <td>1</td>\n",
       "      <td>1</td>\n",
       "      <td>0</td>\n",
       "      <td>0</td>\n",
       "      <td>0</td>\n",
       "      <td>2</td>\n",
       "      <td>0</td>\n",
       "      <td>8</td>\n",
       "      <td>8</td>\n",
       "      <td>9</td>\n",
       "      <td>2</td>\n",
       "      <td>172</td>\n",
       "      <td>5</td>\n",
       "      <td>0</td>\n",
       "      <td>0</td>\n",
       "    </tr>\n",
       "    <tr>\n",
       "      <th>11161</th>\n",
       "      <td>34</td>\n",
       "      <td>9</td>\n",
       "      <td>1</td>\n",
       "      <td>1</td>\n",
       "      <td>0</td>\n",
       "      <td>0</td>\n",
       "      <td>0</td>\n",
       "      <td>0</td>\n",
       "      <td>0</td>\n",
       "      <td>9</td>\n",
       "      <td>5</td>\n",
       "      <td>628</td>\n",
       "      <td>1</td>\n",
       "      <td>-1</td>\n",
       "      <td>0</td>\n",
       "      <td>3</td>\n",
       "      <td>0</td>\n",
       "    </tr>\n",
       "  </tbody>\n",
       "</table>\n",
       "<p>11162 rows × 17 columns</p>\n",
       "</div>"
      ],
      "text/plain": [
       "       age  job  marital  education  default  balance  housing  loan  contact  \\\n",
       "0       59    0        1          1        0     2343        2     0        2   \n",
       "1       56    0        1          1        0       45        0     0        2   \n",
       "2       41    9        1          1        0     1270        2     0        2   \n",
       "3       55    7        1          1        0     2476        2     0        2   \n",
       "4       54    0        1          2        0      184        0     0        2   \n",
       "...    ...  ...      ...        ...      ...      ...      ...   ...      ...   \n",
       "11157   33    1        2          0        0        1        2     0        0   \n",
       "11158   39    7        1          1        0      733        0     0        2   \n",
       "11159   32    9        2          1        0       29        0     0        0   \n",
       "11160   43    9        1          1        0        0        0     2        0   \n",
       "11161   34    9        1          1        0        0        0     0        0   \n",
       "\n",
       "       day  month  duration  campaign  pdays  previous  poutcome  deposit  \n",
       "0        5      8      1042         1     -1         0         3        1  \n",
       "1        5      8      1467         1     -1         0         3        1  \n",
       "2        5      8      1389         1     -1         0         3        1  \n",
       "3        5      8       579         1     -1         0         3        1  \n",
       "4        5      8       673         2     -1         0         3        1  \n",
       "...    ...    ...       ...       ...    ...       ...       ...      ...  \n",
       "11157   20      0       257         1     -1         0         3        0  \n",
       "11158   16      6        83         4     -1         0         3        0  \n",
       "11159   19      1       156         2     -1         0         3        0  \n",
       "11160    8      8         9         2    172         5         0        0  \n",
       "11161    9      5       628         1     -1         0         3        0  \n",
       "\n",
       "[11162 rows x 17 columns]"
      ]
     },
     "execution_count": 14,
     "metadata": {},
     "output_type": "execute_result"
    }
   ],
   "source": [
    "veriSeti"
   ]
  },
  {
   "cell_type": "code",
   "execution_count": 15,
   "id": "78294fc4",
   "metadata": {},
   "outputs": [
    {
     "name": "stdout",
     "output_type": "stream",
     "text": [
      "<class 'pandas.core.frame.DataFrame'>\n",
      "RangeIndex: 11162 entries, 0 to 11161\n",
      "Data columns (total 17 columns):\n",
      " #   Column     Non-Null Count  Dtype\n",
      "---  ------     --------------  -----\n",
      " 0   age        11162 non-null  int64\n",
      " 1   job        11162 non-null  int32\n",
      " 2   marital    11162 non-null  int32\n",
      " 3   education  11162 non-null  int32\n",
      " 4   default    11162 non-null  int32\n",
      " 5   balance    11162 non-null  int64\n",
      " 6   housing    11162 non-null  int32\n",
      " 7   loan       11162 non-null  int32\n",
      " 8   contact    11162 non-null  int32\n",
      " 9   day        11162 non-null  int64\n",
      " 10  month      11162 non-null  int32\n",
      " 11  duration   11162 non-null  int64\n",
      " 12  campaign   11162 non-null  int64\n",
      " 13  pdays      11162 non-null  int64\n",
      " 14  previous   11162 non-null  int64\n",
      " 15  poutcome   11162 non-null  int32\n",
      " 16  deposit    11162 non-null  int32\n",
      "dtypes: int32(10), int64(7)\n",
      "memory usage: 1.0 MB\n"
     ]
    }
   ],
   "source": [
    "veriSeti.info()"
   ]
  },
  {
   "cell_type": "markdown",
   "id": "63343a21",
   "metadata": {},
   "source": [
    "Görüldüğü üzere verilerimizin tümü sayısal hale geldi, kayıp veri olmadığı da görülmektedir. Yinelen veri olup olmadığının kontrolü yapılacak ve yinelenen veri varsa veri setinden çıkarılacaktır."
   ]
  },
  {
   "cell_type": "code",
   "execution_count": 16,
   "id": "3a378010",
   "metadata": {},
   "outputs": [
    {
     "data": {
      "text/html": [
       "<div>\n",
       "<style scoped>\n",
       "    .dataframe tbody tr th:only-of-type {\n",
       "        vertical-align: middle;\n",
       "    }\n",
       "\n",
       "    .dataframe tbody tr th {\n",
       "        vertical-align: top;\n",
       "    }\n",
       "\n",
       "    .dataframe thead th {\n",
       "        text-align: right;\n",
       "    }\n",
       "</style>\n",
       "<table border=\"1\" class=\"dataframe\">\n",
       "  <thead>\n",
       "    <tr style=\"text-align: right;\">\n",
       "      <th></th>\n",
       "      <th>age</th>\n",
       "      <th>job</th>\n",
       "      <th>marital</th>\n",
       "      <th>education</th>\n",
       "      <th>default</th>\n",
       "      <th>balance</th>\n",
       "      <th>housing</th>\n",
       "      <th>loan</th>\n",
       "      <th>contact</th>\n",
       "      <th>day</th>\n",
       "      <th>month</th>\n",
       "      <th>duration</th>\n",
       "      <th>campaign</th>\n",
       "      <th>pdays</th>\n",
       "      <th>previous</th>\n",
       "      <th>poutcome</th>\n",
       "      <th>deposit</th>\n",
       "    </tr>\n",
       "  </thead>\n",
       "  <tbody>\n",
       "  </tbody>\n",
       "</table>\n",
       "</div>"
      ],
      "text/plain": [
       "Empty DataFrame\n",
       "Columns: [age, job, marital, education, default, balance, housing, loan, contact, day, month, duration, campaign, pdays, previous, poutcome, deposit]\n",
       "Index: []"
      ]
     },
     "execution_count": 16,
     "metadata": {},
     "output_type": "execute_result"
    }
   ],
   "source": [
    "veriSeti[veriSeti.duplicated()==True]"
   ]
  },
  {
   "cell_type": "code",
   "execution_count": 17,
   "id": "08748911",
   "metadata": {},
   "outputs": [],
   "source": [
    "# İlk 15 veri bağımsız değişken, 16. veri ise bağımlı değişkendir, öznitelik seçimi için X ve y seçilmiştir.\n",
    "X = veriSeti.iloc[:,0:16] \n",
    "y = veriSeti.iloc[:,-1] "
   ]
  },
  {
   "cell_type": "code",
   "execution_count": 18,
   "id": "b172f9f9",
   "metadata": {},
   "outputs": [
    {
     "name": "stdout",
     "output_type": "stream",
     "text": [
      "[0.07812234 0.05113745 0.02696254 0.03422706 0.00322281 0.07341083\n",
      " 0.03632529 0.01595712 0.05651869 0.07863428 0.0906159  0.30145476\n",
      " 0.05341625 0.03183954 0.02049447 0.04766067]\n"
     ]
    },
    {
     "data": {
      "image/png": "[encoded data removed]",
      "text/plain": [
       "<Figure size 432x288 with 1 Axes>"
      ]
     },
     "metadata": {
      "needs_background": "light"
     },
     "output_type": "display_data"
    }
   ],
   "source": [
    "#Özniteliklerinin önemliliğine bakılarak çıkarılabilecek öznitelik olup olmadığı kontrol edilir.\n",
    "model = ExtraTreesClassifier()\n",
    "model.fit(X,y)\n",
    "print(model.feature_importances_)\n",
    "oznitelik_onemliligi = pd.Series(model.feature_importances_, index=X.\n",
    "columns)\n",
    "oznitelik_onemliligi.nlargest(15).plot(kind='barh')\n",
    "plt.show()"
   ]
  },
  {
   "cell_type": "code",
   "execution_count": 19,
   "id": "ba5ea530",
   "metadata": {},
   "outputs": [
    {
     "name": "stdout",
     "output_type": "stream",
     "text": [
      "     degişken        score\n",
      "11   duration  2864.172247\n",
      "8     contact   743.025981\n",
      "6     housing   484.045466\n",
      "13      pdays   262.492195\n",
      "14   previous   222.677159\n",
      "12   campaign   186.129893\n",
      "15   poutcome   169.651732\n",
      "7        loan   138.153056\n",
      "3   education   103.694195\n",
      "5     balance    73.940086\n",
      "2     marital    51.247746\n",
      "1         job    45.032709\n",
      "9         day    35.518905\n",
      "4     default    18.498957\n",
      "10      month    15.399674\n"
     ]
    }
   ],
   "source": [
    "# Öznitelikler skorlandırılırken X değişkeninin içerisinde negatif değerler olduğu için ki-kare kullanılmamış, f_classif kullanılmıştır.\n",
    "bestfeatures = SelectKBest(score_func=f_classif, k=5)\n",
    "fit = bestfeatures.fit(X,y)\n",
    "dfscores = pd.DataFrame(fit.scores_)\n",
    "dfcolumns = pd.DataFrame(X.columns)\n",
    "scores = pd.concat([dfcolumns,dfscores],axis=1)\n",
    "scores.columns = ['degişken','score']\n",
    "print(scores.nlargest(15,'score'))"
   ]
  },
  {
   "cell_type": "markdown",
   "id": "0e51c57a",
   "metadata": {},
   "source": [
    "# <font color='green'>Lojistik regresyon ile sınıflama ve sonuçları</font>"
   ]
  },
  {
   "cell_type": "code",
   "execution_count": 20,
   "id": "e007f1cb",
   "metadata": {},
   "outputs": [],
   "source": [
    "from sklearn import linear_model"
   ]
  },
  {
   "cell_type": "code",
   "execution_count": 21,
   "id": "0cc58be8",
   "metadata": {},
   "outputs": [
    {
     "data": {
      "text/plain": [
       "0    5873\n",
       "1    5289\n",
       "Name: deposit, dtype: int64"
      ]
     },
     "execution_count": 21,
     "metadata": {},
     "output_type": "execute_result"
    }
   ],
   "source": [
    "#Lojistik regresyon kullanılabilmesi için verinin 2 sınıftan oluşması gerekmektedir. O nedenle önce bağımlı değişkende bulunan \n",
    "#faktörler kontrol edilir.\n",
    "veriSeti[\"deposit\"].value_counts()"
   ]
  },
  {
   "cell_type": "code",
   "execution_count": 22,
   "id": "eb3eb5c0",
   "metadata": {},
   "outputs": [],
   "source": [
    "X = veriSeti.iloc[:,0:16] \n",
    "y = veriSeti.iloc[:,-1] "
   ]
  },
  {
   "cell_type": "code",
   "execution_count": 23,
   "id": "279a9038",
   "metadata": {},
   "outputs": [],
   "source": [
    "# Öncelikle %75 eğitim, %25 test verisi ile çalışılacaktır.\n",
    "X_train, X_test, y_train, y_test= train_test_split(X,y,test_size=0.25, random_state=5)"
   ]
  },
  {
   "cell_type": "code",
   "execution_count": 24,
   "id": "ae4ba665",
   "metadata": {},
   "outputs": [],
   "source": [
    "sc=StandardScaler()\n",
    "X_train=sc.fit_transform(X_train)\n",
    "X_test=sc.fit_transform(X_test)\n"
   ]
  },
  {
   "cell_type": "code",
   "execution_count": 25,
   "id": "54830745",
   "metadata": {},
   "outputs": [
    {
     "data": {
      "text/plain": [
       "LogisticRegression(random_state=0)"
      ]
     },
     "execution_count": 25,
     "metadata": {},
     "output_type": "execute_result"
    }
   ],
   "source": [
    "model=LogisticRegression(random_state=0)\n",
    "model.fit(X_train,y_train)"
   ]
  },
  {
   "cell_type": "code",
   "execution_count": 26,
   "id": "b02ac02b",
   "metadata": {},
   "outputs": [
    {
     "name": "stdout",
     "output_type": "stream",
     "text": [
      "[-0.06431481] [[ 0.07291413  0.04470288  0.10924521  0.16650115 -0.05150988  0.1101544\n",
      "  -0.52807027 -0.23964031 -0.58529518 -0.06902596  0.10788658  1.73116477\n",
      "  -0.38445388  0.38125499  0.2807899   0.2329753 ]]\n"
     ]
    }
   ],
   "source": [
    "y_pred=model.predict(X_test)\n",
    "print(model.intercept_,model.coef_)"
   ]
  },
  {
   "cell_type": "code",
   "execution_count": 27,
   "id": "357aed53",
   "metadata": {},
   "outputs": [
    {
     "data": {
      "text/plain": [
       "array([[1213,  248],\n",
       "       [ 300, 1030]], dtype=int64)"
      ]
     },
     "execution_count": 27,
     "metadata": {},
     "output_type": "execute_result"
    }
   ],
   "source": [
    "confusion_matrix(y_true=y_test, y_pred=y_pred)"
   ]
  },
  {
   "cell_type": "code",
   "execution_count": 28,
   "id": "ebe00054",
   "metadata": {},
   "outputs": [
    {
     "data": {
      "image/png": "[encoded data removed]",
      "text/plain": [
       "<Figure size 432x288 with 2 Axes>"
      ]
     },
     "metadata": {
      "needs_background": "light"
     },
     "output_type": "display_data"
    }
   ],
   "source": [
    "plot_confusion_matrix(model, X_test, y_test)  \n",
    "plt.show()"
   ]
  },
  {
   "cell_type": "markdown",
   "id": "4c6f58e0",
   "metadata": {},
   "source": [
    "Karmaşıklık matrisine göre doğruların sayısı 1213+1030=2243, yanlışların sayısı ise 248+300=548'tir.\n",
    "Buna göre oluşan accuracy, precision, recall ve f1 değerleri aşağıda gösterilmiştir."
   ]
  },
  {
   "cell_type": "code",
   "execution_count": 29,
   "id": "d6cf97db",
   "metadata": {},
   "outputs": [
    {
     "name": "stdout",
     "output_type": "stream",
     "text": [
      "              precision    recall  f1-score   support\n",
      "\n",
      "           0       0.80      0.83      0.82      1461\n",
      "           1       0.81      0.77      0.79      1330\n",
      "\n",
      "    accuracy                           0.80      2791\n",
      "   macro avg       0.80      0.80      0.80      2791\n",
      "weighted avg       0.80      0.80      0.80      2791\n",
      "\n"
     ]
    }
   ],
   "source": [
    "print(classification_report(y_true=y_test, y_pred=y_pred))"
   ]
  },
  {
   "cell_type": "markdown",
   "id": "df42c44b",
   "metadata": {},
   "source": [
    "# <font color='green'> En düşük önemliliğe loan, marital ve previous öznitelikleri çıkarılarak tekrar skorlara bakılacaktır</font>"
   ]
  },
  {
   "cell_type": "code",
   "execution_count": 30,
   "id": "bdff21de",
   "metadata": {},
   "outputs": [],
   "source": [
    "#ilk önce loan çıkarılacaktır.\n",
    "veriSeti1=veriSeti.copy()"
   ]
  },
  {
   "cell_type": "code",
   "execution_count": 31,
   "id": "9085f7cc",
   "metadata": {},
   "outputs": [],
   "source": [
    "veriSeti1.drop(\"loan\",axis=1,inplace=True)"
   ]
  },
  {
   "cell_type": "code",
   "execution_count": 32,
   "id": "2d6b8f50",
   "metadata": {},
   "outputs": [
    {
     "data": {
      "text/html": [
       "<div>\n",
       "<style scoped>\n",
       "    .dataframe tbody tr th:only-of-type {\n",
       "        vertical-align: middle;\n",
       "    }\n",
       "\n",
       "    .dataframe tbody tr th {\n",
       "        vertical-align: top;\n",
       "    }\n",
       "\n",
       "    .dataframe thead th {\n",
       "        text-align: right;\n",
       "    }\n",
       "</style>\n",
       "<table border=\"1\" class=\"dataframe\">\n",
       "  <thead>\n",
       "    <tr style=\"text-align: right;\">\n",
       "      <th></th>\n",
       "      <th>age</th>\n",
       "      <th>job</th>\n",
       "      <th>marital</th>\n",
       "      <th>education</th>\n",
       "      <th>default</th>\n",
       "      <th>balance</th>\n",
       "      <th>housing</th>\n",
       "      <th>contact</th>\n",
       "      <th>day</th>\n",
       "      <th>month</th>\n",
       "      <th>duration</th>\n",
       "      <th>campaign</th>\n",
       "      <th>pdays</th>\n",
       "      <th>previous</th>\n",
       "      <th>poutcome</th>\n",
       "      <th>deposit</th>\n",
       "    </tr>\n",
       "  </thead>\n",
       "  <tbody>\n",
       "    <tr>\n",
       "      <th>0</th>\n",
       "      <td>59</td>\n",
       "      <td>0</td>\n",
       "      <td>1</td>\n",
       "      <td>1</td>\n",
       "      <td>0</td>\n",
       "      <td>2343</td>\n",
       "      <td>2</td>\n",
       "      <td>2</td>\n",
       "      <td>5</td>\n",
       "      <td>8</td>\n",
       "      <td>1042</td>\n",
       "      <td>1</td>\n",
       "      <td>-1</td>\n",
       "      <td>0</td>\n",
       "      <td>3</td>\n",
       "      <td>1</td>\n",
       "    </tr>\n",
       "    <tr>\n",
       "      <th>1</th>\n",
       "      <td>56</td>\n",
       "      <td>0</td>\n",
       "      <td>1</td>\n",
       "      <td>1</td>\n",
       "      <td>0</td>\n",
       "      <td>45</td>\n",
       "      <td>0</td>\n",
       "      <td>2</td>\n",
       "      <td>5</td>\n",
       "      <td>8</td>\n",
       "      <td>1467</td>\n",
       "      <td>1</td>\n",
       "      <td>-1</td>\n",
       "      <td>0</td>\n",
       "      <td>3</td>\n",
       "      <td>1</td>\n",
       "    </tr>\n",
       "    <tr>\n",
       "      <th>2</th>\n",
       "      <td>41</td>\n",
       "      <td>9</td>\n",
       "      <td>1</td>\n",
       "      <td>1</td>\n",
       "      <td>0</td>\n",
       "      <td>1270</td>\n",
       "      <td>2</td>\n",
       "      <td>2</td>\n",
       "      <td>5</td>\n",
       "      <td>8</td>\n",
       "      <td>1389</td>\n",
       "      <td>1</td>\n",
       "      <td>-1</td>\n",
       "      <td>0</td>\n",
       "      <td>3</td>\n",
       "      <td>1</td>\n",
       "    </tr>\n",
       "    <tr>\n",
       "      <th>3</th>\n",
       "      <td>55</td>\n",
       "      <td>7</td>\n",
       "      <td>1</td>\n",
       "      <td>1</td>\n",
       "      <td>0</td>\n",
       "      <td>2476</td>\n",
       "      <td>2</td>\n",
       "      <td>2</td>\n",
       "      <td>5</td>\n",
       "      <td>8</td>\n",
       "      <td>579</td>\n",
       "      <td>1</td>\n",
       "      <td>-1</td>\n",
       "      <td>0</td>\n",
       "      <td>3</td>\n",
       "      <td>1</td>\n",
       "    </tr>\n",
       "    <tr>\n",
       "      <th>4</th>\n",
       "      <td>54</td>\n",
       "      <td>0</td>\n",
       "      <td>1</td>\n",
       "      <td>2</td>\n",
       "      <td>0</td>\n",
       "      <td>184</td>\n",
       "      <td>0</td>\n",
       "      <td>2</td>\n",
       "      <td>5</td>\n",
       "      <td>8</td>\n",
       "      <td>673</td>\n",
       "      <td>2</td>\n",
       "      <td>-1</td>\n",
       "      <td>0</td>\n",
       "      <td>3</td>\n",
       "      <td>1</td>\n",
       "    </tr>\n",
       "  </tbody>\n",
       "</table>\n",
       "</div>"
      ],
      "text/plain": [
       "   age  job  marital  education  default  balance  housing  contact  day  \\\n",
       "0   59    0        1          1        0     2343        2        2    5   \n",
       "1   56    0        1          1        0       45        0        2    5   \n",
       "2   41    9        1          1        0     1270        2        2    5   \n",
       "3   55    7        1          1        0     2476        2        2    5   \n",
       "4   54    0        1          2        0      184        0        2    5   \n",
       "\n",
       "   month  duration  campaign  pdays  previous  poutcome  deposit  \n",
       "0      8      1042         1     -1         0         3        1  \n",
       "1      8      1467         1     -1         0         3        1  \n",
       "2      8      1389         1     -1         0         3        1  \n",
       "3      8       579         1     -1         0         3        1  \n",
       "4      8       673         2     -1         0         3        1  "
      ]
     },
     "execution_count": 32,
     "metadata": {},
     "output_type": "execute_result"
    }
   ],
   "source": [
    "veriSeti1.head()"
   ]
  },
  {
   "cell_type": "code",
   "execution_count": 33,
   "id": "b2b0f064",
   "metadata": {},
   "outputs": [],
   "source": [
    "\n",
    "X = veriSeti1.iloc[:,0:15]\n",
    "y = veriSeti.iloc[:,-1] "
   ]
  },
  {
   "cell_type": "code",
   "execution_count": 34,
   "id": "f1c59a78",
   "metadata": {},
   "outputs": [
    {
     "name": "stdout",
     "output_type": "stream",
     "text": [
      "[-0.05151633] [[ 0.12000542  0.05045049  0.13779683  0.17221228 -0.07226275  0.09958645\n",
      "  -0.54105329 -0.5174363  -0.06136805  0.11210377  1.73164182 -0.36469888\n",
      "   0.36227866  0.27478847  0.16141745]]\n",
      "              precision    recall  f1-score   support\n",
      "\n",
      "           0       0.78      0.82      0.80      1458\n",
      "           1       0.79      0.74      0.77      1333\n",
      "\n",
      "    accuracy                           0.78      2791\n",
      "   macro avg       0.78      0.78      0.78      2791\n",
      "weighted avg       0.78      0.78      0.78      2791\n",
      "\n"
     ]
    }
   ],
   "source": [
    "X_train, X_test, y_train, y_test= train_test_split(X,y,test_size=0.25, random_state=4)\n",
    "sc=StandardScaler()\n",
    "X_train=sc.fit_transform(X_train)\n",
    "X_test=sc.fit_transform(X_test)\n",
    "model=LogisticRegression(random_state=0)\n",
    "model.fit(X_train,y_train)\n",
    "y_pred=model.predict(X_test)\n",
    "print(model.intercept_,model.coef_)\n",
    "confusion_matrix(y_true=y_test, y_pred=y_pred)\n",
    "print(classification_report(y_true=y_test, y_pred=y_pred))"
   ]
  },
  {
   "cell_type": "code",
   "execution_count": 35,
   "id": "4d0d0adc",
   "metadata": {},
   "outputs": [
    {
     "data": {
      "image/png": "[encoded data removed]",
      "text/plain": [
       "<Figure size 432x288 with 2 Axes>"
      ]
     },
     "metadata": {
      "needs_background": "light"
     },
     "output_type": "display_data"
    }
   ],
   "source": [
    "plot_confusion_matrix(model, X_test, y_test)  \n",
    "plt.show()"
   ]
  },
  {
   "cell_type": "markdown",
   "id": "9cbc787b",
   "metadata": {},
   "source": [
    "Loan özniteliğinin çıkarılması bir değişiklik yapmamıştır, diğer öznitelikler için tekrar bakılacaktır."
   ]
  },
  {
   "cell_type": "code",
   "execution_count": 36,
   "id": "bb66bc85",
   "metadata": {},
   "outputs": [],
   "source": [
    "veriSeti2=veriSeti1.copy()"
   ]
  },
  {
   "cell_type": "code",
   "execution_count": 37,
   "id": "c8616953",
   "metadata": {},
   "outputs": [],
   "source": [
    "veriSeti2.drop(\"marital\",axis=1,inplace=True)"
   ]
  },
  {
   "cell_type": "code",
   "execution_count": 38,
   "id": "69b60f2c",
   "metadata": {},
   "outputs": [
    {
     "data": {
      "text/html": [
       "<div>\n",
       "<style scoped>\n",
       "    .dataframe tbody tr th:only-of-type {\n",
       "        vertical-align: middle;\n",
       "    }\n",
       "\n",
       "    .dataframe tbody tr th {\n",
       "        vertical-align: top;\n",
       "    }\n",
       "\n",
       "    .dataframe thead th {\n",
       "        text-align: right;\n",
       "    }\n",
       "</style>\n",
       "<table border=\"1\" class=\"dataframe\">\n",
       "  <thead>\n",
       "    <tr style=\"text-align: right;\">\n",
       "      <th></th>\n",
       "      <th>age</th>\n",
       "      <th>job</th>\n",
       "      <th>education</th>\n",
       "      <th>default</th>\n",
       "      <th>balance</th>\n",
       "      <th>housing</th>\n",
       "      <th>contact</th>\n",
       "      <th>day</th>\n",
       "      <th>month</th>\n",
       "      <th>duration</th>\n",
       "      <th>campaign</th>\n",
       "      <th>pdays</th>\n",
       "      <th>previous</th>\n",
       "      <th>poutcome</th>\n",
       "      <th>deposit</th>\n",
       "    </tr>\n",
       "  </thead>\n",
       "  <tbody>\n",
       "    <tr>\n",
       "      <th>0</th>\n",
       "      <td>59</td>\n",
       "      <td>0</td>\n",
       "      <td>1</td>\n",
       "      <td>0</td>\n",
       "      <td>2343</td>\n",
       "      <td>2</td>\n",
       "      <td>2</td>\n",
       "      <td>5</td>\n",
       "      <td>8</td>\n",
       "      <td>1042</td>\n",
       "      <td>1</td>\n",
       "      <td>-1</td>\n",
       "      <td>0</td>\n",
       "      <td>3</td>\n",
       "      <td>1</td>\n",
       "    </tr>\n",
       "    <tr>\n",
       "      <th>1</th>\n",
       "      <td>56</td>\n",
       "      <td>0</td>\n",
       "      <td>1</td>\n",
       "      <td>0</td>\n",
       "      <td>45</td>\n",
       "      <td>0</td>\n",
       "      <td>2</td>\n",
       "      <td>5</td>\n",
       "      <td>8</td>\n",
       "      <td>1467</td>\n",
       "      <td>1</td>\n",
       "      <td>-1</td>\n",
       "      <td>0</td>\n",
       "      <td>3</td>\n",
       "      <td>1</td>\n",
       "    </tr>\n",
       "    <tr>\n",
       "      <th>2</th>\n",
       "      <td>41</td>\n",
       "      <td>9</td>\n",
       "      <td>1</td>\n",
       "      <td>0</td>\n",
       "      <td>1270</td>\n",
       "      <td>2</td>\n",
       "      <td>2</td>\n",
       "      <td>5</td>\n",
       "      <td>8</td>\n",
       "      <td>1389</td>\n",
       "      <td>1</td>\n",
       "      <td>-1</td>\n",
       "      <td>0</td>\n",
       "      <td>3</td>\n",
       "      <td>1</td>\n",
       "    </tr>\n",
       "    <tr>\n",
       "      <th>3</th>\n",
       "      <td>55</td>\n",
       "      <td>7</td>\n",
       "      <td>1</td>\n",
       "      <td>0</td>\n",
       "      <td>2476</td>\n",
       "      <td>2</td>\n",
       "      <td>2</td>\n",
       "      <td>5</td>\n",
       "      <td>8</td>\n",
       "      <td>579</td>\n",
       "      <td>1</td>\n",
       "      <td>-1</td>\n",
       "      <td>0</td>\n",
       "      <td>3</td>\n",
       "      <td>1</td>\n",
       "    </tr>\n",
       "    <tr>\n",
       "      <th>4</th>\n",
       "      <td>54</td>\n",
       "      <td>0</td>\n",
       "      <td>2</td>\n",
       "      <td>0</td>\n",
       "      <td>184</td>\n",
       "      <td>0</td>\n",
       "      <td>2</td>\n",
       "      <td>5</td>\n",
       "      <td>8</td>\n",
       "      <td>673</td>\n",
       "      <td>2</td>\n",
       "      <td>-1</td>\n",
       "      <td>0</td>\n",
       "      <td>3</td>\n",
       "      <td>1</td>\n",
       "    </tr>\n",
       "  </tbody>\n",
       "</table>\n",
       "</div>"
      ],
      "text/plain": [
       "   age  job  education  default  balance  housing  contact  day  month  \\\n",
       "0   59    0          1        0     2343        2        2    5      8   \n",
       "1   56    0          1        0       45        0        2    5      8   \n",
       "2   41    9          1        0     1270        2        2    5      8   \n",
       "3   55    7          1        0     2476        2        2    5      8   \n",
       "4   54    0          2        0      184        0        2    5      8   \n",
       "\n",
       "   duration  campaign  pdays  previous  poutcome  deposit  \n",
       "0      1042         1     -1         0         3        1  \n",
       "1      1467         1     -1         0         3        1  \n",
       "2      1389         1     -1         0         3        1  \n",
       "3       579         1     -1         0         3        1  \n",
       "4       673         2     -1         0         3        1  "
      ]
     },
     "execution_count": 38,
     "metadata": {},
     "output_type": "execute_result"
    }
   ],
   "source": [
    "veriSeti2.head()"
   ]
  },
  {
   "cell_type": "code",
   "execution_count": 39,
   "id": "084d0a81",
   "metadata": {},
   "outputs": [],
   "source": [
    "X = veriSeti2.iloc[:,0:14]\n",
    "y = veriSeti2.iloc[:,-1] "
   ]
  },
  {
   "cell_type": "code",
   "execution_count": 40,
   "id": "01c2581b",
   "metadata": {},
   "outputs": [
    {
     "name": "stdout",
     "output_type": "stream",
     "text": [
      "[-0.05027325] [[ 0.05610862  0.05521681  0.17892479 -0.07277318  0.10488305 -0.55365894\n",
      "  -0.51709281 -0.0606762   0.1136838   1.72982508 -0.36741879  0.36258037\n",
      "   0.27881672  0.16014126]]\n",
      "              precision    recall  f1-score   support\n",
      "\n",
      "           0       0.78      0.83      0.80      1458\n",
      "           1       0.80      0.74      0.77      1333\n",
      "\n",
      "    accuracy                           0.79      2791\n",
      "   macro avg       0.79      0.78      0.78      2791\n",
      "weighted avg       0.79      0.79      0.79      2791\n",
      "\n"
     ]
    }
   ],
   "source": [
    "X_train, X_test, y_train, y_test= train_test_split(X,y,test_size=0.25, random_state=4)\n",
    "sc=StandardScaler()\n",
    "X_train=sc.fit_transform(X_train)\n",
    "X_test=sc.fit_transform(X_test)\n",
    "model=LogisticRegression(random_state=0)\n",
    "model.fit(X_train,y_train)\n",
    "y_pred=model.predict(X_test)\n",
    "print(model.intercept_,model.coef_)\n",
    "confusion_matrix(y_true=y_test, y_pred=y_pred)\n",
    "print(classification_report(y_true=y_test, y_pred=y_pred))\n"
   ]
  },
  {
   "cell_type": "code",
   "execution_count": 41,
   "id": "6d8e64c2",
   "metadata": {},
   "outputs": [
    {
     "data": {
      "image/png": "[encoded data removed]",
      "text/plain": [
       "<Figure size 432x288 with 2 Axes>"
      ]
     },
     "metadata": {
      "needs_background": "light"
     },
     "output_type": "display_data"
    }
   ],
   "source": [
    "plot_confusion_matrix(model, X_test, y_test)  \n",
    "plt.show()"
   ]
  },
  {
   "cell_type": "markdown",
   "id": "e415f455",
   "metadata": {},
   "source": [
    "marital özniteliğinin çıkarılması da bir değişiklik yapmamıştır, son olarak previous özniteliği için tekrar bakılacaktır."
   ]
  },
  {
   "cell_type": "code",
   "execution_count": 42,
   "id": "7b6fccec",
   "metadata": {},
   "outputs": [],
   "source": [
    "veriSeti3=veriSeti2.copy()"
   ]
  },
  {
   "cell_type": "code",
   "execution_count": 43,
   "id": "2619210f",
   "metadata": {},
   "outputs": [],
   "source": [
    "veriSeti3.drop(\"previous\",axis=1,inplace=True)"
   ]
  },
  {
   "cell_type": "code",
   "execution_count": 44,
   "id": "48bda3c8",
   "metadata": {},
   "outputs": [
    {
     "data": {
      "text/html": [
       "<div>\n",
       "<style scoped>\n",
       "    .dataframe tbody tr th:only-of-type {\n",
       "        vertical-align: middle;\n",
       "    }\n",
       "\n",
       "    .dataframe tbody tr th {\n",
       "        vertical-align: top;\n",
       "    }\n",
       "\n",
       "    .dataframe thead th {\n",
       "        text-align: right;\n",
       "    }\n",
       "</style>\n",
       "<table border=\"1\" class=\"dataframe\">\n",
       "  <thead>\n",
       "    <tr style=\"text-align: right;\">\n",
       "      <th></th>\n",
       "      <th>age</th>\n",
       "      <th>job</th>\n",
       "      <th>education</th>\n",
       "      <th>default</th>\n",
       "      <th>balance</th>\n",
       "      <th>housing</th>\n",
       "      <th>contact</th>\n",
       "      <th>day</th>\n",
       "      <th>month</th>\n",
       "      <th>duration</th>\n",
       "      <th>campaign</th>\n",
       "      <th>pdays</th>\n",
       "      <th>poutcome</th>\n",
       "      <th>deposit</th>\n",
       "    </tr>\n",
       "  </thead>\n",
       "  <tbody>\n",
       "    <tr>\n",
       "      <th>0</th>\n",
       "      <td>59</td>\n",
       "      <td>0</td>\n",
       "      <td>1</td>\n",
       "      <td>0</td>\n",
       "      <td>2343</td>\n",
       "      <td>2</td>\n",
       "      <td>2</td>\n",
       "      <td>5</td>\n",
       "      <td>8</td>\n",
       "      <td>1042</td>\n",
       "      <td>1</td>\n",
       "      <td>-1</td>\n",
       "      <td>3</td>\n",
       "      <td>1</td>\n",
       "    </tr>\n",
       "    <tr>\n",
       "      <th>1</th>\n",
       "      <td>56</td>\n",
       "      <td>0</td>\n",
       "      <td>1</td>\n",
       "      <td>0</td>\n",
       "      <td>45</td>\n",
       "      <td>0</td>\n",
       "      <td>2</td>\n",
       "      <td>5</td>\n",
       "      <td>8</td>\n",
       "      <td>1467</td>\n",
       "      <td>1</td>\n",
       "      <td>-1</td>\n",
       "      <td>3</td>\n",
       "      <td>1</td>\n",
       "    </tr>\n",
       "    <tr>\n",
       "      <th>2</th>\n",
       "      <td>41</td>\n",
       "      <td>9</td>\n",
       "      <td>1</td>\n",
       "      <td>0</td>\n",
       "      <td>1270</td>\n",
       "      <td>2</td>\n",
       "      <td>2</td>\n",
       "      <td>5</td>\n",
       "      <td>8</td>\n",
       "      <td>1389</td>\n",
       "      <td>1</td>\n",
       "      <td>-1</td>\n",
       "      <td>3</td>\n",
       "      <td>1</td>\n",
       "    </tr>\n",
       "    <tr>\n",
       "      <th>3</th>\n",
       "      <td>55</td>\n",
       "      <td>7</td>\n",
       "      <td>1</td>\n",
       "      <td>0</td>\n",
       "      <td>2476</td>\n",
       "      <td>2</td>\n",
       "      <td>2</td>\n",
       "      <td>5</td>\n",
       "      <td>8</td>\n",
       "      <td>579</td>\n",
       "      <td>1</td>\n",
       "      <td>-1</td>\n",
       "      <td>3</td>\n",
       "      <td>1</td>\n",
       "    </tr>\n",
       "    <tr>\n",
       "      <th>4</th>\n",
       "      <td>54</td>\n",
       "      <td>0</td>\n",
       "      <td>2</td>\n",
       "      <td>0</td>\n",
       "      <td>184</td>\n",
       "      <td>0</td>\n",
       "      <td>2</td>\n",
       "      <td>5</td>\n",
       "      <td>8</td>\n",
       "      <td>673</td>\n",
       "      <td>2</td>\n",
       "      <td>-1</td>\n",
       "      <td>3</td>\n",
       "      <td>1</td>\n",
       "    </tr>\n",
       "  </tbody>\n",
       "</table>\n",
       "</div>"
      ],
      "text/plain": [
       "   age  job  education  default  balance  housing  contact  day  month  \\\n",
       "0   59    0          1        0     2343        2        2    5      8   \n",
       "1   56    0          1        0       45        0        2    5      8   \n",
       "2   41    9          1        0     1270        2        2    5      8   \n",
       "3   55    7          1        0     2476        2        2    5      8   \n",
       "4   54    0          2        0      184        0        2    5      8   \n",
       "\n",
       "   duration  campaign  pdays  poutcome  deposit  \n",
       "0      1042         1     -1         3        1  \n",
       "1      1467         1     -1         3        1  \n",
       "2      1389         1     -1         3        1  \n",
       "3       579         1     -1         3        1  \n",
       "4       673         2     -1         3        1  "
      ]
     },
     "execution_count": 44,
     "metadata": {},
     "output_type": "execute_result"
    }
   ],
   "source": [
    "veriSeti3.head()"
   ]
  },
  {
   "cell_type": "code",
   "execution_count": 45,
   "id": "3c1e85aa",
   "metadata": {},
   "outputs": [],
   "source": [
    "X = veriSeti3.iloc[:,0:13]\n",
    "y = veriSeti3.iloc[:,-1] "
   ]
  },
  {
   "cell_type": "code",
   "execution_count": 46,
   "id": "ad415890",
   "metadata": {},
   "outputs": [
    {
     "name": "stdout",
     "output_type": "stream",
     "text": [
      "[-0.05180362] [[ 0.06100284  0.05676323  0.17757032 -0.07503693  0.10843686 -0.55646151\n",
      "  -0.5233429  -0.06234673  0.11988581  1.72112978 -0.35331588  0.40601396\n",
      "   0.05154057]]\n",
      "              precision    recall  f1-score   support\n",
      "\n",
      "           0       0.78      0.82      0.80      1458\n",
      "           1       0.79      0.74      0.77      1333\n",
      "\n",
      "    accuracy                           0.78      2791\n",
      "   macro avg       0.78      0.78      0.78      2791\n",
      "weighted avg       0.78      0.78      0.78      2791\n",
      "\n"
     ]
    }
   ],
   "source": [
    "X_train, X_test, y_train, y_test= train_test_split(X,y,test_size=0.25, random_state=4)\n",
    "sc=StandardScaler()\n",
    "X_train=sc.fit_transform(X_train)\n",
    "X_test=sc.fit_transform(X_test)\n",
    "model=LogisticRegression(random_state=0)\n",
    "model.fit(X_train,y_train)\n",
    "y_pred=model.predict(X_test)\n",
    "print(model.intercept_,model.coef_)\n",
    "confusion_matrix(y_true=y_test, y_pred=y_pred)\n",
    "print(classification_report(y_true=y_test, y_pred=y_pred))"
   ]
  },
  {
   "cell_type": "code",
   "execution_count": 47,
   "id": "e54d9b49",
   "metadata": {},
   "outputs": [
    {
     "data": {
      "image/png": "[encoded data removed]",
      "text/plain": [
       "<Figure size 432x288 with 2 Axes>"
      ]
     },
     "metadata": {
      "needs_background": "light"
     },
     "output_type": "display_data"
    }
   ],
   "source": [
    "plot_confusion_matrix(model, X_test, y_test)  \n",
    "plt.show()"
   ]
  },
  {
   "cell_type": "code",
   "execution_count": 48,
   "id": "3b39a1d7",
   "metadata": {},
   "outputs": [],
   "source": [
    "veriSeti4=veriSeti.copy()\n",
    "veriSeti4.drop([\"loan\",\"marital\",\"education\",\"job\",\"balance\"],axis=1,inplace=True)"
   ]
  },
  {
   "cell_type": "code",
   "execution_count": 49,
   "id": "010f26fa",
   "metadata": {},
   "outputs": [],
   "source": [
    "X = veriSeti4.iloc[:,0:11]\n",
    "y = veriSeti4.iloc[:,-1] "
   ]
  },
  {
   "cell_type": "code",
   "execution_count": 50,
   "id": "1d2cb28e",
   "metadata": {},
   "outputs": [
    {
     "name": "stdout",
     "output_type": "stream",
     "text": [
      "[-0.0492107] [[ 0.0338673  -0.07848077 -0.58213926 -0.53307852 -0.05384281  0.11185372\n",
      "   1.71606577 -0.3626294   0.35171582  0.28109769  0.14862234]]\n",
      "              precision    recall  f1-score   support\n",
      "\n",
      "           0       0.77      0.82      0.79      1458\n",
      "           1       0.79      0.73      0.76      1333\n",
      "\n",
      "    accuracy                           0.78      2791\n",
      "   macro avg       0.78      0.77      0.78      2791\n",
      "weighted avg       0.78      0.78      0.78      2791\n",
      "\n"
     ]
    }
   ],
   "source": [
    "X_train, X_test, y_train, y_test= train_test_split(X,y,test_size=0.25, random_state=4)\n",
    "sc=StandardScaler()\n",
    "X_train=sc.fit_transform(X_train)\n",
    "X_test=sc.fit_transform(X_test)\n",
    "model=LogisticRegression(random_state=0)\n",
    "model.fit(X_train,y_train)\n",
    "y_pred=model.predict(X_test)\n",
    "print(model.intercept_,model.coef_)\n",
    "confusion_matrix(y_true=y_test, y_pred=y_pred)\n",
    "print(classification_report(y_true=y_test, y_pred=y_pred))"
   ]
  },
  {
   "cell_type": "code",
   "execution_count": 51,
   "id": "5d52c1fb",
   "metadata": {},
   "outputs": [
    {
     "data": {
      "image/png": "[encoded data removed]",
      "text/plain": [
       "<Figure size 432x288 with 2 Axes>"
      ]
     },
     "metadata": {
      "needs_background": "light"
     },
     "output_type": "display_data"
    }
   ],
   "source": [
    "plot_confusion_matrix(model, X_test, y_test)  \n",
    "plt.show()"
   ]
  },
  {
   "cell_type": "markdown",
   "id": "241c6f7c",
   "metadata": {},
   "source": [
    "Bu 3 öznitelik modelde ciddi bir değişime sebeb olmamaktadır, bu nedenle ilk elde ettiğimiz değerler üzerinden gideceğiz. Modelimizin accuracy değeri %79 olup, %78 kesinlik ile tahmin yapmaktadır.\n",
    "pozitif durumlar da, F1 skoru'da %79'tur, aynı veriler için Naive Bayes sınıflaması denenecektir."
   ]
  },
  {
   "cell_type": "markdown",
   "id": "9bf6549f",
   "metadata": {},
   "source": [
    "# <font color='green'> NAIVE BAYES İLE SINIFLANDIRMA </font>"
   ]
  },
  {
   "cell_type": "code",
   "execution_count": 52,
   "id": "4d057acf",
   "metadata": {},
   "outputs": [],
   "source": [
    "from sklearn.naive_bayes import GaussianNB"
   ]
  },
  {
   "cell_type": "code",
   "execution_count": 53,
   "id": "1d69e715",
   "metadata": {},
   "outputs": [],
   "source": [
    "X = veriSeti.iloc[:,0:16]\n",
    "y = veriSeti.iloc[:,-1] "
   ]
  },
  {
   "cell_type": "code",
   "execution_count": 54,
   "id": "b119ecf6",
   "metadata": {},
   "outputs": [],
   "source": [
    "classifier=GaussianNB()\n"
   ]
  },
  {
   "cell_type": "code",
   "execution_count": 55,
   "id": "9edc6757",
   "metadata": {},
   "outputs": [],
   "source": [
    "X_train, X_test, y_train, y_test= train_test_split(X,y,test_size=0.25, random_state=4)\n",
    "classifier.fit(X_train,y_train)\n",
    "y_pred=classifier.predict(X_test)"
   ]
  },
  {
   "cell_type": "code",
   "execution_count": 56,
   "id": "078b7630",
   "metadata": {},
   "outputs": [
    {
     "name": "stdout",
     "output_type": "stream",
     "text": [
      "Accuracy is % 74.63\n"
     ]
    }
   ],
   "source": [
    "acuuracy=100*(y_test==y_pred).sum()/X_test.shape[0]\n",
    "print(\"Accuracy is %\", round(acuuracy,2) )"
   ]
  },
  {
   "cell_type": "code",
   "execution_count": 57,
   "id": "6c770b0d",
   "metadata": {},
   "outputs": [
    {
     "data": {
      "text/plain": [
       "array([[1029,  429],\n",
       "       [ 279, 1054]], dtype=int64)"
      ]
     },
     "execution_count": 57,
     "metadata": {},
     "output_type": "execute_result"
    }
   ],
   "source": [
    "confusion_matrix(y_true=y_test, y_pred=y_pred)"
   ]
  },
  {
   "cell_type": "code",
   "execution_count": 58,
   "id": "f462dd61",
   "metadata": {},
   "outputs": [
    {
     "data": {
      "image/png": "[encoded data removed]",
      "text/plain": [
       "<Figure size 432x288 with 2 Axes>"
      ]
     },
     "metadata": {
      "needs_background": "light"
     },
     "output_type": "display_data"
    }
   ],
   "source": [
    "plot_confusion_matrix(classifier, X_test, y_test)  \n",
    "plt.show()"
   ]
  },
  {
   "cell_type": "markdown",
   "id": "843e684c",
   "metadata": {},
   "source": [
    "Karmaşıklık matrisine göre doğruların sayısı 1029+1054=2083, yanlışların sayısı ise 429+279=708'tir. Buna göre oluşan accuracy, precision, recall ve f1 değerleri aşağıda gösterilmiştir."
   ]
  },
  {
   "cell_type": "code",
   "execution_count": 59,
   "id": "0883d43b",
   "metadata": {},
   "outputs": [
    {
     "name": "stdout",
     "output_type": "stream",
     "text": [
      "              precision    recall  f1-score   support\n",
      "\n",
      "           0       0.79      0.71      0.74      1458\n",
      "           1       0.71      0.79      0.75      1333\n",
      "\n",
      "    accuracy                           0.75      2791\n",
      "   macro avg       0.75      0.75      0.75      2791\n",
      "weighted avg       0.75      0.75      0.75      2791\n",
      "\n"
     ]
    }
   ],
   "source": [
    "print(classification_report(y_true=y_test, y_pred=y_pred))"
   ]
  },
  {
   "cell_type": "code",
   "execution_count": 60,
   "id": "37bf9d31",
   "metadata": {},
   "outputs": [],
   "source": [
    "veriSeti1=veriSeti.copy()\n",
    "veriSeti1.drop(\"loan\",axis=1,inplace=True)\n",
    "X = veriSeti1.iloc[:,0:15]\n",
    "y = veriSeti.iloc[:,-1] \n",
    "classifier=GaussianNB()\n",
    "X_train, X_test, y_train, y_test= train_test_split(X,y,test_size=0.25, random_state=4)\n",
    "classifier.fit(X_train,y_train)\n",
    "y_pred=classifier.predict(X_test)"
   ]
  },
  {
   "cell_type": "code",
   "execution_count": 61,
   "id": "ed8783b9",
   "metadata": {},
   "outputs": [
    {
     "data": {
      "text/plain": [
       "array([[1058,  400],\n",
       "       [ 318, 1015]], dtype=int64)"
      ]
     },
     "execution_count": 61,
     "metadata": {},
     "output_type": "execute_result"
    }
   ],
   "source": [
    "confusion_matrix(y_true=y_test, y_pred=y_pred)"
   ]
  },
  {
   "cell_type": "code",
   "execution_count": 62,
   "id": "b1caf4a1",
   "metadata": {},
   "outputs": [
    {
     "data": {
      "image/png": "[encoded data removed]",
      "text/plain": [
       "<Figure size 432x288 with 2 Axes>"
      ]
     },
     "metadata": {
      "needs_background": "light"
     },
     "output_type": "display_data"
    }
   ],
   "source": [
    "plot_confusion_matrix(classifier, X_test, y_test)  \n",
    "plt.show()"
   ]
  },
  {
   "cell_type": "code",
   "execution_count": 63,
   "id": "f7b0a2ce",
   "metadata": {},
   "outputs": [
    {
     "name": "stdout",
     "output_type": "stream",
     "text": [
      "              precision    recall  f1-score   support\n",
      "\n",
      "           0       0.77      0.73      0.75      1458\n",
      "           1       0.72      0.76      0.74      1333\n",
      "\n",
      "    accuracy                           0.74      2791\n",
      "   macro avg       0.74      0.74      0.74      2791\n",
      "weighted avg       0.74      0.74      0.74      2791\n",
      "\n"
     ]
    }
   ],
   "source": [
    "print(classification_report(y_true=y_test, y_pred=y_pred))"
   ]
  },
  {
   "cell_type": "code",
   "execution_count": 64,
   "id": "f6447245",
   "metadata": {},
   "outputs": [],
   "source": [
    "veriSeti2=veriSeti.copy()\n",
    "veriSeti2.drop(\"marital\",axis=1,inplace=True)\n",
    "X = veriSeti2.iloc[:,0:15]\n",
    "y = veriSeti2.iloc[:,-1] \n",
    "classifier=GaussianNB()\n",
    "X_train, X_test, y_train, y_test= train_test_split(X,y,test_size=0.25, random_state=4)\n",
    "classifier.fit(X_train,y_train)\n",
    "y_pred=classifier.predict(X_test)"
   ]
  },
  {
   "cell_type": "code",
   "execution_count": 65,
   "id": "73ae2598",
   "metadata": {},
   "outputs": [
    {
     "data": {
      "text/plain": [
       "array([[1029,  429],\n",
       "       [ 284, 1049]], dtype=int64)"
      ]
     },
     "execution_count": 65,
     "metadata": {},
     "output_type": "execute_result"
    }
   ],
   "source": [
    "confusion_matrix(y_true=y_test, y_pred=y_pred)"
   ]
  },
  {
   "cell_type": "code",
   "execution_count": 66,
   "id": "50c62462",
   "metadata": {},
   "outputs": [
    {
     "data": {
      "image/png": "[encoded data removed]",
      "text/plain": [
       "<Figure size 432x288 with 2 Axes>"
      ]
     },
     "metadata": {
      "needs_background": "light"
     },
     "output_type": "display_data"
    }
   ],
   "source": [
    "plot_confusion_matrix(classifier, X_test, y_test)  \n",
    "plt.show()"
   ]
  },
  {
   "cell_type": "code",
   "execution_count": 67,
   "id": "3c898a2d",
   "metadata": {},
   "outputs": [
    {
     "name": "stdout",
     "output_type": "stream",
     "text": [
      "              precision    recall  f1-score   support\n",
      "\n",
      "           0       0.78      0.71      0.74      1458\n",
      "           1       0.71      0.79      0.75      1333\n",
      "\n",
      "    accuracy                           0.74      2791\n",
      "   macro avg       0.75      0.75      0.74      2791\n",
      "weighted avg       0.75      0.74      0.74      2791\n",
      "\n"
     ]
    }
   ],
   "source": [
    "print(classification_report(y_true=y_test, y_pred=y_pred))"
   ]
  },
  {
   "cell_type": "code",
   "execution_count": 68,
   "id": "f4e6a99e",
   "metadata": {},
   "outputs": [],
   "source": [
    "veriSeti3=veriSeti2.copy()\n",
    "veriSeti3.drop(\"previous\",axis=1,inplace=True)\n",
    "X = veriSeti3.iloc[:,0:14]\n",
    "y = veriSeti3.iloc[:,-1] \n",
    "classifier=GaussianNB()\n",
    "X_train, X_test, y_train, y_test= train_test_split(X,y,test_size=0.25, random_state=4)\n",
    "classifier.fit(X_train,y_train)\n",
    "y_pred=classifier.predict(X_test)"
   ]
  },
  {
   "cell_type": "code",
   "execution_count": 69,
   "id": "d79d0286",
   "metadata": {},
   "outputs": [
    {
     "data": {
      "text/plain": [
       "array([[ 975,  483],\n",
       "       [ 225, 1108]], dtype=int64)"
      ]
     },
     "execution_count": 69,
     "metadata": {},
     "output_type": "execute_result"
    }
   ],
   "source": [
    "confusion_matrix(y_true=y_test, y_pred=y_pred)"
   ]
  },
  {
   "cell_type": "code",
   "execution_count": 70,
   "id": "21176f85",
   "metadata": {},
   "outputs": [
    {
     "data": {
      "image/png": "[encoded data removed]",
      "text/plain": [
       "<Figure size 432x288 with 2 Axes>"
      ]
     },
     "metadata": {
      "needs_background": "light"
     },
     "output_type": "display_data"
    }
   ],
   "source": [
    "plot_confusion_matrix(classifier, X_test, y_test)  \n",
    "plt.show()"
   ]
  },
  {
   "cell_type": "code",
   "execution_count": 71,
   "id": "c7a532d8",
   "metadata": {},
   "outputs": [
    {
     "name": "stdout",
     "output_type": "stream",
     "text": [
      "              precision    recall  f1-score   support\n",
      "\n",
      "           0       0.81      0.67      0.73      1458\n",
      "           1       0.70      0.83      0.76      1333\n",
      "\n",
      "    accuracy                           0.75      2791\n",
      "   macro avg       0.75      0.75      0.75      2791\n",
      "weighted avg       0.76      0.75      0.75      2791\n",
      "\n"
     ]
    }
   ],
   "source": [
    "print(classification_report(y_true=y_test, y_pred=y_pred))"
   ]
  },
  {
   "cell_type": "code",
   "execution_count": 72,
   "id": "fdda6b73",
   "metadata": {},
   "outputs": [],
   "source": [
    "veriSeti4=veriSeti.copy()\n",
    "veriSeti4.drop([\"loan\",\"marital\",\"education\",\"job\",\"balance\"],axis=1,inplace=True)\n",
    "X = veriSeti4.iloc[:,0:11]\n",
    "y = veriSeti4.iloc[:,-1] "
   ]
  },
  {
   "cell_type": "code",
   "execution_count": 73,
   "id": "4c04cf7c",
   "metadata": {},
   "outputs": [],
   "source": [
    "classifier=GaussianNB()\n",
    "X_train, X_test, y_train, y_test= train_test_split(X,y,test_size=0.25, random_state=4)\n",
    "classifier.fit(X_train,y_train)\n",
    "y_pred=classifier.predict(X_test)"
   ]
  },
  {
   "cell_type": "code",
   "execution_count": 74,
   "id": "66507c17",
   "metadata": {},
   "outputs": [
    {
     "data": {
      "text/plain": [
       "array([[1043,  415],\n",
       "       [ 296, 1037]], dtype=int64)"
      ]
     },
     "execution_count": 74,
     "metadata": {},
     "output_type": "execute_result"
    }
   ],
   "source": [
    "confusion_matrix(y_true=y_test, y_pred=y_pred)"
   ]
  },
  {
   "cell_type": "code",
   "execution_count": 75,
   "id": "8733a1bb",
   "metadata": {},
   "outputs": [
    {
     "data": {
      "image/png": "[encoded data removed]",
      "text/plain": [
       "<Figure size 432x288 with 2 Axes>"
      ]
     },
     "metadata": {
      "needs_background": "light"
     },
     "output_type": "display_data"
    }
   ],
   "source": [
    "plot_confusion_matrix(classifier, X_test, y_test)  \n",
    "plt.show()"
   ]
  },
  {
   "cell_type": "code",
   "execution_count": 76,
   "id": "e233e1de",
   "metadata": {},
   "outputs": [
    {
     "name": "stdout",
     "output_type": "stream",
     "text": [
      "              precision    recall  f1-score   support\n",
      "\n",
      "           0       0.78      0.72      0.75      1458\n",
      "           1       0.71      0.78      0.74      1333\n",
      "\n",
      "    accuracy                           0.75      2791\n",
      "   macro avg       0.75      0.75      0.75      2791\n",
      "weighted avg       0.75      0.75      0.75      2791\n",
      "\n"
     ]
    }
   ],
   "source": [
    "print(classification_report(y_true=y_test, y_pred=y_pred))"
   ]
  },
  {
   "cell_type": "markdown",
   "id": "e47ebe46",
   "metadata": {},
   "source": [
    "#  <font color='green'>SVM (DESTEK VEKTÖR MAKİNESİ) İLE SINIFLANDIRMA</font>"
   ]
  },
  {
   "cell_type": "code",
   "execution_count": 77,
   "id": "060c0a8f",
   "metadata": {},
   "outputs": [],
   "source": [
    "from sklearn import preprocessing\n",
    "from sklearn.svm import LinearSVC\n",
    "from sklearn.multiclass import OneVsOneClassifier\n"
   ]
  },
  {
   "cell_type": "code",
   "execution_count": 78,
   "id": "a422ac51",
   "metadata": {},
   "outputs": [],
   "source": [
    "X = veriSeti.iloc[:,0:16]\n",
    "y = veriSeti.iloc[:,-1] "
   ]
  },
  {
   "cell_type": "code",
   "execution_count": 79,
   "id": "ae641247",
   "metadata": {},
   "outputs": [
    {
     "name": "stderr",
     "output_type": "stream",
     "text": [
      "C:\\Users\\22490046962\\Anaconda3\\lib\\site-packages\\sklearn\\svm\\_base.py:976: ConvergenceWarning: Liblinear failed to converge, increase the number of iterations.\n",
      "  warnings.warn(\"Liblinear failed to converge, increase \"\n"
     ]
    },
    {
     "data": {
      "text/plain": [
       "OneVsOneClassifier(estimator=LinearSVC(random_state=0))"
      ]
     },
     "execution_count": 79,
     "metadata": {},
     "output_type": "execute_result"
    }
   ],
   "source": [
    "classifier=OneVsOneClassifier(LinearSVC(random_state=0))\n",
    "classifier.fit(X,y)"
   ]
  },
  {
   "cell_type": "code",
   "execution_count": 80,
   "id": "840a8b7e",
   "metadata": {},
   "outputs": [
    {
     "name": "stderr",
     "output_type": "stream",
     "text": [
      "C:\\Users\\22490046962\\Anaconda3\\lib\\site-packages\\sklearn\\svm\\_base.py:976: ConvergenceWarning: Liblinear failed to converge, increase the number of iterations.\n",
      "  warnings.warn(\"Liblinear failed to converge, increase \"\n",
      "C:\\Users\\22490046962\\Anaconda3\\lib\\site-packages\\sklearn\\svm\\_base.py:976: ConvergenceWarning: Liblinear failed to converge, increase the number of iterations.\n",
      "  warnings.warn(\"Liblinear failed to converge, increase \"\n"
     ]
    }
   ],
   "source": [
    "X_train, X_test, y_train, y_test= train_test_split(X,y,test_size=0.25, random_state=4)\n",
    "classifier.fit(X_train,y_train)\n",
    "classifier=OneVsOneClassifier(LinearSVC(random_state=0))\n",
    "classifier.fit(X_train,y_train)\n",
    "y_pred=classifier.predict(X_test)"
   ]
  },
  {
   "cell_type": "code",
   "execution_count": 81,
   "id": "ecffdd9b",
   "metadata": {},
   "outputs": [
    {
     "data": {
      "text/plain": [
       "array([[1448,   10],\n",
       "       [1228,  105]], dtype=int64)"
      ]
     },
     "execution_count": 81,
     "metadata": {},
     "output_type": "execute_result"
    }
   ],
   "source": [
    "confusion_matrix(y_true=y_test, y_pred=y_pred)"
   ]
  },
  {
   "cell_type": "code",
   "execution_count": 82,
   "id": "a7951024",
   "metadata": {},
   "outputs": [
    {
     "data": {
      "image/png": "[encoded data removed]",
      "text/plain": [
       "<Figure size 432x288 with 2 Axes>"
      ]
     },
     "metadata": {
      "needs_background": "light"
     },
     "output_type": "display_data"
    }
   ],
   "source": [
    "plot_confusion_matrix(classifier, X_test, y_test)  \n",
    "plt.show()"
   ]
  },
  {
   "cell_type": "markdown",
   "id": "18a5cdf2",
   "metadata": {},
   "source": [
    "Karmaşıklık matrisine göre doğruların sayısı 1448+105=1553, yanlışların sayısı ise 1228+10=1238'tir. Buna göre oluşan accuracy, precision, recall ve f1 değerleri aşağıda gösterilmiştir. SVM ile False Negative Kısmında diğer sınıflayıcılara göre büyük bir artış ve True Negative kısmında büyük bir azalış olmuştur. Öznitelik silinmesi ile tekrar denenecektir."
   ]
  },
  {
   "cell_type": "code",
   "execution_count": 83,
   "id": "d2e93f7d",
   "metadata": {},
   "outputs": [
    {
     "name": "stdout",
     "output_type": "stream",
     "text": [
      "              precision    recall  f1-score   support\n",
      "\n",
      "           0       0.54      0.99      0.70      1458\n",
      "           1       0.91      0.08      0.15      1333\n",
      "\n",
      "    accuracy                           0.56      2791\n",
      "   macro avg       0.73      0.54      0.42      2791\n",
      "weighted avg       0.72      0.56      0.44      2791\n",
      "\n"
     ]
    }
   ],
   "source": [
    "print(classification_report(y_true=y_test, y_pred=y_pred))"
   ]
  },
  {
   "cell_type": "markdown",
   "id": "7661e061",
   "metadata": {},
   "source": [
    "SVM ile en düşük doğruluk, kesinlik ve F1 değerleri elde edilmiştir, öznitelik silinmesi ile düzelmez ise SVM'nin bu veri seti için uygun olmadığı düşünülebilir"
   ]
  },
  {
   "cell_type": "code",
   "execution_count": 84,
   "id": "f14e444f",
   "metadata": {},
   "outputs": [
    {
     "name": "stderr",
     "output_type": "stream",
     "text": [
      "C:\\Users\\22490046962\\Anaconda3\\lib\\site-packages\\sklearn\\svm\\_base.py:976: ConvergenceWarning: Liblinear failed to converge, increase the number of iterations.\n",
      "  warnings.warn(\"Liblinear failed to converge, increase \"\n"
     ]
    }
   ],
   "source": [
    "veriSeti1=veriSeti.copy()\n",
    "veriSeti1.drop(\"loan\",axis=1,inplace=True)\n",
    "X = veriSeti1.iloc[:,0:15]\n",
    "y = veriSeti.iloc[:,-1] \n",
    "classifier=OneVsOneClassifier(LinearSVC(random_state=0))\n",
    "X_train, X_test, y_train, y_test= train_test_split(X,y,test_size=0.25, random_state=4)\n",
    "classifier.fit(X_train,y_train)\n",
    "y_pred=classifier.predict(X_test)"
   ]
  },
  {
   "cell_type": "code",
   "execution_count": 85,
   "id": "22e79c56",
   "metadata": {},
   "outputs": [
    {
     "data": {
      "text/plain": [
       "array([[1161,  297],\n",
       "       [ 485,  848]], dtype=int64)"
      ]
     },
     "execution_count": 85,
     "metadata": {},
     "output_type": "execute_result"
    }
   ],
   "source": [
    "confusion_matrix(y_true=y_test, y_pred=y_pred)"
   ]
  },
  {
   "cell_type": "code",
   "execution_count": 86,
   "id": "29bacdec",
   "metadata": {},
   "outputs": [
    {
     "data": {
      "image/png": "[encoded data removed]",
      "text/plain": [
       "<Figure size 432x288 with 2 Axes>"
      ]
     },
     "metadata": {
      "needs_background": "light"
     },
     "output_type": "display_data"
    }
   ],
   "source": [
    "plot_confusion_matrix(classifier, X_test, y_test)  \n",
    "plt.show()"
   ]
  },
  {
   "cell_type": "code",
   "execution_count": 87,
   "id": "a41d72e2",
   "metadata": {},
   "outputs": [
    {
     "name": "stdout",
     "output_type": "stream",
     "text": [
      "              precision    recall  f1-score   support\n",
      "\n",
      "           0       0.71      0.80      0.75      1458\n",
      "           1       0.74      0.64      0.68      1333\n",
      "\n",
      "    accuracy                           0.72      2791\n",
      "   macro avg       0.72      0.72      0.72      2791\n",
      "weighted avg       0.72      0.72      0.72      2791\n",
      "\n"
     ]
    }
   ],
   "source": [
    "print(classification_report(y_true=y_test, y_pred=y_pred))"
   ]
  },
  {
   "cell_type": "markdown",
   "id": "522ad15a",
   "metadata": {},
   "source": [
    "Loan özniteliğinin çıkarılması ile daha iyi sonuçlar elde edilmiştir, marital ve previous da çıkarılarak deneme yapılacaktır."
   ]
  },
  {
   "cell_type": "code",
   "execution_count": 88,
   "id": "099a6595",
   "metadata": {},
   "outputs": [
    {
     "name": "stderr",
     "output_type": "stream",
     "text": [
      "C:\\Users\\22490046962\\Anaconda3\\lib\\site-packages\\sklearn\\svm\\_base.py:976: ConvergenceWarning: Liblinear failed to converge, increase the number of iterations.\n",
      "  warnings.warn(\"Liblinear failed to converge, increase \"\n"
     ]
    }
   ],
   "source": [
    "veriSeti2=veriSeti1.copy()\n",
    "veriSeti2.drop(\"marital\",axis=1,inplace=True)\n",
    "X = veriSeti2.iloc[:,0:14]\n",
    "y = veriSeti2.iloc[:,-1] \n",
    "classifier=OneVsOneClassifier(LinearSVC(random_state=0))\n",
    "X_train, X_test, y_train, y_test= train_test_split(X,y,test_size=0.25, random_state=4)\n",
    "classifier.fit(X_train,y_train)\n",
    "y_pred=classifier.predict(X_test)"
   ]
  },
  {
   "cell_type": "code",
   "execution_count": 89,
   "id": "44655141",
   "metadata": {},
   "outputs": [
    {
     "data": {
      "text/plain": [
       "array([[1394,   64],\n",
       "       [1261,   72]], dtype=int64)"
      ]
     },
     "execution_count": 89,
     "metadata": {},
     "output_type": "execute_result"
    }
   ],
   "source": [
    "confusion_matrix(y_true=y_test, y_pred=y_pred)"
   ]
  },
  {
   "cell_type": "code",
   "execution_count": 90,
   "id": "ef8a7be4",
   "metadata": {},
   "outputs": [
    {
     "data": {
      "image/png": "[encoded data removed]",
      "text/plain": [
       "<Figure size 432x288 with 2 Axes>"
      ]
     },
     "metadata": {
      "needs_background": "light"
     },
     "output_type": "display_data"
    }
   ],
   "source": [
    "plot_confusion_matrix(classifier, X_test, y_test)  \n",
    "plt.show()"
   ]
  },
  {
   "cell_type": "code",
   "execution_count": 91,
   "id": "8915c51f",
   "metadata": {},
   "outputs": [
    {
     "name": "stdout",
     "output_type": "stream",
     "text": [
      "              precision    recall  f1-score   support\n",
      "\n",
      "           0       0.53      0.96      0.68      1458\n",
      "           1       0.53      0.05      0.10      1333\n",
      "\n",
      "    accuracy                           0.53      2791\n",
      "   macro avg       0.53      0.51      0.39      2791\n",
      "weighted avg       0.53      0.53      0.40      2791\n",
      "\n"
     ]
    }
   ],
   "source": [
    "print(classification_report(y_true=y_test, y_pred=y_pred))"
   ]
  },
  {
   "cell_type": "markdown",
   "id": "7f51234f",
   "metadata": {},
   "source": [
    "marital özniteliğinin çıkarılması ile çok daha kötü sonuçlar elde edilmiştir, marital yeniden eklenip previous çıkarılarak deneme yapılacaktır."
   ]
  },
  {
   "cell_type": "code",
   "execution_count": 92,
   "id": "0a0feed5",
   "metadata": {},
   "outputs": [
    {
     "name": "stderr",
     "output_type": "stream",
     "text": [
      "C:\\Users\\22490046962\\Anaconda3\\lib\\site-packages\\sklearn\\svm\\_base.py:976: ConvergenceWarning: Liblinear failed to converge, increase the number of iterations.\n",
      "  warnings.warn(\"Liblinear failed to converge, increase \"\n"
     ]
    }
   ],
   "source": [
    "veriSeti3=veriSeti1.copy()\n",
    "veriSeti3.drop(\"previous\",axis=1,inplace=True)\n",
    "X = veriSeti3.iloc[:,0:14]\n",
    "y = veriSeti3.iloc[:,-1] \n",
    "classifier=OneVsOneClassifier(LinearSVC(random_state=0))\n",
    "X_train, X_test, y_train, y_test= train_test_split(X,y,test_size=0.25, random_state=4)\n",
    "classifier.fit(X_train,y_train)\n",
    "y_pred=classifier.predict(X_test)"
   ]
  },
  {
   "cell_type": "code",
   "execution_count": 93,
   "id": "6e429a08",
   "metadata": {},
   "outputs": [
    {
     "data": {
      "text/plain": [
       "array([[1051,  407],\n",
       "       [ 241, 1092]], dtype=int64)"
      ]
     },
     "execution_count": 93,
     "metadata": {},
     "output_type": "execute_result"
    }
   ],
   "source": [
    "confusion_matrix(y_true=y_test, y_pred=y_pred)"
   ]
  },
  {
   "cell_type": "code",
   "execution_count": 94,
   "id": "a3d755c7",
   "metadata": {},
   "outputs": [
    {
     "data": {
      "image/png": "[encoded data removed]",
      "text/plain": [
       "<Figure size 432x288 with 2 Axes>"
      ]
     },
     "metadata": {
      "needs_background": "light"
     },
     "output_type": "display_data"
    }
   ],
   "source": [
    "plot_confusion_matrix(classifier, X_test, y_test)  \n",
    "plt.show()"
   ]
  },
  {
   "cell_type": "code",
   "execution_count": 95,
   "id": "04223f87",
   "metadata": {},
   "outputs": [
    {
     "name": "stdout",
     "output_type": "stream",
     "text": [
      "              precision    recall  f1-score   support\n",
      "\n",
      "           0       0.81      0.72      0.76      1458\n",
      "           1       0.73      0.82      0.77      1333\n",
      "\n",
      "    accuracy                           0.77      2791\n",
      "   macro avg       0.77      0.77      0.77      2791\n",
      "weighted avg       0.77      0.77      0.77      2791\n",
      "\n"
     ]
    }
   ],
   "source": [
    "print(classification_report(y_true=y_test, y_pred=y_pred))"
   ]
  },
  {
   "cell_type": "code",
   "execution_count": 96,
   "id": "ed16cb8f",
   "metadata": {},
   "outputs": [],
   "source": [
    "veriSeti4=veriSeti.copy()\n",
    "veriSeti4.drop([\"loan\",\"marital\",\"education\",\"job\",\"balance\"],axis=1,inplace=True)\n",
    "X = veriSeti4.iloc[:,0:11]\n",
    "y = veriSeti4.iloc[:,-1] "
   ]
  },
  {
   "cell_type": "code",
   "execution_count": 97,
   "id": "e2163f90",
   "metadata": {},
   "outputs": [
    {
     "name": "stderr",
     "output_type": "stream",
     "text": [
      "C:\\Users\\22490046962\\Anaconda3\\lib\\site-packages\\sklearn\\svm\\_base.py:976: ConvergenceWarning: Liblinear failed to converge, increase the number of iterations.\n",
      "  warnings.warn(\"Liblinear failed to converge, increase \"\n"
     ]
    }
   ],
   "source": [
    "classifier=OneVsOneClassifier(LinearSVC(random_state=0))\n",
    "X_train, X_test, y_train, y_test= train_test_split(X,y,test_size=0.25, random_state=4)\n",
    "classifier.fit(X_train,y_train)\n",
    "y_pred=classifier.predict(X_test)"
   ]
  },
  {
   "cell_type": "code",
   "execution_count": 98,
   "id": "dc0c9211",
   "metadata": {},
   "outputs": [
    {
     "data": {
      "text/plain": [
       "array([[ 261, 1197],\n",
       "       [   9, 1324]], dtype=int64)"
      ]
     },
     "execution_count": 98,
     "metadata": {},
     "output_type": "execute_result"
    }
   ],
   "source": [
    "confusion_matrix(y_true=y_test, y_pred=y_pred)"
   ]
  },
  {
   "cell_type": "code",
   "execution_count": 99,
   "id": "ca309b4d",
   "metadata": {},
   "outputs": [
    {
     "data": {
      "image/png": "[encoded data removed]",
      "text/plain": [
       "<Figure size 432x288 with 2 Axes>"
      ]
     },
     "metadata": {
      "needs_background": "light"
     },
     "output_type": "display_data"
    }
   ],
   "source": [
    "plot_confusion_matrix(classifier, X_test, y_test)  \n",
    "plt.show()"
   ]
  },
  {
   "cell_type": "code",
   "execution_count": 100,
   "id": "b0673b1f",
   "metadata": {},
   "outputs": [
    {
     "name": "stdout",
     "output_type": "stream",
     "text": [
      "              precision    recall  f1-score   support\n",
      "\n",
      "           0       0.97      0.18      0.30      1458\n",
      "           1       0.53      0.99      0.69      1333\n",
      "\n",
      "    accuracy                           0.57      2791\n",
      "   macro avg       0.75      0.59      0.49      2791\n",
      "weighted avg       0.76      0.57      0.49      2791\n",
      "\n"
     ]
    }
   ],
   "source": [
    "print(classification_report(y_true=y_test, y_pred=y_pred))"
   ]
  },
  {
   "cell_type": "markdown",
   "id": "005b7eb6",
   "metadata": {},
   "source": [
    "Previous ve loan çıkarıldığında verisetinin accuracy,presicion, recall, f1 score artmıştır, Verisetinden önemlilik sırasına göre diğer öznitelikler de çıkarılarak denenmiştir ancak %77 accuracy üzerinde çıkılamamıştır bu nedenle veriseti en son bu haliyle bırakılmıştır."
   ]
  },
  {
   "cell_type": "markdown",
   "id": "abcbc4d5",
   "metadata": {},
   "source": [
    "# <font color='green'>KNN İLE SINIFLANDIRMA</font>"
   ]
  },
  {
   "cell_type": "code",
   "execution_count": 101,
   "id": "397c4db2",
   "metadata": {},
   "outputs": [],
   "source": [
    "from sklearn.neighbors import KNeighborsClassifier"
   ]
  },
  {
   "cell_type": "code",
   "execution_count": 102,
   "id": "5f6cebb2",
   "metadata": {},
   "outputs": [
    {
     "data": {
      "text/plain": [
       "array([[1118,  340],\n",
       "       [ 397,  936]], dtype=int64)"
      ]
     },
     "execution_count": 102,
     "metadata": {},
     "output_type": "execute_result"
    }
   ],
   "source": [
    "X = veriSeti.iloc[:,0:16]\n",
    "y = veriSeti.iloc[:,-1]\n",
    "X_train, X_test, y_train, y_test= train_test_split(X,y,test_size=0.25, random_state=4)\n",
    "classifier = KNeighborsClassifier(n_neighbors=5, metric='minkowski', p = 2)\n",
    "classifier.fit(X_train, y_train)\n",
    "y_pred=classifier.predict(X_test)\n",
    "confusion_matrix(y_true=y_test, y_pred=y_pred)"
   ]
  },
  {
   "cell_type": "code",
   "execution_count": 103,
   "id": "af93c7d1",
   "metadata": {},
   "outputs": [
    {
     "data": {
      "image/png": "[encoded data removed]",
      "text/plain": [
       "<Figure size 432x288 with 2 Axes>"
      ]
     },
     "metadata": {
      "needs_background": "light"
     },
     "output_type": "display_data"
    }
   ],
   "source": [
    "plot_confusion_matrix(classifier, X_test, y_test)  \n",
    "plt.show()"
   ]
  },
  {
   "cell_type": "markdown",
   "id": "fa0167f8",
   "metadata": {},
   "source": [
    "Karmaşıklık matrisine göre doğruların sayısı 1118+936=2054, yanlışların sayısı ise 397+340=737'tir. Buna göre oluşan accuracy, precision, recall ve f1 değerleri aşağıda gösterilmiştir"
   ]
  },
  {
   "cell_type": "code",
   "execution_count": 104,
   "id": "3775327e",
   "metadata": {},
   "outputs": [
    {
     "name": "stdout",
     "output_type": "stream",
     "text": [
      "              precision    recall  f1-score   support\n",
      "\n",
      "           0       0.74      0.77      0.75      1458\n",
      "           1       0.73      0.70      0.72      1333\n",
      "\n",
      "    accuracy                           0.74      2791\n",
      "   macro avg       0.74      0.73      0.73      2791\n",
      "weighted avg       0.74      0.74      0.74      2791\n",
      "\n"
     ]
    }
   ],
   "source": [
    "print(classification_report(y_true=y_test, y_pred=y_pred))"
   ]
  },
  {
   "cell_type": "code",
   "execution_count": 105,
   "id": "f575db67",
   "metadata": {},
   "outputs": [
    {
     "data": {
      "text/plain": [
       "array([[1118,  340],\n",
       "       [ 396,  937]], dtype=int64)"
      ]
     },
     "execution_count": 105,
     "metadata": {},
     "output_type": "execute_result"
    }
   ],
   "source": [
    "veriSeti1=veriSeti.copy()\n",
    "veriSeti1.drop(\"loan\",axis=1,inplace=True)\n",
    "X = veriSeti1.iloc[:,0:15]\n",
    "y = veriSeti.iloc[:,-1]\n",
    "X_train, X_test, y_train, y_test= train_test_split(X,y,test_size=0.25, random_state=4)\n",
    "classifier = KNeighborsClassifier(n_neighbors=5, metric='minkowski', p = 2)\n",
    "classifier.fit(X_train, y_train)\n",
    "y_pred=classifier.predict(X_test)\n",
    "confusion_matrix(y_true=y_test, y_pred=y_pred)"
   ]
  },
  {
   "cell_type": "code",
   "execution_count": 106,
   "id": "3b5eec9e",
   "metadata": {},
   "outputs": [
    {
     "name": "stdout",
     "output_type": "stream",
     "text": [
      "              precision    recall  f1-score   support\n",
      "\n",
      "           0       0.74      0.77      0.75      1458\n",
      "           1       0.73      0.70      0.72      1333\n",
      "\n",
      "    accuracy                           0.74      2791\n",
      "   macro avg       0.74      0.73      0.74      2791\n",
      "weighted avg       0.74      0.74      0.74      2791\n",
      "\n"
     ]
    }
   ],
   "source": [
    "print(classification_report(y_true=y_test, y_pred=y_pred))"
   ]
  },
  {
   "cell_type": "markdown",
   "id": "35cb8656",
   "metadata": {},
   "source": [
    "Setten Loan özniteliği çıkarılması neredeyse hiç bir değişikliğe neden olmamıştır bu nedenle çıkarılmadan marital ve previous denenecektir."
   ]
  },
  {
   "cell_type": "code",
   "execution_count": 107,
   "id": "247fc356",
   "metadata": {},
   "outputs": [
    {
     "data": {
      "text/plain": [
       "array([[1118,  340],\n",
       "       [ 397,  936]], dtype=int64)"
      ]
     },
     "execution_count": 107,
     "metadata": {},
     "output_type": "execute_result"
    }
   ],
   "source": [
    "veriSeti2=veriSeti.copy()\n",
    "veriSeti2.drop(\"marital\",axis=1,inplace=True)\n",
    "X = veriSeti2.iloc[:,0:15]\n",
    "y = veriSeti2.iloc[:,-1]\n",
    "X_train, X_test, y_train, y_test= train_test_split(X,y,test_size=0.25, random_state=4)\n",
    "classifier = KNeighborsClassifier(n_neighbors=5, metric='minkowski', p = 2)\n",
    "classifier.fit(X_train, y_train)\n",
    "y_pred=classifier.predict(X_test) \n",
    "confusion_matrix(y_true=y_test, y_pred=y_pred)"
   ]
  },
  {
   "cell_type": "code",
   "execution_count": 108,
   "id": "391b0e13",
   "metadata": {},
   "outputs": [
    {
     "data": {
      "image/png": "[encoded data removed]",
      "text/plain": [
       "<Figure size 432x288 with 2 Axes>"
      ]
     },
     "metadata": {
      "needs_background": "light"
     },
     "output_type": "display_data"
    }
   ],
   "source": [
    "plot_confusion_matrix(classifier, X_test, y_test)  \n",
    "plt.show()"
   ]
  },
  {
   "cell_type": "code",
   "execution_count": 109,
   "id": "a4341874",
   "metadata": {},
   "outputs": [
    {
     "name": "stdout",
     "output_type": "stream",
     "text": [
      "              precision    recall  f1-score   support\n",
      "\n",
      "           0       0.74      0.77      0.75      1458\n",
      "           1       0.73      0.70      0.72      1333\n",
      "\n",
      "    accuracy                           0.74      2791\n",
      "   macro avg       0.74      0.73      0.73      2791\n",
      "weighted avg       0.74      0.74      0.74      2791\n",
      "\n"
     ]
    }
   ],
   "source": [
    "print(classification_report(y_true=y_test, y_pred=y_pred))"
   ]
  },
  {
   "cell_type": "markdown",
   "id": "8f4a7d2c",
   "metadata": {},
   "source": [
    "Setten marital özniteliği çıkarılması neredeyse hiç bir değişikliğe neden olmamıştır bu nedenle çıkarılmadan\n",
    "previous denenecektir."
   ]
  },
  {
   "cell_type": "code",
   "execution_count": 110,
   "id": "d8d7ac05",
   "metadata": {},
   "outputs": [
    {
     "data": {
      "text/plain": [
       "array([[1214,  244],\n",
       "       [ 989,  344]], dtype=int64)"
      ]
     },
     "execution_count": 110,
     "metadata": {},
     "output_type": "execute_result"
    }
   ],
   "source": [
    "veriSeti3=veriSeti.copy()\n",
    "veriSeti3.drop(\"previous\",axis=1,inplace=True)\n",
    "X = veriSeti3.iloc[:,0:1]\n",
    "y = veriSeti3.iloc[:,-1]\n",
    "X_train, X_test, y_train, y_test= train_test_split(X,y,test_size=0.25, random_state=4)\n",
    "classifier = KNeighborsClassifier(n_neighbors=5, metric='minkowski', p = 2)\n",
    "classifier.fit(X_train, y_train)\n",
    "y_pred=classifier.predict(X_test)\n",
    "confusion_matrix(y_true=y_test, y_pred=y_pred)"
   ]
  },
  {
   "cell_type": "code",
   "execution_count": 111,
   "id": "dd034f0e",
   "metadata": {},
   "outputs": [
    {
     "data": {
      "image/png": "[encoded data removed]",
      "text/plain": [
       "<Figure size 432x288 with 2 Axes>"
      ]
     },
     "metadata": {
      "needs_background": "light"
     },
     "output_type": "display_data"
    }
   ],
   "source": [
    "plot_confusion_matrix(classifier, X_test, y_test)  \n",
    "plt.show()"
   ]
  },
  {
   "cell_type": "code",
   "execution_count": 112,
   "id": "4f9ddd81",
   "metadata": {},
   "outputs": [
    {
     "name": "stdout",
     "output_type": "stream",
     "text": [
      "              precision    recall  f1-score   support\n",
      "\n",
      "           0       0.55      0.83      0.66      1458\n",
      "           1       0.59      0.26      0.36      1333\n",
      "\n",
      "    accuracy                           0.56      2791\n",
      "   macro avg       0.57      0.55      0.51      2791\n",
      "weighted avg       0.57      0.56      0.52      2791\n",
      "\n"
     ]
    }
   ],
   "source": [
    "print(classification_report(y_true=y_test, y_pred=y_pred))"
   ]
  },
  {
   "cell_type": "markdown",
   "id": "93647a78",
   "metadata": {},
   "source": [
    "Setten previous özniteliği çıkarılması neredeyse hiç bir değişikliğe neden olmamıştır bu nedenle veri seti bu şekilde bırakılacaktır, "
   ]
  },
  {
   "cell_type": "code",
   "execution_count": 113,
   "id": "96dbf632",
   "metadata": {},
   "outputs": [],
   "source": [
    "veriSeti4=veriSeti.copy()\n",
    "veriSeti4.drop([\"loan\",\"marital\",\"education\",\"job\",\"balance\"],axis=1,inplace=True)\n",
    "X = veriSeti4.iloc[:,0:11]\n",
    "y = veriSeti4.iloc[:,-1] "
   ]
  },
  {
   "cell_type": "code",
   "execution_count": 114,
   "id": "867e3792",
   "metadata": {},
   "outputs": [
    {
     "data": {
      "text/plain": [
       "array([[1178,  280],\n",
       "       [ 354,  979]], dtype=int64)"
      ]
     },
     "execution_count": 114,
     "metadata": {},
     "output_type": "execute_result"
    }
   ],
   "source": [
    "X_train, X_test, y_train, y_test= train_test_split(X,y,test_size=0.25, random_state=4)\n",
    "classifier = KNeighborsClassifier(n_neighbors=5, metric='minkowski', p = 2)\n",
    "classifier.fit(X_train, y_train)\n",
    "y_pred=classifier.predict(X_test)\n",
    "confusion_matrix(y_true=y_test, y_pred=y_pred)"
   ]
  },
  {
   "cell_type": "code",
   "execution_count": 115,
   "id": "af0f1d17",
   "metadata": {},
   "outputs": [
    {
     "data": {
      "image/png": "[encoded data removed]",
      "text/plain": [
       "<Figure size 432x288 with 2 Axes>"
      ]
     },
     "metadata": {
      "needs_background": "light"
     },
     "output_type": "display_data"
    }
   ],
   "source": [
    "plot_confusion_matrix(classifier, X_test, y_test)  \n",
    "plt.show()"
   ]
  },
  {
   "cell_type": "code",
   "execution_count": 116,
   "id": "dab7118d",
   "metadata": {},
   "outputs": [
    {
     "name": "stdout",
     "output_type": "stream",
     "text": [
      "              precision    recall  f1-score   support\n",
      "\n",
      "           0       0.77      0.81      0.79      1458\n",
      "           1       0.78      0.73      0.76      1333\n",
      "\n",
      "    accuracy                           0.77      2791\n",
      "   macro avg       0.77      0.77      0.77      2791\n",
      "weighted avg       0.77      0.77      0.77      2791\n",
      "\n"
     ]
    }
   ],
   "source": [
    "print(classification_report(y_true=y_test, y_pred=y_pred))"
   ]
  },
  {
   "cell_type": "markdown",
   "id": "86126538",
   "metadata": {},
   "source": [
    "# <font color='green'>Yapay Sinir Ağları İle Sınıflandırma</font>"
   ]
  },
  {
   "cell_type": "code",
   "execution_count": 117,
   "id": "1708f4f3",
   "metadata": {},
   "outputs": [],
   "source": [
    "from scipy import stats\n",
    "from sklearn.metrics import explained_variance_score, mean_absolute_error, mean_squared_error\n",
    "from sklearn.metrics import median_absolute_error, r2_score\n",
    "from sklearn.preprocessing import StandardScaler\n",
    "from sklearn.neural_network import MLPClassifier,MLPRegressor"
   ]
  },
  {
   "cell_type": "code",
   "execution_count": 118,
   "id": "8979b2de",
   "metadata": {},
   "outputs": [],
   "source": [
    "X = veriSeti.iloc[:,0:16].values\n",
    "y = veriSeti.iloc[:,-1].values\n",
    "y=y.astype('int')\n",
    "X_train, X_test, y_train, y_test= train_test_split(X,y,test_size=0.25, random_state=4)"
   ]
  },
  {
   "cell_type": "code",
   "execution_count": 119,
   "id": "a498cb90",
   "metadata": {},
   "outputs": [],
   "source": [
    "scaler=StandardScaler()\n",
    "X_train=scaler.fit_transform(X_train)\n",
    "X_test=scaler.fit_transform(X_test)\n",
    "y_train=scaler.fit_transform(y_train.reshape(-1,1))\n",
    "y_test=scaler.fit_transform(y_test.reshape(-1,1))\n",
    "y_train=pd.DataFrame(y_train)\n",
    "y_test=pd.DataFrame(y_test)"
   ]
  },
  {
   "cell_type": "code",
   "execution_count": 120,
   "id": "f103ecf3",
   "metadata": {},
   "outputs": [],
   "source": [
    "siniflandirici=MLPRegressor(alpha=0.001,hidden_layer_sizes=(10,10),random_state=4, verbose=True, learning_rate_init=0.01)"
   ]
  },
  {
   "cell_type": "code",
   "execution_count": 121,
   "id": "61548148",
   "metadata": {},
   "outputs": [
    {
     "name": "stdout",
     "output_type": "stream",
     "text": [
      "Iteration 1, loss = 0.50630678\n",
      "Iteration 2, loss = 0.31911359\n",
      "Iteration 3, loss = 0.29095184\n",
      "Iteration 4, loss = 0.28361880\n",
      "Iteration 5, loss = 0.27870865\n",
      "Iteration 6, loss = 0.27521417\n",
      "Iteration 7, loss = 0.27266792\n",
      "Iteration 8, loss = 0.27132719\n",
      "Iteration 9, loss = 0.27031966\n",
      "Iteration 10, loss = 0.26773787\n",
      "Iteration 11, loss = 0.26630875\n",
      "Iteration 12, loss = 0.26518992\n",
      "Iteration 13, loss = 0.26713405\n",
      "Iteration 14, loss = 0.26375163\n",
      "Iteration 15, loss = 0.26291229\n",
      "Iteration 16, loss = 0.26199071\n",
      "Iteration 17, loss = 0.26031157\n",
      "Iteration 18, loss = 0.25960743\n",
      "Iteration 19, loss = 0.25770697\n",
      "Iteration 20, loss = 0.25793617\n",
      "Iteration 21, loss = 0.25796139\n",
      "Iteration 22, loss = 0.25825977\n",
      "Iteration 23, loss = 0.25586317\n",
      "Iteration 24, loss = 0.25615633\n",
      "Iteration 25, loss = 0.25602958\n",
      "Iteration 26, loss = 0.25679220\n",
      "Iteration 27, loss = 0.25498355\n",
      "Iteration 28, loss = 0.25678062\n",
      "Iteration 29, loss = 0.25404904\n",
      "Iteration 30, loss = 0.25392190\n",
      "Iteration 31, loss = 0.25179858\n",
      "Iteration 32, loss = 0.25300191\n",
      "Iteration 33, loss = 0.25297784\n",
      "Iteration 34, loss = 0.25241432\n",
      "Iteration 35, loss = 0.25189594\n",
      "Iteration 36, loss = 0.25244079\n",
      "Iteration 37, loss = 0.25115712\n",
      "Iteration 38, loss = 0.24929197\n",
      "Iteration 39, loss = 0.25008310\n",
      "Iteration 40, loss = 0.24987148\n",
      "Iteration 41, loss = 0.25061371\n",
      "Iteration 42, loss = 0.24635315\n",
      "Iteration 43, loss = 0.25147104\n",
      "Iteration 44, loss = 0.24764364\n",
      "Iteration 45, loss = 0.24810080\n",
      "Iteration 46, loss = 0.24515442\n",
      "Iteration 47, loss = 0.24629425\n",
      "Iteration 48, loss = 0.24491016\n",
      "Iteration 49, loss = 0.24518046\n",
      "Iteration 50, loss = 0.24424904\n",
      "Iteration 51, loss = 0.24522360\n",
      "Iteration 52, loss = 0.24554739\n",
      "Iteration 53, loss = 0.24528439\n",
      "Iteration 54, loss = 0.24469812\n",
      "Iteration 55, loss = 0.24456906\n",
      "Iteration 56, loss = 0.24258785\n",
      "Iteration 57, loss = 0.24233427\n",
      "Iteration 58, loss = 0.24238652\n",
      "Iteration 59, loss = 0.24214822\n",
      "Iteration 60, loss = 0.24272705\n",
      "Iteration 61, loss = 0.24347049\n",
      "Iteration 62, loss = 0.24179607\n",
      "Iteration 63, loss = 0.24126710\n",
      "Iteration 64, loss = 0.24248156\n",
      "Iteration 65, loss = 0.24136229\n",
      "Iteration 66, loss = 0.23993357\n",
      "Iteration 67, loss = 0.24028901\n",
      "Iteration 68, loss = 0.24041012\n",
      "Iteration 69, loss = 0.23979108\n",
      "Iteration 70, loss = 0.24085717\n",
      "Iteration 71, loss = 0.24171899\n",
      "Iteration 72, loss = 0.24228967\n",
      "Iteration 73, loss = 0.23941633\n",
      "Iteration 74, loss = 0.24297202\n",
      "Iteration 75, loss = 0.24033217\n",
      "Iteration 76, loss = 0.24095474\n",
      "Iteration 77, loss = 0.24028324\n",
      "Iteration 78, loss = 0.23834210\n",
      "Iteration 79, loss = 0.23919672\n",
      "Iteration 80, loss = 0.23893252\n",
      "Iteration 81, loss = 0.23960529\n",
      "Iteration 82, loss = 0.23884035\n",
      "Iteration 83, loss = 0.23737945\n",
      "Iteration 84, loss = 0.24010309\n",
      "Iteration 85, loss = 0.23781434\n",
      "Iteration 86, loss = 0.23765658\n",
      "Iteration 87, loss = 0.23755891\n",
      "Iteration 88, loss = 0.23696030\n",
      "Iteration 89, loss = 0.23691101\n",
      "Iteration 90, loss = 0.23937212\n",
      "Iteration 91, loss = 0.23881255\n",
      "Iteration 92, loss = 0.23645566\n",
      "Iteration 93, loss = 0.23720119\n",
      "Iteration 94, loss = 0.23578854\n",
      "Iteration 95, loss = 0.23654623\n",
      "Iteration 96, loss = 0.23632622\n",
      "Iteration 97, loss = 0.23460989\n",
      "Iteration 98, loss = 0.23650763\n",
      "Iteration 99, loss = 0.23518536\n",
      "Iteration 100, loss = 0.23621361\n",
      "Iteration 101, loss = 0.23828805\n",
      "Iteration 102, loss = 0.23540942\n",
      "Iteration 103, loss = 0.23648754\n",
      "Iteration 104, loss = 0.23608110\n",
      "Iteration 105, loss = 0.23612810\n",
      "Iteration 106, loss = 0.23609801\n",
      "Iteration 107, loss = 0.23466599\n",
      "Iteration 108, loss = 0.23816057\n",
      "Training loss did not improve more than tol=0.000100 for 10 consecutive epochs. Stopping.\n"
     ]
    },
    {
     "data": {
      "text/plain": [
       "MLPRegressor(alpha=0.001, hidden_layer_sizes=(10, 10), learning_rate_init=0.01,\n",
       "             random_state=4, verbose=True)"
      ]
     },
     "execution_count": 121,
     "metadata": {},
     "output_type": "execute_result"
    }
   ],
   "source": [
    "siniflandirici.fit(X_train, y_train.values.ravel())"
   ]
  },
  {
   "cell_type": "code",
   "execution_count": 122,
   "id": "756bed34",
   "metadata": {},
   "outputs": [],
   "source": [
    "y_pred=siniflandirici.predict(X_test)"
   ]
  },
  {
   "cell_type": "code",
   "execution_count": 123,
   "id": "9e0e829d",
   "metadata": {},
   "outputs": [
    {
     "name": "stdout",
     "output_type": "stream",
     "text": [
      "0.4795531631996979\n"
     ]
    }
   ],
   "source": [
    "print(siniflandirici.score(X_test,y_test))"
   ]
  },
  {
   "cell_type": "code",
   "execution_count": 124,
   "id": "8e3f0d0d",
   "metadata": {},
   "outputs": [],
   "source": [
    "# Marital veri seti çıkarılacaktır.\n",
    "veriSeti2=veriSeti.copy()\n",
    "veriSeti2.drop(\"marital\",axis=1,inplace=True)\n",
    "X = veriSeti2.iloc[:,0:15]\n",
    "y = veriSeti2.iloc[:,-1]\n",
    "y=y.astype('int')\n",
    "X_train, X_test, y_train, y_test= train_test_split(X,y,test_size=0.25, random_state=4)"
   ]
  },
  {
   "cell_type": "code",
   "execution_count": 125,
   "id": "0145692e",
   "metadata": {},
   "outputs": [
    {
     "name": "stdout",
     "output_type": "stream",
     "text": [
      "Iteration 1, loss = 1603.83681046\n",
      "Iteration 2, loss = 26.76218374\n",
      "Iteration 3, loss = 5.74860608\n",
      "Iteration 4, loss = 4.10014652\n",
      "Iteration 5, loss = 2.80124021\n",
      "Iteration 6, loss = 2.36097712\n",
      "Iteration 7, loss = 4.00796449\n",
      "Iteration 8, loss = 4.53473769\n",
      "Iteration 9, loss = 2.04183642\n",
      "Iteration 10, loss = 1.39540685\n",
      "Iteration 11, loss = 9.78801519\n",
      "Iteration 12, loss = 6.55680128\n",
      "Iteration 13, loss = 8.41895306\n",
      "Iteration 14, loss = 65.58555615\n",
      "Iteration 15, loss = 8.43669161\n",
      "Iteration 16, loss = 1.25193919\n",
      "Iteration 17, loss = 0.70458545\n",
      "Iteration 18, loss = 0.53564805\n",
      "Iteration 19, loss = 0.51080256\n",
      "Iteration 20, loss = 0.62368444\n",
      "Iteration 21, loss = 0.43136812\n",
      "Iteration 22, loss = 2.01221271\n",
      "Iteration 23, loss = 1.93761729\n",
      "Iteration 24, loss = 3.69680157\n",
      "Iteration 25, loss = 0.31898122\n",
      "Iteration 26, loss = 0.48994265\n",
      "Iteration 27, loss = 0.38878240\n",
      "Iteration 28, loss = 6.45849606\n",
      "Iteration 29, loss = 23.59381750\n",
      "Iteration 30, loss = 83.11486654\n",
      "Iteration 31, loss = 60.99849332\n",
      "Iteration 32, loss = 21.39235224\n",
      "Iteration 33, loss = 5.61382459\n",
      "Iteration 34, loss = 1.20166979\n",
      "Iteration 35, loss = 0.71699901\n",
      "Iteration 36, loss = 0.57713851\n",
      "Training loss did not improve more than tol=0.000100 for 10 consecutive epochs. Stopping.\n"
     ]
    },
    {
     "data": {
      "text/plain": [
       "MLPRegressor(alpha=0.001, hidden_layer_sizes=(10, 10), learning_rate_init=0.01,\n",
       "             random_state=4, verbose=True)"
      ]
     },
     "execution_count": 125,
     "metadata": {},
     "output_type": "execute_result"
    }
   ],
   "source": [
    "scaler=StandardScaler()\n",
    "siniflandirici=MLPRegressor(alpha=0.001,hidden_layer_sizes=(10,10),random_state=4, verbose=True, learning_rate_init=0.01)\n",
    "siniflandirici.fit(X_train, y_train.values.ravel())"
   ]
  },
  {
   "cell_type": "code",
   "execution_count": 126,
   "id": "1358ee86",
   "metadata": {},
   "outputs": [
    {
     "name": "stdout",
     "output_type": "stream",
     "text": [
      "-3.195796660262241\n"
     ]
    }
   ],
   "source": [
    "print(siniflandirici.score(X_test,y_test))"
   ]
  },
  {
   "cell_type": "code",
   "execution_count": 127,
   "id": "20e59ae1",
   "metadata": {},
   "outputs": [],
   "source": [
    "veriSeti4=veriSeti.copy()\n",
    "veriSeti4.drop([\"loan\",\"marital\",\"education\",\"job\",\"balance\"],axis=1,inplace=True)\n",
    "X = veriSeti4.iloc[:,0:11]\n",
    "y = veriSeti4.iloc[:,-1]\n",
    "y=y.astype('int')\n",
    "X_train, X_test, y_train, y_test= train_test_split(X,y,test_size=0.25, random_state=4)"
   ]
  },
  {
   "cell_type": "code",
   "execution_count": 128,
   "id": "bd3a5431",
   "metadata": {},
   "outputs": [
    {
     "name": "stdout",
     "output_type": "stream",
     "text": [
      "Iteration 1, loss = 2301.20180289\n",
      "Iteration 2, loss = 9.14638477\n",
      "Iteration 3, loss = 1.93365560\n",
      "Iteration 4, loss = 1.10225131\n",
      "Iteration 5, loss = 0.63301242\n",
      "Iteration 6, loss = 0.50209178\n",
      "Iteration 7, loss = 0.42640424\n",
      "Iteration 8, loss = 0.36790819\n",
      "Iteration 9, loss = 0.32726022\n",
      "Iteration 10, loss = 0.29757868\n",
      "Iteration 11, loss = 0.27382748\n",
      "Iteration 12, loss = 0.25584976\n",
      "Iteration 13, loss = 0.23973935\n",
      "Iteration 14, loss = 0.22298533\n",
      "Iteration 15, loss = 0.21420622\n",
      "Iteration 16, loss = 0.20386113\n",
      "Iteration 17, loss = 0.19576130\n",
      "Iteration 18, loss = 0.18724074\n",
      "Iteration 19, loss = 0.17852275\n",
      "Iteration 20, loss = 0.17322853\n",
      "Iteration 21, loss = 0.16832086\n",
      "Iteration 22, loss = 0.16503072\n",
      "Iteration 23, loss = 0.15912486\n",
      "Iteration 24, loss = 0.15452858\n",
      "Iteration 25, loss = 0.14789375\n",
      "Iteration 26, loss = 0.14558776\n",
      "Iteration 27, loss = 0.14291848\n",
      "Iteration 28, loss = 0.13697246\n",
      "Iteration 29, loss = 0.13499170\n",
      "Iteration 30, loss = 0.13354526\n",
      "Iteration 31, loss = 0.13198686\n",
      "Iteration 32, loss = 0.12655611\n",
      "Iteration 33, loss = 0.12035347\n",
      "Iteration 34, loss = 0.11808088\n",
      "Iteration 35, loss = 0.11458639\n",
      "Iteration 36, loss = 0.11451431\n",
      "Iteration 37, loss = 0.11111750\n",
      "Iteration 38, loss = 0.11133706\n",
      "Iteration 39, loss = 0.11386363\n",
      "Iteration 40, loss = 0.10642364\n",
      "Iteration 41, loss = 0.10437252\n",
      "Iteration 42, loss = 0.10588363\n",
      "Iteration 43, loss = 0.10104384\n",
      "Iteration 44, loss = 0.09851710\n",
      "Iteration 45, loss = 0.09765011\n",
      "Iteration 46, loss = 0.10787078\n",
      "Iteration 47, loss = 0.09995712\n",
      "Iteration 48, loss = 0.09619887\n",
      "Iteration 49, loss = 0.10327346\n",
      "Iteration 50, loss = 0.10021875\n",
      "Iteration 51, loss = 0.09702818\n",
      "Iteration 52, loss = 0.09385116\n",
      "Iteration 53, loss = 0.09927392\n",
      "Iteration 54, loss = 0.09584037\n",
      "Iteration 55, loss = 0.09537181\n",
      "Iteration 56, loss = 0.09277666\n",
      "Iteration 57, loss = 0.09121863\n",
      "Iteration 58, loss = 0.09452619\n",
      "Iteration 59, loss = 0.09704340\n",
      "Iteration 60, loss = 0.10394723\n",
      "Iteration 61, loss = 0.09648770\n",
      "Iteration 62, loss = 0.09241526\n",
      "Iteration 63, loss = 0.09059906\n",
      "Iteration 64, loss = 0.09319607\n",
      "Iteration 65, loss = 0.09069330\n",
      "Iteration 66, loss = 0.09488130\n",
      "Iteration 67, loss = 0.09078084\n",
      "Iteration 68, loss = 0.10070958\n",
      "Iteration 69, loss = 0.08819024\n",
      "Iteration 70, loss = 0.09200543\n",
      "Iteration 71, loss = 0.09626340\n",
      "Iteration 72, loss = 0.08855378\n",
      "Iteration 73, loss = 0.08935689\n",
      "Iteration 74, loss = 0.09238956\n",
      "Iteration 75, loss = 0.09473368\n",
      "Iteration 76, loss = 0.09344032\n",
      "Iteration 77, loss = 0.09638093\n",
      "Iteration 78, loss = 0.11108759\n",
      "Iteration 79, loss = 0.11716959\n",
      "Iteration 80, loss = 0.08800405\n",
      "Iteration 81, loss = 0.09016669\n",
      "Iteration 82, loss = 0.12450087\n",
      "Iteration 83, loss = 0.18485897\n",
      "Iteration 84, loss = 0.11505034\n",
      "Iteration 85, loss = 0.09999771\n",
      "Iteration 86, loss = 0.09524347\n",
      "Iteration 87, loss = 0.09059926\n",
      "Iteration 88, loss = 0.08906474\n",
      "Iteration 89, loss = 0.08721881\n",
      "Iteration 90, loss = 0.08546008\n",
      "Iteration 91, loss = 0.08315803\n",
      "Iteration 92, loss = 0.08382318\n",
      "Iteration 93, loss = 0.08351747\n",
      "Iteration 94, loss = 0.08543966\n",
      "Iteration 95, loss = 0.08308490\n",
      "Iteration 96, loss = 0.08502647\n",
      "Iteration 97, loss = 0.08288572\n",
      "Iteration 98, loss = 0.08743754\n",
      "Iteration 99, loss = 0.08299567\n",
      "Iteration 100, loss = 0.08096256\n",
      "Iteration 101, loss = 0.08342265\n",
      "Iteration 102, loss = 0.08302152\n",
      "Iteration 103, loss = 0.08295586\n",
      "Iteration 104, loss = 0.08203209\n",
      "Iteration 105, loss = 0.08515007\n",
      "Iteration 106, loss = 0.08364755\n",
      "Iteration 107, loss = 0.08463302\n",
      "Iteration 108, loss = 0.08416358\n",
      "Iteration 109, loss = 0.08099200\n",
      "Iteration 110, loss = 0.08033036\n",
      "Iteration 111, loss = 0.08714427\n",
      "Iteration 112, loss = 0.08065624\n",
      "Iteration 113, loss = 0.07982417\n",
      "Iteration 114, loss = 0.08009540\n",
      "Iteration 115, loss = 0.08259613\n",
      "Iteration 116, loss = 0.07991176\n",
      "Iteration 117, loss = 0.07983606\n",
      "Iteration 118, loss = 0.07979431\n",
      "Iteration 119, loss = 0.08037222\n",
      "Iteration 120, loss = 0.07939385\n",
      "Iteration 121, loss = 0.08085394\n",
      "Iteration 122, loss = 0.07791432\n",
      "Iteration 123, loss = 0.08132903\n",
      "Iteration 124, loss = 0.07900974\n",
      "Iteration 125, loss = 0.07948341\n",
      "Iteration 126, loss = 0.07911067\n",
      "Iteration 127, loss = 0.08042523\n",
      "Iteration 128, loss = 0.08191917\n",
      "Iteration 129, loss = 0.08337836\n",
      "Iteration 130, loss = 0.08658599\n",
      "Iteration 131, loss = 0.07961802\n",
      "Iteration 132, loss = 0.08129953\n",
      "Iteration 133, loss = 0.07969046\n",
      "Training loss did not improve more than tol=0.000100 for 10 consecutive epochs. Stopping.\n"
     ]
    },
    {
     "data": {
      "text/plain": [
       "MLPRegressor(alpha=0.001, hidden_layer_sizes=(10, 10), learning_rate_init=0.01,\n",
       "             random_state=4, verbose=True)"
      ]
     },
     "execution_count": 128,
     "metadata": {},
     "output_type": "execute_result"
    }
   ],
   "source": [
    "scaler=StandardScaler()\n",
    "siniflandirici=MLPRegressor(alpha=0.001,hidden_layer_sizes=(10,10),random_state=4, verbose=True, learning_rate_init=0.01)\n",
    "siniflandirici.fit(X_train, y_train.values.ravel())"
   ]
  },
  {
   "cell_type": "code",
   "execution_count": 129,
   "id": "269ac2eb",
   "metadata": {},
   "outputs": [
    {
     "name": "stdout",
     "output_type": "stream",
     "text": [
      "0.37144201978765323\n"
     ]
    }
   ],
   "source": [
    "print(siniflandirici.score(X_test,y_test))"
   ]
  },
  {
   "cell_type": "markdown",
   "id": "8a3c3a4c",
   "metadata": {},
   "source": [
    "Öznitelikler çıkarıldıkça skor değeri düşmektedir bu nedenle öznitelik çıkarılmadan önceki hali en iyi olarak kabul edilecek ve 0.47 değeri alınacaktır."
   ]
  },
  {
   "cell_type": "markdown",
   "id": "8671a881",
   "metadata": {},
   "source": [
    "# <font color=\"green\"> Sonuç </font>"
   ]
  },
  {
   "cell_type": "markdown",
   "id": "de47333a",
   "metadata": {},
   "source": [
    "Acuuracy değerlerine bakıldığında Lojistik regresyon modelinde en yüksek değer 0.80, Naive Bayes modelinde en yüksek değer 0.75 SVM modelinde ve KNN modelinde 0.77 YSA'da ise 0.47 olarak çıkmıştır. Kurulan modeller arasında banka verisi için en uygun sınıflamanın Lojistik regresyon olduğuna karar verilmiştir.\n"
   ]
  }
 ],
 "metadata": {
  "kernelspec": {
   "display_name": "Python 3 (ipykernel)",
   "language": "python",
   "name": "python3"
  },
  "language_info": {
   "codemirror_mode": {
    "name": "ipython",
    "version": 3
   },
   "file_extension": ".py",
   "mimetype": "text/x-python",
   "name": "python",
   "nbconvert_exporter": "python",
   "pygments_lexer": "ipython3",
   "version": "3.9.7"
  }
 },
 "nbformat": 4,
 "nbformat_minor": 5
}
