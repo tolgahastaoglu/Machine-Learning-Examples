{
 "cells": [
  {
   "cell_type": "markdown",
   "metadata": {},
   "source": [
    "# <font color='red'>Yapay Zeka Ara Sınav Soru 1</font>\n",
    "Tolga HASTAOĞLU 21040201015\n"
   ]
  },
  {
   "cell_type": "markdown",
   "metadata": {},
   "source": [
    " Soru 1 a) Veri Ön işleme (Çift değerlerin silinmesi, Alakasız değerlerin silinmesi, Tutarsız değerlerin kaldırılması, İstenmeyen sütunun veya satırın kaldırılması, İstenmeyen sütunun veya satırın kaldırılması, Eksik değerlerin silinmesi, Aykırı değerlerin kaldırılması)\n"
   ]
  },
  {
   "cell_type": "code",
   "execution_count": 1,
   "metadata": {},
   "outputs": [],
   "source": [
    "#Kullanılacak Kütüphanelerin import edilmesi\n",
    "import pandas as pd\n",
    "import numpy as np\n",
    "import seaborn as sns\n",
    "import matplotlib.pyplot as plt\n"
   ]
  },
  {
   "cell_type": "code",
   "execution_count": 2,
   "metadata": {},
   "outputs": [
    {
     "data": {
      "text/html": [
       "<div>\n",
       "<style scoped>\n",
       "    .dataframe tbody tr th:only-of-type {\n",
       "        vertical-align: middle;\n",
       "    }\n",
       "\n",
       "    .dataframe tbody tr th {\n",
       "        vertical-align: top;\n",
       "    }\n",
       "\n",
       "    .dataframe thead th {\n",
       "        text-align: right;\n",
       "    }\n",
       "</style>\n",
       "<table border=\"1\" class=\"dataframe\">\n",
       "  <thead>\n",
       "    <tr style=\"text-align: right;\">\n",
       "      <th></th>\n",
       "      <th>Pregnancies</th>\n",
       "      <th>Glucose</th>\n",
       "      <th>BloodPressure</th>\n",
       "      <th>SkinThickness</th>\n",
       "      <th>Insulin</th>\n",
       "      <th>BMI</th>\n",
       "      <th>DiabetesPedigreeFunction</th>\n",
       "      <th>Age</th>\n",
       "      <th>Outcome</th>\n",
       "    </tr>\n",
       "  </thead>\n",
       "  <tbody>\n",
       "    <tr>\n",
       "      <th>0</th>\n",
       "      <td>6</td>\n",
       "      <td>148</td>\n",
       "      <td>72</td>\n",
       "      <td>35</td>\n",
       "      <td>0</td>\n",
       "      <td>33.6</td>\n",
       "      <td>0.627</td>\n",
       "      <td>50</td>\n",
       "      <td>1</td>\n",
       "    </tr>\n",
       "    <tr>\n",
       "      <th>1</th>\n",
       "      <td>1</td>\n",
       "      <td>85</td>\n",
       "      <td>66</td>\n",
       "      <td>29</td>\n",
       "      <td>0</td>\n",
       "      <td>26.6</td>\n",
       "      <td>0.351</td>\n",
       "      <td>31</td>\n",
       "      <td>0</td>\n",
       "    </tr>\n",
       "    <tr>\n",
       "      <th>2</th>\n",
       "      <td>8</td>\n",
       "      <td>183</td>\n",
       "      <td>64</td>\n",
       "      <td>0</td>\n",
       "      <td>0</td>\n",
       "      <td>23.3</td>\n",
       "      <td>0.672</td>\n",
       "      <td>32</td>\n",
       "      <td>1</td>\n",
       "    </tr>\n",
       "    <tr>\n",
       "      <th>3</th>\n",
       "      <td>1</td>\n",
       "      <td>89</td>\n",
       "      <td>66</td>\n",
       "      <td>23</td>\n",
       "      <td>94</td>\n",
       "      <td>28.1</td>\n",
       "      <td>0.167</td>\n",
       "      <td>21</td>\n",
       "      <td>0</td>\n",
       "    </tr>\n",
       "    <tr>\n",
       "      <th>4</th>\n",
       "      <td>0</td>\n",
       "      <td>137</td>\n",
       "      <td>40</td>\n",
       "      <td>35</td>\n",
       "      <td>168</td>\n",
       "      <td>43.1</td>\n",
       "      <td>2.288</td>\n",
       "      <td>33</td>\n",
       "      <td>1</td>\n",
       "    </tr>\n",
       "  </tbody>\n",
       "</table>\n",
       "</div>"
      ],
      "text/plain": [
       "   Pregnancies  Glucose  BloodPressure  SkinThickness  Insulin   BMI  \\\n",
       "0            6      148             72             35        0  33.6   \n",
       "1            1       85             66             29        0  26.6   \n",
       "2            8      183             64              0        0  23.3   \n",
       "3            1       89             66             23       94  28.1   \n",
       "4            0      137             40             35      168  43.1   \n",
       "\n",
       "   DiabetesPedigreeFunction  Age  Outcome  \n",
       "0                     0.627   50        1  \n",
       "1                     0.351   31        0  \n",
       "2                     0.672   32        1  \n",
       "3                     0.167   21        0  \n",
       "4                     2.288   33        1  "
      ]
     },
     "execution_count": 2,
     "metadata": {},
     "output_type": "execute_result"
    }
   ],
   "source": [
    "#Kullanılacak veri çağrılır\n",
    "data=pd.read_csv(\"diabetes.csv\")\n",
    "data.head()\n",
    "#Bu veride amacımız hamilelik sayısı, Glukoz, Tansiyon, cilt kalınlığı,\n",
    "#İnsülin, vücut kitle endeksi, diabet yüzdesi ve yaşı verilen kişiler için diabet hastası olup olmadığı tahmin etmektir."
   ]
  },
  {
   "cell_type": "code",
   "execution_count": 3,
   "metadata": {},
   "outputs": [
    {
     "data": {
      "text/plain": [
       "(768, 9)"
      ]
     },
     "execution_count": 3,
     "metadata": {},
     "output_type": "execute_result"
    }
   ],
   "source": [
    "#Veri Öznitelik Sayısı kontrolü yapılmıştır.\n",
    "data.shape"
   ]
  },
  {
   "cell_type": "markdown",
   "metadata": {},
   "source": [
    "768 satır ve 9 sütundan oluşuyor, Outcome özniteliği bağlımlı, geri kalan 8 öznitelik bağımsız değişken olacaktır."
   ]
  },
  {
   "cell_type": "code",
   "execution_count": 4,
   "metadata": {
    "scrolled": true
   },
   "outputs": [
    {
     "name": "stdout",
     "output_type": "stream",
     "text": [
      "<class 'pandas.core.frame.DataFrame'>\n",
      "RangeIndex: 768 entries, 0 to 767\n",
      "Data columns (total 9 columns):\n",
      " #   Column                    Non-Null Count  Dtype  \n",
      "---  ------                    --------------  -----  \n",
      " 0   Pregnancies               768 non-null    int64  \n",
      " 1   Glucose                   768 non-null    int64  \n",
      " 2   BloodPressure             768 non-null    int64  \n",
      " 3   SkinThickness             768 non-null    int64  \n",
      " 4   Insulin                   768 non-null    int64  \n",
      " 5   BMI                       768 non-null    float64\n",
      " 6   DiabetesPedigreeFunction  768 non-null    float64\n",
      " 7   Age                       768 non-null    int64  \n",
      " 8   Outcome                   768 non-null    int64  \n",
      "dtypes: float64(2), int64(7)\n",
      "memory usage: 54.1 KB\n"
     ]
    }
   ],
   "source": [
    "#Veri içerisinde kayıp değer olup olmadığı kontrolü yapılacaktır\n",
    "data.info()"
   ]
  },
  {
   "cell_type": "markdown",
   "metadata": {},
   "source": [
    "Ekran çıktısında da görüldüğü üzere veri setimiz hafıza 54.1 kb yer kaplamaktadır, 9 öznitelikte de 768 değer vardır ve herhangi bir kayıp değer bulunmamaktadır"
   ]
  },
  {
   "cell_type": "code",
   "execution_count": 5,
   "metadata": {},
   "outputs": [
    {
     "data": {
      "text/html": [
       "<div>\n",
       "<style scoped>\n",
       "    .dataframe tbody tr th:only-of-type {\n",
       "        vertical-align: middle;\n",
       "    }\n",
       "\n",
       "    .dataframe tbody tr th {\n",
       "        vertical-align: top;\n",
       "    }\n",
       "\n",
       "    .dataframe thead th {\n",
       "        text-align: right;\n",
       "    }\n",
       "</style>\n",
       "<table border=\"1\" class=\"dataframe\">\n",
       "  <thead>\n",
       "    <tr style=\"text-align: right;\">\n",
       "      <th></th>\n",
       "      <th>Pregnancies</th>\n",
       "      <th>Glucose</th>\n",
       "      <th>BloodPressure</th>\n",
       "      <th>SkinThickness</th>\n",
       "      <th>Insulin</th>\n",
       "      <th>BMI</th>\n",
       "      <th>DiabetesPedigreeFunction</th>\n",
       "      <th>Age</th>\n",
       "      <th>Outcome</th>\n",
       "    </tr>\n",
       "  </thead>\n",
       "  <tbody>\n",
       "  </tbody>\n",
       "</table>\n",
       "</div>"
      ],
      "text/plain": [
       "Empty DataFrame\n",
       "Columns: [Pregnancies, Glucose, BloodPressure, SkinThickness, Insulin, BMI, DiabetesPedigreeFunction, Age, Outcome]\n",
       "Index: []"
      ]
     },
     "execution_count": 5,
     "metadata": {},
     "output_type": "execute_result"
    }
   ],
   "source": [
    "#Yinelenen değer olup olmadığı kontrol edilecektir, eğer yinelenen değer var ise veriden çıkarılacaktır.\n",
    "data[data.duplicated()==True]"
   ]
  },
  {
   "cell_type": "markdown",
   "metadata": {},
   "source": [
    "Veri içerisinde yinelenen değer olmadığı için herhangi bir silme işlemi yapılmayacaktır."
   ]
  },
  {
   "cell_type": "code",
   "execution_count": 6,
   "metadata": {},
   "outputs": [
    {
     "data": {
      "text/plain": [
       "<AxesSubplot:xlabel='Pregnancies'>"
      ]
     },
     "execution_count": 6,
     "metadata": {},
     "output_type": "execute_result"
    },
    {
     "data": {
      "image/png": "[encoded data removed]",
      "text/plain": [
       "<Figure size 432x288 with 1 Axes>"
      ]
     },
     "metadata": {
      "needs_background": "light"
     },
     "output_type": "display_data"
    }
   ],
   "source": [
    "sns.boxplot(x=data[\"Pregnancies\"])"
   ]
  },
  {
   "cell_type": "code",
   "execution_count": 7,
   "metadata": {},
   "outputs": [
    {
     "data": {
      "text/plain": [
       "<AxesSubplot:xlabel='Glucose'>"
      ]
     },
     "execution_count": 7,
     "metadata": {},
     "output_type": "execute_result"
    },
    {
     "data": {
      "image/png": "[encoded data removed]",
      "text/plain": [
       "<Figure size 432x288 with 1 Axes>"
      ]
     },
     "metadata": {
      "needs_background": "light"
     },
     "output_type": "display_data"
    }
   ],
   "source": [
    "sns.boxplot(x=data[\"Glucose\"])"
   ]
  },
  {
   "cell_type": "code",
   "execution_count": 8,
   "metadata": {},
   "outputs": [
    {
     "data": {
      "text/plain": [
       "<AxesSubplot:xlabel='BloodPressure'>"
      ]
     },
     "execution_count": 8,
     "metadata": {},
     "output_type": "execute_result"
    },
    {
     "data": {
      "image/png": "[encoded data removed]",
      "text/plain": [
       "<Figure size 432x288 with 1 Axes>"
      ]
     },
     "metadata": {
      "needs_background": "light"
     },
     "output_type": "display_data"
    }
   ],
   "source": [
    "sns.boxplot(x=data[\"BloodPressure\"])"
   ]
  },
  {
   "cell_type": "code",
   "execution_count": 9,
   "metadata": {},
   "outputs": [
    {
     "data": {
      "text/plain": [
       "<AxesSubplot:xlabel='SkinThickness'>"
      ]
     },
     "execution_count": 9,
     "metadata": {},
     "output_type": "execute_result"
    },
    {
     "data": {
      "image/png": "[encoded data removed]",
      "text/plain": [
       "<Figure size 432x288 with 1 Axes>"
      ]
     },
     "metadata": {
      "needs_background": "light"
     },
     "output_type": "display_data"
    }
   ],
   "source": [
    "sns.boxplot(x=data[\"SkinThickness\"])"
   ]
  },
  {
   "cell_type": "code",
   "execution_count": 10,
   "metadata": {},
   "outputs": [
    {
     "data": {
      "text/plain": [
       "<AxesSubplot:xlabel='Insulin'>"
      ]
     },
     "execution_count": 10,
     "metadata": {},
     "output_type": "execute_result"
    },
    {
     "data": {
      "image/png": "[encoded data removed]",
      "text/plain": [
       "<Figure size 432x288 with 1 Axes>"
      ]
     },
     "metadata": {
      "needs_background": "light"
     },
     "output_type": "display_data"
    }
   ],
   "source": [
    "sns.boxplot(x=data[\"Insulin\"])"
   ]
  },
  {
   "cell_type": "code",
   "execution_count": 11,
   "metadata": {},
   "outputs": [
    {
     "data": {
      "text/plain": [
       "<AxesSubplot:xlabel='BMI'>"
      ]
     },
     "execution_count": 11,
     "metadata": {},
     "output_type": "execute_result"
    },
    {
     "data": {
      "image/png": "[encoded data removed]",
      "text/plain": [
       "<Figure size 432x288 with 1 Axes>"
      ]
     },
     "metadata": {
      "needs_background": "light"
     },
     "output_type": "display_data"
    }
   ],
   "source": [
    "sns.boxplot(x=data[\"BMI\"])"
   ]
  },
  {
   "cell_type": "code",
   "execution_count": 12,
   "metadata": {},
   "outputs": [
    {
     "data": {
      "text/plain": [
       "<AxesSubplot:xlabel='DiabetesPedigreeFunction'>"
      ]
     },
     "execution_count": 12,
     "metadata": {},
     "output_type": "execute_result"
    },
    {
     "data": {
      "image/png": "[encoded data removed]",
      "text/plain": [
       "<Figure size 432x288 with 1 Axes>"
      ]
     },
     "metadata": {
      "needs_background": "light"
     },
     "output_type": "display_data"
    }
   ],
   "source": [
    "sns.boxplot(x=data[\"DiabetesPedigreeFunction\"])"
   ]
  },
  {
   "cell_type": "code",
   "execution_count": 13,
   "metadata": {},
   "outputs": [
    {
     "data": {
      "text/plain": [
       "<AxesSubplot:xlabel='Age'>"
      ]
     },
     "execution_count": 13,
     "metadata": {},
     "output_type": "execute_result"
    },
    {
     "data": {
      "image/png": "[encoded data removed]",
      "text/plain": [
       "<Figure size 432x288 with 1 Axes>"
      ]
     },
     "metadata": {
      "needs_background": "light"
     },
     "output_type": "display_data"
    }
   ],
   "source": [
    "sns.boxplot(x=data[\"Age\"])"
   ]
  },
  {
   "cell_type": "markdown",
   "metadata": {},
   "source": [
    "Outcome bağımlı değişkendir ve binary biçimindedir, bu nedenle aykırılık analizi ona yapılmamıştır."
   ]
  },
  {
   "cell_type": "markdown",
   "metadata": {},
   "source": [
    "Boxplot grafiğinin dışında kalan değerler aykırı değerlerdir, aykırı değerlerin silinmesi hesapların doğruluğunu sağlayacaktır.\n",
    "Insulin, BMI, DiabetesPedigreeFunction gibi özniteliklerde değerlerin ortalamadan çok saptığı görülmektedir."
   ]
  },
  {
   "cell_type": "code",
   "execution_count": 14,
   "metadata": {},
   "outputs": [],
   "source": [
    "#Aykırı değerlerin bulunması için önce kartillerine bakılır, 1. ve 3 kartil arası açıklık(IOR) bulunur.\n",
    "#Daha sonra IOR 1.5 ile çarpılarak alt ve üst değerler bulunur\n",
    "def aykırı(veri,feat):\n",
    "    q1 = np.quantile(veri[feat], 0.25)\n",
    "    q3 = np.quantile(veri[feat], 0.75)\n",
    "    fark = q3 - q1\n",
    "    alt_limit = q1 - (1.5 * fark)\n",
    "    ust_limit= q3 + (1.5 * fark)\n",
    "    return veri[(veri[feat] < alt_limit) | (veri[feat] > ust_limit)]\n"
   ]
  },
  {
   "cell_type": "markdown",
   "metadata": {},
   "source": [
    "Aykırı değerler yukarıdaki tabloda oluşan fonsiyon ile hesaplanmaktadır, aynı zamanda liste yaparak satır silme için kullanacağız"
   ]
  },
  {
   "cell_type": "code",
   "execution_count": 15,
   "metadata": {},
   "outputs": [
    {
     "data": {
      "text/html": [
       "<div>\n",
       "<style scoped>\n",
       "    .dataframe tbody tr th:only-of-type {\n",
       "        vertical-align: middle;\n",
       "    }\n",
       "\n",
       "    .dataframe tbody tr th {\n",
       "        vertical-align: top;\n",
       "    }\n",
       "\n",
       "    .dataframe thead th {\n",
       "        text-align: right;\n",
       "    }\n",
       "</style>\n",
       "<table border=\"1\" class=\"dataframe\">\n",
       "  <thead>\n",
       "    <tr style=\"text-align: right;\">\n",
       "      <th></th>\n",
       "      <th>Pregnancies</th>\n",
       "      <th>Glucose</th>\n",
       "      <th>BloodPressure</th>\n",
       "      <th>SkinThickness</th>\n",
       "      <th>Insulin</th>\n",
       "      <th>BMI</th>\n",
       "      <th>DiabetesPedigreeFunction</th>\n",
       "      <th>Age</th>\n",
       "      <th>Outcome</th>\n",
       "    </tr>\n",
       "  </thead>\n",
       "  <tbody>\n",
       "    <tr>\n",
       "      <th>0</th>\n",
       "      <td>6</td>\n",
       "      <td>148</td>\n",
       "      <td>72</td>\n",
       "      <td>35</td>\n",
       "      <td>0</td>\n",
       "      <td>33.6</td>\n",
       "      <td>0.627</td>\n",
       "      <td>50</td>\n",
       "      <td>1</td>\n",
       "    </tr>\n",
       "    <tr>\n",
       "      <th>1</th>\n",
       "      <td>1</td>\n",
       "      <td>85</td>\n",
       "      <td>66</td>\n",
       "      <td>29</td>\n",
       "      <td>0</td>\n",
       "      <td>26.6</td>\n",
       "      <td>0.351</td>\n",
       "      <td>31</td>\n",
       "      <td>0</td>\n",
       "    </tr>\n",
       "    <tr>\n",
       "      <th>2</th>\n",
       "      <td>8</td>\n",
       "      <td>183</td>\n",
       "      <td>64</td>\n",
       "      <td>0</td>\n",
       "      <td>0</td>\n",
       "      <td>23.3</td>\n",
       "      <td>0.672</td>\n",
       "      <td>32</td>\n",
       "      <td>1</td>\n",
       "    </tr>\n",
       "    <tr>\n",
       "      <th>3</th>\n",
       "      <td>1</td>\n",
       "      <td>89</td>\n",
       "      <td>66</td>\n",
       "      <td>23</td>\n",
       "      <td>94</td>\n",
       "      <td>28.1</td>\n",
       "      <td>0.167</td>\n",
       "      <td>21</td>\n",
       "      <td>0</td>\n",
       "    </tr>\n",
       "    <tr>\n",
       "      <th>5</th>\n",
       "      <td>5</td>\n",
       "      <td>116</td>\n",
       "      <td>74</td>\n",
       "      <td>0</td>\n",
       "      <td>0</td>\n",
       "      <td>25.6</td>\n",
       "      <td>0.201</td>\n",
       "      <td>30</td>\n",
       "      <td>0</td>\n",
       "    </tr>\n",
       "    <tr>\n",
       "      <th>...</th>\n",
       "      <td>...</td>\n",
       "      <td>...</td>\n",
       "      <td>...</td>\n",
       "      <td>...</td>\n",
       "      <td>...</td>\n",
       "      <td>...</td>\n",
       "      <td>...</td>\n",
       "      <td>...</td>\n",
       "      <td>...</td>\n",
       "    </tr>\n",
       "    <tr>\n",
       "      <th>763</th>\n",
       "      <td>10</td>\n",
       "      <td>101</td>\n",
       "      <td>76</td>\n",
       "      <td>48</td>\n",
       "      <td>180</td>\n",
       "      <td>32.9</td>\n",
       "      <td>0.171</td>\n",
       "      <td>63</td>\n",
       "      <td>0</td>\n",
       "    </tr>\n",
       "    <tr>\n",
       "      <th>764</th>\n",
       "      <td>2</td>\n",
       "      <td>122</td>\n",
       "      <td>70</td>\n",
       "      <td>27</td>\n",
       "      <td>0</td>\n",
       "      <td>36.8</td>\n",
       "      <td>0.340</td>\n",
       "      <td>27</td>\n",
       "      <td>0</td>\n",
       "    </tr>\n",
       "    <tr>\n",
       "      <th>765</th>\n",
       "      <td>5</td>\n",
       "      <td>121</td>\n",
       "      <td>72</td>\n",
       "      <td>23</td>\n",
       "      <td>112</td>\n",
       "      <td>26.2</td>\n",
       "      <td>0.245</td>\n",
       "      <td>30</td>\n",
       "      <td>0</td>\n",
       "    </tr>\n",
       "    <tr>\n",
       "      <th>766</th>\n",
       "      <td>1</td>\n",
       "      <td>126</td>\n",
       "      <td>60</td>\n",
       "      <td>0</td>\n",
       "      <td>0</td>\n",
       "      <td>30.1</td>\n",
       "      <td>0.349</td>\n",
       "      <td>47</td>\n",
       "      <td>1</td>\n",
       "    </tr>\n",
       "    <tr>\n",
       "      <th>767</th>\n",
       "      <td>1</td>\n",
       "      <td>93</td>\n",
       "      <td>70</td>\n",
       "      <td>31</td>\n",
       "      <td>0</td>\n",
       "      <td>30.4</td>\n",
       "      <td>0.315</td>\n",
       "      <td>23</td>\n",
       "      <td>0</td>\n",
       "    </tr>\n",
       "  </tbody>\n",
       "</table>\n",
       "<p>636 rows × 9 columns</p>\n",
       "</div>"
      ],
      "text/plain": [
       "     Pregnancies  Glucose  BloodPressure  SkinThickness  Insulin   BMI  \\\n",
       "0              6      148             72             35        0  33.6   \n",
       "1              1       85             66             29        0  26.6   \n",
       "2              8      183             64              0        0  23.3   \n",
       "3              1       89             66             23       94  28.1   \n",
       "5              5      116             74              0        0  25.6   \n",
       "..           ...      ...            ...            ...      ...   ...   \n",
       "763           10      101             76             48      180  32.9   \n",
       "764            2      122             70             27        0  36.8   \n",
       "765            5      121             72             23      112  26.2   \n",
       "766            1      126             60              0        0  30.1   \n",
       "767            1       93             70             31        0  30.4   \n",
       "\n",
       "     DiabetesPedigreeFunction  Age  Outcome  \n",
       "0                       0.627   50        1  \n",
       "1                       0.351   31        0  \n",
       "2                       0.672   32        1  \n",
       "3                       0.167   21        0  \n",
       "5                       0.201   30        0  \n",
       "..                        ...  ...      ...  \n",
       "763                     0.171   63        0  \n",
       "764                     0.340   27        0  \n",
       "765                     0.245   30        0  \n",
       "766                     0.349   47        1  \n",
       "767                     0.315   23        0  \n",
       "\n",
       "[636 rows x 9 columns]"
      ]
     },
     "execution_count": 15,
     "metadata": {},
     "output_type": "execute_result"
    }
   ],
   "source": [
    "satirlar=list(data.columns)\n",
    "for satir in satirlar:\n",
    "    hesapla=aykırı(data,satir)\n",
    "    silinecek=list(hesapla.index)\n",
    "    data=(data.drop(silinecek,axis=0,inplace=False))\n",
    "data"
   ]
  },
  {
   "cell_type": "markdown",
   "metadata": {},
   "source": [
    "Aykırı değerler silindikten sonra elimizde 636 satır kalmıştır, bu verilerin boxplot grafikleri çizilerek aykırılık için tekrar kontrol edilecektir."
   ]
  },
  {
   "cell_type": "code",
   "execution_count": 16,
   "metadata": {},
   "outputs": [
    {
     "data": {
      "text/plain": [
       "<AxesSubplot:xlabel='Pregnancies'>"
      ]
     },
     "execution_count": 16,
     "metadata": {},
     "output_type": "execute_result"
    },
    {
     "data": {
      "image/png": "[encoded data removed]",
      "text/plain": [
       "<Figure size 432x288 with 1 Axes>"
      ]
     },
     "metadata": {
      "needs_background": "light"
     },
     "output_type": "display_data"
    }
   ],
   "source": [
    "sns.boxplot(x=data[\"Pregnancies\"])"
   ]
  },
  {
   "cell_type": "code",
   "execution_count": 17,
   "metadata": {},
   "outputs": [
    {
     "data": {
      "text/plain": [
       "<AxesSubplot:xlabel='Glucose'>"
      ]
     },
     "execution_count": 17,
     "metadata": {},
     "output_type": "execute_result"
    },
    {
     "data": {
      "image/png": "[encoded data removed]",
      "text/plain": [
       "<Figure size 432x288 with 1 Axes>"
      ]
     },
     "metadata": {
      "needs_background": "light"
     },
     "output_type": "display_data"
    }
   ],
   "source": [
    "sns.boxplot(x=data[\"Glucose\"])"
   ]
  },
  {
   "cell_type": "code",
   "execution_count": 18,
   "metadata": {},
   "outputs": [
    {
     "data": {
      "text/plain": [
       "<AxesSubplot:xlabel='BloodPressure'>"
      ]
     },
     "execution_count": 18,
     "metadata": {},
     "output_type": "execute_result"
    },
    {
     "data": {
      "image/png": "[encoded data removed]",
      "text/plain": [
       "<Figure size 432x288 with 1 Axes>"
      ]
     },
     "metadata": {
      "needs_background": "light"
     },
     "output_type": "display_data"
    }
   ],
   "source": [
    "sns.boxplot(x=data[\"BloodPressure\"])"
   ]
  },
  {
   "cell_type": "code",
   "execution_count": 19,
   "metadata": {},
   "outputs": [
    {
     "data": {
      "text/plain": [
       "<AxesSubplot:xlabel='SkinThickness'>"
      ]
     },
     "execution_count": 19,
     "metadata": {},
     "output_type": "execute_result"
    },
    {
     "data": {
      "image/png": "[encoded data removed]",
      "text/plain": [
       "<Figure size 432x288 with 1 Axes>"
      ]
     },
     "metadata": {
      "needs_background": "light"
     },
     "output_type": "display_data"
    }
   ],
   "source": [
    "sns.boxplot(x=data[\"SkinThickness\"])"
   ]
  },
  {
   "cell_type": "code",
   "execution_count": 20,
   "metadata": {},
   "outputs": [
    {
     "data": {
      "text/plain": [
       "<AxesSubplot:xlabel='Insulin'>"
      ]
     },
     "execution_count": 20,
     "metadata": {},
     "output_type": "execute_result"
    },
    {
     "data": {
      "image/png": "[encoded data removed]",
      "text/plain": [
       "<Figure size 432x288 with 1 Axes>"
      ]
     },
     "metadata": {
      "needs_background": "light"
     },
     "output_type": "display_data"
    }
   ],
   "source": [
    "sns.boxplot(x=data[\"Insulin\"])"
   ]
  },
  {
   "cell_type": "code",
   "execution_count": 21,
   "metadata": {},
   "outputs": [
    {
     "data": {
      "text/plain": [
       "<AxesSubplot:xlabel='BMI'>"
      ]
     },
     "execution_count": 21,
     "metadata": {},
     "output_type": "execute_result"
    },
    {
     "data": {
      "image/png": "[encoded data removed]",
      "text/plain": [
       "<Figure size 432x288 with 1 Axes>"
      ]
     },
     "metadata": {
      "needs_background": "light"
     },
     "output_type": "display_data"
    }
   ],
   "source": [
    "sns.boxplot(x=data[\"BMI\"])"
   ]
  },
  {
   "cell_type": "code",
   "execution_count": 22,
   "metadata": {},
   "outputs": [
    {
     "data": {
      "text/plain": [
       "<AxesSubplot:xlabel='DiabetesPedigreeFunction'>"
      ]
     },
     "execution_count": 22,
     "metadata": {},
     "output_type": "execute_result"
    },
    {
     "data": {
      "image/png": "[encoded data removed]",
      "text/plain": [
       "<Figure size 432x288 with 1 Axes>"
      ]
     },
     "metadata": {
      "needs_background": "light"
     },
     "output_type": "display_data"
    }
   ],
   "source": [
    "sns.boxplot(x=data[\"DiabetesPedigreeFunction\"])"
   ]
  },
  {
   "cell_type": "code",
   "execution_count": 23,
   "metadata": {},
   "outputs": [
    {
     "data": {
      "text/plain": [
       "<AxesSubplot:xlabel='Age'>"
      ]
     },
     "execution_count": 23,
     "metadata": {},
     "output_type": "execute_result"
    },
    {
     "data": {
      "image/png": "[encoded data removed]",
      "text/plain": [
       "<Figure size 432x288 with 1 Axes>"
      ]
     },
     "metadata": {
      "needs_background": "light"
     },
     "output_type": "display_data"
    }
   ],
   "source": [
    "sns.boxplot(x=data[\"Age\"])"
   ]
  },
  {
   "cell_type": "markdown",
   "metadata": {},
   "source": [
    "Boxplot grafiklerine bakıldığında ilk haline göre düzelmeler olduğu görülmektedir, veriler bu haliyle daha kullanılabilir olmuştur."
   ]
  },
  {
   "cell_type": "markdown",
   "metadata": {},
   "source": [
    "# <font color='green'> Soru 1 b) ExtraTreesClassifier ile Öznitelik önemi (Feature importance) çıkarınız.</font>\n"
   ]
  },
  {
   "cell_type": "markdown",
   "metadata": {},
   "source": [
    "Önce Kullanılacak kütüphaneler import edilir."
   ]
  },
  {
   "cell_type": "code",
   "execution_count": 24,
   "metadata": {},
   "outputs": [],
   "source": [
    "from sklearn.ensemble import ExtraTreesClassifier\n",
    "import numpy as np\n",
    "import matplotlib.pyplot as plt"
   ]
  },
  {
   "cell_type": "code",
   "execution_count": 25,
   "metadata": {},
   "outputs": [],
   "source": [
    "# ilk 8 özniteliğimiz bağımsız değişkeni 9. özniteliğimiz ise bağımlı değişkeni ifade etmektedir, \n",
    "#x ve y değişkenleri bu şekilde hesaplanmıştır.\n",
    "X = data.iloc[:,0:8] \n",
    "y = data.iloc[:,-1] "
   ]
  },
  {
   "cell_type": "code",
   "execution_count": 26,
   "metadata": {},
   "outputs": [
    {
     "name": "stdout",
     "output_type": "stream",
     "text": [
      "[0.11654456 0.23013    0.09999837 0.082961   0.07543181 0.13521826\n",
      " 0.11478851 0.14492748]\n"
     ]
    }
   ],
   "source": [
    "#sklearn kütüphanesinin bir fonkiyonu olan ExtraTreeClassifier kullanılarak öznitelik önemliliği hesaplanmıştır.\n",
    "model = ExtraTreesClassifier()\n",
    "model.fit(X,y)\n",
    "print(model.feature_importances_)"
   ]
  },
  {
   "cell_type": "code",
   "execution_count": 27,
   "metadata": {},
   "outputs": [
    {
     "data": {
      "image/png": "[encoded data removed]",
      "text/plain": [
       "<Figure size 432x288 with 1 Axes>"
      ]
     },
     "metadata": {
      "needs_background": "light"
     },
     "output_type": "display_data"
    }
   ],
   "source": [
    "#Hesaplanan en önemli 5 öznitelik grafik hale getirilmiştir.\n",
    "oznitelik_onemliligi = pd.Series(model.feature_importances_, index=X.\n",
    "columns)\n",
    "oznitelik_onemliligi.nlargest(5).plot(kind='barh')\n",
    "plt.show()"
   ]
  },
  {
   "cell_type": "markdown",
   "metadata": {},
   "source": [
    "Burada diabet hastalığı için en önemli 5 öznitelik görünmektedir, görüldüğü gibi glukoz, yaş, vücut kitle endeksi şeklinde \n",
    "devam etmektedir."
   ]
  },
  {
   "cell_type": "markdown",
   "metadata": {},
   "source": [
    "# <font color='green'>Soru 1c) Veri Setindeki en iyi öznitelikleri skorlandırınız, çıkarınız (SelectKBest)</font>\n"
   ]
  },
  {
   "cell_type": "code",
   "execution_count": 28,
   "metadata": {},
   "outputs": [],
   "source": [
    "import pandas as pd\n",
    "import numpy as np\n",
    "from sklearn.feature_selection import SelectKBest\n",
    "from sklearn.feature_selection import chi2,f_regression\n",
    "\n",
    "#sadece ki kare olmamalı ona göre çalıştır"
   ]
  },
  {
   "cell_type": "code",
   "execution_count": 29,
   "metadata": {},
   "outputs": [],
   "source": [
    "bestfeatures = SelectKBest(score_func=chi2, k=5)\n",
    "fit = bestfeatures.fit(X,y)\n",
    "dfscores = pd.DataFrame(fit.scores_)"
   ]
  },
  {
   "cell_type": "code",
   "execution_count": 30,
   "metadata": {},
   "outputs": [
    {
     "name": "stdout",
     "output_type": "stream",
     "text": [
      "     degişsken        score\n",
      "1      Glucose  1093.254462\n",
      "4      Insulin   845.311059\n",
      "7          Age   164.617840\n",
      "0  Pregnancies    98.441333\n",
      "5          BMI    58.270927\n"
     ]
    }
   ],
   "source": [
    "dfcolumns = pd.DataFrame(X.columns)\n",
    "scores = pd.concat([dfcolumns,dfscores],axis=1)\n",
    "scores.columns = ['degişsken','score']\n",
    "print(scores.nlargest(5,'score'))"
   ]
  },
  {
   "cell_type": "markdown",
   "metadata": {},
   "source": [
    "negatif değerler olmadığı için ki kare yöntemine göre bakılmış ve en iyi özniteliklere sahip 5 değişken bulunmuştur. "
   ]
  },
  {
   "cell_type": "code",
   "execution_count": 31,
   "metadata": {},
   "outputs": [],
   "source": [
    "bestfeatures = SelectKBest(score_func=f_regression, k=5)\n",
    "fit = bestfeatures.fit(X,y)\n",
    "dfscores = pd.DataFrame(fit.scores_)"
   ]
  },
  {
   "cell_type": "code",
   "execution_count": 32,
   "metadata": {},
   "outputs": [
    {
     "name": "stdout",
     "output_type": "stream",
     "text": [
      "       degişsken       score\n",
      "1        Glucose  203.958073\n",
      "5            BMI   49.165886\n",
      "7            Age   48.673427\n",
      "0    Pregnancies   37.270304\n",
      "2  BloodPressure   19.138270\n"
     ]
    }
   ],
   "source": [
    "dfcolumns = pd.DataFrame(X.columns)\n",
    "scores = pd.concat([dfcolumns,dfscores],axis=1)\n",
    "scores.columns = ['degişsken','score']\n",
    "print(scores.nlargest(5,'score'))"
   ]
  },
  {
   "cell_type": "markdown",
   "metadata": {},
   "source": [
    "Sürekli veri kullanıldığından regresyon da denenmiştir, en önemli ilk 5 öznitelik neredeyse aynıdır bu nedenle Glukoz, yaş, gebelik ve vücut kitle endeksi verimizdeki en önemli öznitelikler olarak görülebilecektir."
   ]
  },
  {
   "cell_type": "markdown",
   "metadata": {},
   "source": [
    "# <font color='green'>Soru1d) Korelasyon ısı haritasını çıkarınız.</font>\n",
    "# "
   ]
  },
  {
   "cell_type": "markdown",
   "metadata": {},
   "source": [
    "Isı haritası oluşturmadan önce korelsyon tablosunu çıkarmamız gerekmektedir."
   ]
  },
  {
   "cell_type": "code",
   "execution_count": 33,
   "metadata": {},
   "outputs": [],
   "source": [
    "korelasyon=data.corr()"
   ]
  },
  {
   "cell_type": "code",
   "execution_count": 34,
   "metadata": {},
   "outputs": [
    {
     "data": {
      "image/png": "[encoded data removed]",
      "text/plain": [
       "<Figure size 720x720 with 2 Axes>"
      ]
     },
     "metadata": {
      "needs_background": "light"
     },
     "output_type": "display_data"
    }
   ],
   "source": [
    "top_corr_features = korelasyon.index\n",
    "plt.figure(figsize=(10,10))\n",
    "g=sns.heatmap(data[top_corr_features].corr(),annot=True,cmap=\"RdYlGn\")"
   ]
  },
  {
   "cell_type": "markdown",
   "metadata": {},
   "source": [
    "Isı haritasında da görüldüğü üzere en yüksek aynı yönlü korelasyon 0.58 ile hamilelik ve yaş arasındadır, ters yönlü ilişkiler ise -0.1 den küçük olduğu için negatif olan ilişkilere ters yönlü zayıf ilişkiler vardır yorumu yapılabilir."
   ]
  },
  {
   "cell_type": "markdown",
   "metadata": {},
   "source": [
    "\n",
    "# <font color='green'>Soru1e) Normal dağılıma sahip olmayan verileri standartlaştırınız (Ölçeklendirme, Standartlaştırma, Normalize etme)</font>\n",
    " "
   ]
  },
  {
   "cell_type": "code",
   "execution_count": 35,
   "metadata": {},
   "outputs": [],
   "source": [
    "from scipy import stats"
   ]
  },
  {
   "cell_type": "code",
   "execution_count": 36,
   "metadata": {},
   "outputs": [
    {
     "data": {
      "text/plain": [
       "array([[<AxesSubplot:title={'center':'Pregnancies'}>,\n",
       "        <AxesSubplot:title={'center':'Glucose'}>,\n",
       "        <AxesSubplot:title={'center':'BloodPressure'}>],\n",
       "       [<AxesSubplot:title={'center':'SkinThickness'}>,\n",
       "        <AxesSubplot:title={'center':'Insulin'}>,\n",
       "        <AxesSubplot:title={'center':'BMI'}>],\n",
       "       [<AxesSubplot:title={'center':'DiabetesPedigreeFunction'}>,\n",
       "        <AxesSubplot:title={'center':'Age'}>,\n",
       "        <AxesSubplot:title={'center':'Outcome'}>]], dtype=object)"
      ]
     },
     "execution_count": 36,
     "metadata": {},
     "output_type": "execute_result"
    },
    {
     "data": {
      "image/png": "[encoded data removed]",
      "text/plain": [
       "<Figure size 432x288 with 9 Axes>"
      ]
     },
     "metadata": {
      "needs_background": "light"
     },
     "output_type": "display_data"
    }
   ],
   "source": [
    "data.hist()"
   ]
  },
  {
   "cell_type": "code",
   "execution_count": 37,
   "metadata": {},
   "outputs": [
    {
     "name": "stdout",
     "output_type": "stream",
     "text": [
      "Pregnancies için değerler 0.7029799661943291 4.33279643e-316\n",
      "Pregnancies normal dağılmamaktadır\n",
      "\n",
      "Glucose için değerler 1.0 0.0\n",
      "Glucose normal dağılmamaktadır\n",
      "\n",
      "BloodPressure için değerler 1.0 0.0\n",
      "BloodPressure normal dağılmamaktadır\n",
      "\n",
      "SkinThickness için değerler 0.7279874213823679 0.0\n",
      "SkinThickness normal dağılmamaktadır\n",
      "\n",
      "Insulin için değerler 0.5283018867924528 4.659208410727626e-166\n",
      "Insulin normal dağılmamaktadır\n",
      "\n",
      "BMI için değerler 1.0 0.0\n",
      "BMI normal dağılmamaktadır\n",
      "\n",
      "DiabetesPedigreeFunction için değerler 0.5318994570710616 1.6479686362916521e-168\n",
      "DiabetesPedigreeFunction normal dağılmamaktadır\n",
      "\n",
      "Age için değerler 1.0 0.0\n",
      "Age normal dağılmamaktadır\n",
      "\n",
      "Outcome için değerler 0.5 1.4945571783272715e-147\n",
      "Outcome normal dağılmamaktadır\n",
      "\n"
     ]
    }
   ],
   "source": [
    "for veri in data:\n",
    "    ks, p=stats.kstest(data[veri],\"norm\")\n",
    "    print(veri+\" için değerler \"+ str(ks)+\" \"+str(p))\n",
    "    if p>0.05:\n",
    "        print(veri+ \" normal dağılmaktadır\\n\")\n",
    "    else:\n",
    "        print(veri+ \" normal dağılmamaktadır\\n\")"
   ]
  },
  {
   "cell_type": "markdown",
   "metadata": {},
   "source": [
    "Sonuçlarda da görüldüğü üzere elimizde bulunan hiç bir veri Kolmogrov-Smirnov normallik testine göre normal dağılmamaktadır. Bu nedenle verilerimizi normalize edeceğiz."
   ]
  },
  {
   "cell_type": "code",
   "execution_count": 38,
   "metadata": {},
   "outputs": [
    {
     "data": {
      "text/html": [
       "<div>\n",
       "<style scoped>\n",
       "    .dataframe tbody tr th:only-of-type {\n",
       "        vertical-align: middle;\n",
       "    }\n",
       "\n",
       "    .dataframe tbody tr th {\n",
       "        vertical-align: top;\n",
       "    }\n",
       "\n",
       "    .dataframe thead th {\n",
       "        text-align: right;\n",
       "    }\n",
       "</style>\n",
       "<table border=\"1\" class=\"dataframe\">\n",
       "  <thead>\n",
       "    <tr style=\"text-align: right;\">\n",
       "      <th></th>\n",
       "      <th>normalizePregnancies</th>\n",
       "      <th>normalizeGlucose</th>\n",
       "      <th>normalizeBloodPressure</th>\n",
       "      <th>normalizeSkinThickness</th>\n",
       "      <th>normalizeInsulin</th>\n",
       "      <th>normalizeBMI</th>\n",
       "      <th>normalizeDiabetesPedigreeFunction</th>\n",
       "      <th>normalizeAge</th>\n",
       "      <th>normalizeOutcome</th>\n",
       "    </tr>\n",
       "  </thead>\n",
       "  <tbody>\n",
       "    <tr>\n",
       "      <th>0</th>\n",
       "      <td>0.461538</td>\n",
       "      <td>0.675325</td>\n",
       "      <td>0.500000</td>\n",
       "      <td>0.583333</td>\n",
       "      <td>0.000000</td>\n",
       "      <td>0.490446</td>\n",
       "      <td>0.506458</td>\n",
       "      <td>0.659091</td>\n",
       "      <td>1.0</td>\n",
       "    </tr>\n",
       "    <tr>\n",
       "      <th>1</th>\n",
       "      <td>0.076923</td>\n",
       "      <td>0.266234</td>\n",
       "      <td>0.411765</td>\n",
       "      <td>0.483333</td>\n",
       "      <td>0.000000</td>\n",
       "      <td>0.267516</td>\n",
       "      <td>0.251845</td>\n",
       "      <td>0.227273</td>\n",
       "      <td>0.0</td>\n",
       "    </tr>\n",
       "    <tr>\n",
       "      <th>2</th>\n",
       "      <td>0.615385</td>\n",
       "      <td>0.902597</td>\n",
       "      <td>0.382353</td>\n",
       "      <td>0.000000</td>\n",
       "      <td>0.000000</td>\n",
       "      <td>0.162420</td>\n",
       "      <td>0.547970</td>\n",
       "      <td>0.250000</td>\n",
       "      <td>1.0</td>\n",
       "    </tr>\n",
       "    <tr>\n",
       "      <th>3</th>\n",
       "      <td>0.076923</td>\n",
       "      <td>0.292208</td>\n",
       "      <td>0.411765</td>\n",
       "      <td>0.383333</td>\n",
       "      <td>0.284848</td>\n",
       "      <td>0.315287</td>\n",
       "      <td>0.082103</td>\n",
       "      <td>0.000000</td>\n",
       "      <td>0.0</td>\n",
       "    </tr>\n",
       "    <tr>\n",
       "      <th>5</th>\n",
       "      <td>0.384615</td>\n",
       "      <td>0.467532</td>\n",
       "      <td>0.529412</td>\n",
       "      <td>0.000000</td>\n",
       "      <td>0.000000</td>\n",
       "      <td>0.235669</td>\n",
       "      <td>0.113469</td>\n",
       "      <td>0.204545</td>\n",
       "      <td>0.0</td>\n",
       "    </tr>\n",
       "    <tr>\n",
       "      <th>...</th>\n",
       "      <td>...</td>\n",
       "      <td>...</td>\n",
       "      <td>...</td>\n",
       "      <td>...</td>\n",
       "      <td>...</td>\n",
       "      <td>...</td>\n",
       "      <td>...</td>\n",
       "      <td>...</td>\n",
       "      <td>...</td>\n",
       "    </tr>\n",
       "    <tr>\n",
       "      <th>763</th>\n",
       "      <td>0.769231</td>\n",
       "      <td>0.370130</td>\n",
       "      <td>0.558824</td>\n",
       "      <td>0.800000</td>\n",
       "      <td>0.545455</td>\n",
       "      <td>0.468153</td>\n",
       "      <td>0.085793</td>\n",
       "      <td>0.954545</td>\n",
       "      <td>0.0</td>\n",
       "    </tr>\n",
       "    <tr>\n",
       "      <th>764</th>\n",
       "      <td>0.153846</td>\n",
       "      <td>0.506494</td>\n",
       "      <td>0.470588</td>\n",
       "      <td>0.450000</td>\n",
       "      <td>0.000000</td>\n",
       "      <td>0.592357</td>\n",
       "      <td>0.241697</td>\n",
       "      <td>0.136364</td>\n",
       "      <td>0.0</td>\n",
       "    </tr>\n",
       "    <tr>\n",
       "      <th>765</th>\n",
       "      <td>0.384615</td>\n",
       "      <td>0.500000</td>\n",
       "      <td>0.500000</td>\n",
       "      <td>0.383333</td>\n",
       "      <td>0.339394</td>\n",
       "      <td>0.254777</td>\n",
       "      <td>0.154059</td>\n",
       "      <td>0.204545</td>\n",
       "      <td>0.0</td>\n",
       "    </tr>\n",
       "    <tr>\n",
       "      <th>766</th>\n",
       "      <td>0.076923</td>\n",
       "      <td>0.532468</td>\n",
       "      <td>0.323529</td>\n",
       "      <td>0.000000</td>\n",
       "      <td>0.000000</td>\n",
       "      <td>0.378981</td>\n",
       "      <td>0.250000</td>\n",
       "      <td>0.590909</td>\n",
       "      <td>1.0</td>\n",
       "    </tr>\n",
       "    <tr>\n",
       "      <th>767</th>\n",
       "      <td>0.076923</td>\n",
       "      <td>0.318182</td>\n",
       "      <td>0.470588</td>\n",
       "      <td>0.516667</td>\n",
       "      <td>0.000000</td>\n",
       "      <td>0.388535</td>\n",
       "      <td>0.218635</td>\n",
       "      <td>0.045455</td>\n",
       "      <td>0.0</td>\n",
       "    </tr>\n",
       "  </tbody>\n",
       "</table>\n",
       "<p>636 rows × 9 columns</p>\n",
       "</div>"
      ],
      "text/plain": [
       "     normalizePregnancies  normalizeGlucose  normalizeBloodPressure  \\\n",
       "0                0.461538          0.675325                0.500000   \n",
       "1                0.076923          0.266234                0.411765   \n",
       "2                0.615385          0.902597                0.382353   \n",
       "3                0.076923          0.292208                0.411765   \n",
       "5                0.384615          0.467532                0.529412   \n",
       "..                    ...               ...                     ...   \n",
       "763              0.769231          0.370130                0.558824   \n",
       "764              0.153846          0.506494                0.470588   \n",
       "765              0.384615          0.500000                0.500000   \n",
       "766              0.076923          0.532468                0.323529   \n",
       "767              0.076923          0.318182                0.470588   \n",
       "\n",
       "     normalizeSkinThickness  normalizeInsulin  normalizeBMI  \\\n",
       "0                  0.583333          0.000000      0.490446   \n",
       "1                  0.483333          0.000000      0.267516   \n",
       "2                  0.000000          0.000000      0.162420   \n",
       "3                  0.383333          0.284848      0.315287   \n",
       "5                  0.000000          0.000000      0.235669   \n",
       "..                      ...               ...           ...   \n",
       "763                0.800000          0.545455      0.468153   \n",
       "764                0.450000          0.000000      0.592357   \n",
       "765                0.383333          0.339394      0.254777   \n",
       "766                0.000000          0.000000      0.378981   \n",
       "767                0.516667          0.000000      0.388535   \n",
       "\n",
       "     normalizeDiabetesPedigreeFunction  normalizeAge  normalizeOutcome  \n",
       "0                             0.506458      0.659091               1.0  \n",
       "1                             0.251845      0.227273               0.0  \n",
       "2                             0.547970      0.250000               1.0  \n",
       "3                             0.082103      0.000000               0.0  \n",
       "5                             0.113469      0.204545               0.0  \n",
       "..                                 ...           ...               ...  \n",
       "763                           0.085793      0.954545               0.0  \n",
       "764                           0.241697      0.136364               0.0  \n",
       "765                           0.154059      0.204545               0.0  \n",
       "766                           0.250000      0.590909               1.0  \n",
       "767                           0.218635      0.045455               0.0  \n",
       "\n",
       "[636 rows x 9 columns]"
      ]
     },
     "execution_count": 38,
     "metadata": {},
     "output_type": "execute_result"
    }
   ],
   "source": [
    "data1=data.copy()\n",
    "for veri in data1:\n",
    "    isim=\"normalize\"+veri\n",
    "    data1[isim]=(data[veri]-data[veri].min())/(data[veri].max()-data[veri].min())\n",
    "data1.iloc[:,9:18] "
   ]
  },
  {
   "cell_type": "markdown",
   "metadata": {},
   "source": [
    "Burada normalizasyon tekniği kullanılmış ve veriler (veri-min(veri)/ max(veri)-min(veri)) formülü kullanılarak 0,1 aralığna normalize edilmiştir"
   ]
  },
  {
   "cell_type": "code",
   "execution_count": 39,
   "metadata": {},
   "outputs": [
    {
     "data": {
      "text/html": [
       "<div>\n",
       "<style scoped>\n",
       "    .dataframe tbody tr th:only-of-type {\n",
       "        vertical-align: middle;\n",
       "    }\n",
       "\n",
       "    .dataframe tbody tr th {\n",
       "        vertical-align: top;\n",
       "    }\n",
       "\n",
       "    .dataframe thead th {\n",
       "        text-align: right;\n",
       "    }\n",
       "</style>\n",
       "<table border=\"1\" class=\"dataframe\">\n",
       "  <thead>\n",
       "    <tr style=\"text-align: right;\">\n",
       "      <th></th>\n",
       "      <th>StandartizePregnancies</th>\n",
       "      <th>StandartizeGlucose</th>\n",
       "      <th>StandartizeBloodPressure</th>\n",
       "      <th>StandartizeSkinThickness</th>\n",
       "      <th>StandartizeInsulin</th>\n",
       "      <th>StandartizeBMI</th>\n",
       "      <th>StandartizeDiabetesPedigreeFunction</th>\n",
       "      <th>StandartizeAge</th>\n",
       "      <th>StandartizeOutcome</th>\n",
       "    </tr>\n",
       "  </thead>\n",
       "  <tbody>\n",
       "    <tr>\n",
       "      <th>0</th>\n",
       "      <td>0.680890</td>\n",
       "      <td>1.004612</td>\n",
       "      <td>-0.000696</td>\n",
       "      <td>0.935859</td>\n",
       "      <td>-0.825547</td>\n",
       "      <td>0.256237</td>\n",
       "      <td>0.819146</td>\n",
       "      <td>1.603426</td>\n",
       "      <td>1.491617</td>\n",
       "    </tr>\n",
       "    <tr>\n",
       "      <th>1</th>\n",
       "      <td>-0.856915</td>\n",
       "      <td>-1.168044</td>\n",
       "      <td>-0.531617</td>\n",
       "      <td>0.541944</td>\n",
       "      <td>-0.825547</td>\n",
       "      <td>-0.840232</td>\n",
       "      <td>-0.306982</td>\n",
       "      <td>-0.142928</td>\n",
       "      <td>-0.669359</td>\n",
       "    </tr>\n",
       "    <tr>\n",
       "      <th>2</th>\n",
       "      <td>1.296012</td>\n",
       "      <td>2.211643</td>\n",
       "      <td>-0.708591</td>\n",
       "      <td>-1.361982</td>\n",
       "      <td>-0.825547</td>\n",
       "      <td>-1.357138</td>\n",
       "      <td>1.002754</td>\n",
       "      <td>-0.051015</td>\n",
       "      <td>1.491617</td>\n",
       "    </tr>\n",
       "    <tr>\n",
       "      <th>3</th>\n",
       "      <td>-0.856915</td>\n",
       "      <td>-1.030097</td>\n",
       "      <td>-0.531617</td>\n",
       "      <td>0.148028</td>\n",
       "      <td>0.298830</td>\n",
       "      <td>-0.605274</td>\n",
       "      <td>-1.057733</td>\n",
       "      <td>-1.062062</td>\n",
       "      <td>-0.669359</td>\n",
       "    </tr>\n",
       "    <tr>\n",
       "      <th>5</th>\n",
       "      <td>0.373329</td>\n",
       "      <td>-0.098959</td>\n",
       "      <td>0.176278</td>\n",
       "      <td>-1.361982</td>\n",
       "      <td>-0.825547</td>\n",
       "      <td>-0.996870</td>\n",
       "      <td>-0.919008</td>\n",
       "      <td>-0.234842</td>\n",
       "      <td>-0.669359</td>\n",
       "    </tr>\n",
       "    <tr>\n",
       "      <th>...</th>\n",
       "      <td>...</td>\n",
       "      <td>...</td>\n",
       "      <td>...</td>\n",
       "      <td>...</td>\n",
       "      <td>...</td>\n",
       "      <td>...</td>\n",
       "      <td>...</td>\n",
       "      <td>...</td>\n",
       "      <td>...</td>\n",
       "    </tr>\n",
       "    <tr>\n",
       "      <th>763</th>\n",
       "      <td>1.911133</td>\n",
       "      <td>-0.616258</td>\n",
       "      <td>0.353252</td>\n",
       "      <td>1.789343</td>\n",
       "      <td>1.327515</td>\n",
       "      <td>0.146590</td>\n",
       "      <td>-1.041413</td>\n",
       "      <td>2.798300</td>\n",
       "      <td>-0.669359</td>\n",
       "    </tr>\n",
       "    <tr>\n",
       "      <th>764</th>\n",
       "      <td>-0.549354</td>\n",
       "      <td>0.107960</td>\n",
       "      <td>-0.177670</td>\n",
       "      <td>0.410638</td>\n",
       "      <td>-0.825547</td>\n",
       "      <td>0.757480</td>\n",
       "      <td>-0.351864</td>\n",
       "      <td>-0.510582</td>\n",
       "      <td>-0.669359</td>\n",
       "    </tr>\n",
       "    <tr>\n",
       "      <th>765</th>\n",
       "      <td>0.373329</td>\n",
       "      <td>0.073474</td>\n",
       "      <td>-0.000696</td>\n",
       "      <td>0.148028</td>\n",
       "      <td>0.514136</td>\n",
       "      <td>-0.902887</td>\n",
       "      <td>-0.739480</td>\n",
       "      <td>-0.234842</td>\n",
       "      <td>-0.669359</td>\n",
       "    </tr>\n",
       "    <tr>\n",
       "      <th>766</th>\n",
       "      <td>-0.856915</td>\n",
       "      <td>0.245907</td>\n",
       "      <td>-1.062539</td>\n",
       "      <td>-1.361982</td>\n",
       "      <td>-0.825547</td>\n",
       "      <td>-0.291998</td>\n",
       "      <td>-0.315142</td>\n",
       "      <td>1.327686</td>\n",
       "      <td>1.491617</td>\n",
       "    </tr>\n",
       "    <tr>\n",
       "      <th>767</th>\n",
       "      <td>-0.856915</td>\n",
       "      <td>-0.892151</td>\n",
       "      <td>-0.177670</td>\n",
       "      <td>0.673249</td>\n",
       "      <td>-0.825547</td>\n",
       "      <td>-0.245006</td>\n",
       "      <td>-0.453868</td>\n",
       "      <td>-0.878235</td>\n",
       "      <td>-0.669359</td>\n",
       "    </tr>\n",
       "  </tbody>\n",
       "</table>\n",
       "<p>636 rows × 9 columns</p>\n",
       "</div>"
      ],
      "text/plain": [
       "     StandartizePregnancies  StandartizeGlucose  StandartizeBloodPressure  \\\n",
       "0                  0.680890            1.004612                 -0.000696   \n",
       "1                 -0.856915           -1.168044                 -0.531617   \n",
       "2                  1.296012            2.211643                 -0.708591   \n",
       "3                 -0.856915           -1.030097                 -0.531617   \n",
       "5                  0.373329           -0.098959                  0.176278   \n",
       "..                      ...                 ...                       ...   \n",
       "763                1.911133           -0.616258                  0.353252   \n",
       "764               -0.549354            0.107960                 -0.177670   \n",
       "765                0.373329            0.073474                 -0.000696   \n",
       "766               -0.856915            0.245907                 -1.062539   \n",
       "767               -0.856915           -0.892151                 -0.177670   \n",
       "\n",
       "     StandartizeSkinThickness  StandartizeInsulin  StandartizeBMI  \\\n",
       "0                    0.935859           -0.825547        0.256237   \n",
       "1                    0.541944           -0.825547       -0.840232   \n",
       "2                   -1.361982           -0.825547       -1.357138   \n",
       "3                    0.148028            0.298830       -0.605274   \n",
       "5                   -1.361982           -0.825547       -0.996870   \n",
       "..                        ...                 ...             ...   \n",
       "763                  1.789343            1.327515        0.146590   \n",
       "764                  0.410638           -0.825547        0.757480   \n",
       "765                  0.148028            0.514136       -0.902887   \n",
       "766                 -1.361982           -0.825547       -0.291998   \n",
       "767                  0.673249           -0.825547       -0.245006   \n",
       "\n",
       "     StandartizeDiabetesPedigreeFunction  StandartizeAge  StandartizeOutcome  \n",
       "0                               0.819146        1.603426            1.491617  \n",
       "1                              -0.306982       -0.142928           -0.669359  \n",
       "2                               1.002754       -0.051015            1.491617  \n",
       "3                              -1.057733       -1.062062           -0.669359  \n",
       "5                              -0.919008       -0.234842           -0.669359  \n",
       "..                                   ...             ...                 ...  \n",
       "763                            -1.041413        2.798300           -0.669359  \n",
       "764                            -0.351864       -0.510582           -0.669359  \n",
       "765                            -0.739480       -0.234842           -0.669359  \n",
       "766                            -0.315142        1.327686            1.491617  \n",
       "767                            -0.453868       -0.878235           -0.669359  \n",
       "\n",
       "[636 rows x 9 columns]"
      ]
     },
     "execution_count": 39,
     "metadata": {},
     "output_type": "execute_result"
    }
   ],
   "source": [
    "data2=data.copy()\n",
    "for veri in data2:\n",
    "    isim=\"Standartize\"+veri\n",
    "    data2[isim]=(data[veri]-data[veri].mean())/(data[veri].std())\n",
    "data2.iloc[:,9:18] "
   ]
  },
  {
   "cell_type": "markdown",
   "metadata": {},
   "source": [
    "Burada ise klasik istatistiksel stardatizasyon formülü olan (veri-veri otalaması / standart sapma )kullanılmış ve veri standartlaştırılmıştır"
   ]
  },
  {
   "cell_type": "markdown",
   "metadata": {},
   "source": [
    "# <font color='green'>Soru1f)Veri üzerinden temel istatistik bilgileri çıkarınız( Mod, Medyan, aritmetik ortalama, varyans, kovaryans, korelasyon)</font>\n",
    "# "
   ]
  },
  {
   "cell_type": "code",
   "execution_count": 40,
   "metadata": {},
   "outputs": [
    {
     "data": {
      "text/html": [
       "<div>\n",
       "<style scoped>\n",
       "    .dataframe tbody tr th:only-of-type {\n",
       "        vertical-align: middle;\n",
       "    }\n",
       "\n",
       "    .dataframe tbody tr th {\n",
       "        vertical-align: top;\n",
       "    }\n",
       "\n",
       "    .dataframe thead th {\n",
       "        text-align: right;\n",
       "    }\n",
       "</style>\n",
       "<table border=\"1\" class=\"dataframe\">\n",
       "  <thead>\n",
       "    <tr style=\"text-align: right;\">\n",
       "      <th></th>\n",
       "      <th>Pregnancies</th>\n",
       "      <th>Glucose</th>\n",
       "      <th>BloodPressure</th>\n",
       "      <th>SkinThickness</th>\n",
       "      <th>Insulin</th>\n",
       "      <th>BMI</th>\n",
       "      <th>DiabetesPedigreeFunction</th>\n",
       "      <th>Age</th>\n",
       "      <th>Outcome</th>\n",
       "    </tr>\n",
       "  </thead>\n",
       "  <tbody>\n",
       "    <tr>\n",
       "      <th>count</th>\n",
       "      <td>636.000000</td>\n",
       "      <td>636.000000</td>\n",
       "      <td>636.000000</td>\n",
       "      <td>636.000000</td>\n",
       "      <td>636.000000</td>\n",
       "      <td>636.000000</td>\n",
       "      <td>636.000000</td>\n",
       "      <td>636.000000</td>\n",
       "      <td>636.000000</td>\n",
       "    </tr>\n",
       "    <tr>\n",
       "      <th>mean</th>\n",
       "      <td>3.786164</td>\n",
       "      <td>118.869497</td>\n",
       "      <td>72.007862</td>\n",
       "      <td>20.745283</td>\n",
       "      <td>69.017296</td>\n",
       "      <td>31.964151</td>\n",
       "      <td>0.426237</td>\n",
       "      <td>32.555031</td>\n",
       "      <td>0.309748</td>\n",
       "    </tr>\n",
       "    <tr>\n",
       "      <th>std</th>\n",
       "      <td>3.251388</td>\n",
       "      <td>28.996773</td>\n",
       "      <td>11.301102</td>\n",
       "      <td>15.231688</td>\n",
       "      <td>83.601857</td>\n",
       "      <td>6.384132</td>\n",
       "      <td>0.245088</td>\n",
       "      <td>10.879807</td>\n",
       "      <td>0.462754</td>\n",
       "    </tr>\n",
       "    <tr>\n",
       "      <th>min</th>\n",
       "      <td>0.000000</td>\n",
       "      <td>44.000000</td>\n",
       "      <td>38.000000</td>\n",
       "      <td>0.000000</td>\n",
       "      <td>0.000000</td>\n",
       "      <td>18.200000</td>\n",
       "      <td>0.078000</td>\n",
       "      <td>21.000000</td>\n",
       "      <td>0.000000</td>\n",
       "    </tr>\n",
       "    <tr>\n",
       "      <th>25%</th>\n",
       "      <td>1.000000</td>\n",
       "      <td>99.000000</td>\n",
       "      <td>64.000000</td>\n",
       "      <td>0.000000</td>\n",
       "      <td>0.000000</td>\n",
       "      <td>27.300000</td>\n",
       "      <td>0.238750</td>\n",
       "      <td>24.000000</td>\n",
       "      <td>0.000000</td>\n",
       "    </tr>\n",
       "    <tr>\n",
       "      <th>50%</th>\n",
       "      <td>3.000000</td>\n",
       "      <td>114.000000</td>\n",
       "      <td>72.000000</td>\n",
       "      <td>23.000000</td>\n",
       "      <td>42.500000</td>\n",
       "      <td>32.000000</td>\n",
       "      <td>0.361000</td>\n",
       "      <td>29.000000</td>\n",
       "      <td>0.000000</td>\n",
       "    </tr>\n",
       "    <tr>\n",
       "      <th>75%</th>\n",
       "      <td>6.000000</td>\n",
       "      <td>136.250000</td>\n",
       "      <td>80.000000</td>\n",
       "      <td>32.000000</td>\n",
       "      <td>122.000000</td>\n",
       "      <td>36.000000</td>\n",
       "      <td>0.583000</td>\n",
       "      <td>40.000000</td>\n",
       "      <td>1.000000</td>\n",
       "    </tr>\n",
       "    <tr>\n",
       "      <th>max</th>\n",
       "      <td>13.000000</td>\n",
       "      <td>198.000000</td>\n",
       "      <td>106.000000</td>\n",
       "      <td>60.000000</td>\n",
       "      <td>330.000000</td>\n",
       "      <td>49.600000</td>\n",
       "      <td>1.162000</td>\n",
       "      <td>65.000000</td>\n",
       "      <td>1.000000</td>\n",
       "    </tr>\n",
       "  </tbody>\n",
       "</table>\n",
       "</div>"
      ],
      "text/plain": [
       "       Pregnancies     Glucose  BloodPressure  SkinThickness     Insulin  \\\n",
       "count   636.000000  636.000000     636.000000     636.000000  636.000000   \n",
       "mean      3.786164  118.869497      72.007862      20.745283   69.017296   \n",
       "std       3.251388   28.996773      11.301102      15.231688   83.601857   \n",
       "min       0.000000   44.000000      38.000000       0.000000    0.000000   \n",
       "25%       1.000000   99.000000      64.000000       0.000000    0.000000   \n",
       "50%       3.000000  114.000000      72.000000      23.000000   42.500000   \n",
       "75%       6.000000  136.250000      80.000000      32.000000  122.000000   \n",
       "max      13.000000  198.000000     106.000000      60.000000  330.000000   \n",
       "\n",
       "              BMI  DiabetesPedigreeFunction         Age     Outcome  \n",
       "count  636.000000                636.000000  636.000000  636.000000  \n",
       "mean    31.964151                  0.426237   32.555031    0.309748  \n",
       "std      6.384132                  0.245088   10.879807    0.462754  \n",
       "min     18.200000                  0.078000   21.000000    0.000000  \n",
       "25%     27.300000                  0.238750   24.000000    0.000000  \n",
       "50%     32.000000                  0.361000   29.000000    0.000000  \n",
       "75%     36.000000                  0.583000   40.000000    1.000000  \n",
       "max     49.600000                  1.162000   65.000000    1.000000  "
      ]
     },
     "execution_count": 40,
     "metadata": {},
     "output_type": "execute_result"
    }
   ],
   "source": [
    "data.describe()"
   ]
  },
  {
   "cell_type": "markdown",
   "metadata": {},
   "source": [
    "Burada veriler ile ilgili mean kısmı ortalamaları, std kısmı standar sapmaları göstermektedir, ayrıca minimum, maksimum değerler ve kartiller de görülmektedir"
   ]
  },
  {
   "cell_type": "code",
   "execution_count": 41,
   "metadata": {},
   "outputs": [
    {
     "data": {
      "text/plain": [
       "Pregnancies                   3.000\n",
       "Glucose                     114.000\n",
       "BloodPressure                72.000\n",
       "SkinThickness                23.000\n",
       "Insulin                      42.500\n",
       "BMI                          32.000\n",
       "DiabetesPedigreeFunction      0.361\n",
       "Age                          29.000\n",
       "Outcome                       0.000\n",
       "dtype: float64"
      ]
     },
     "execution_count": 41,
     "metadata": {},
     "output_type": "execute_result"
    }
   ],
   "source": [
    "data.median()"
   ]
  },
  {
   "cell_type": "markdown",
   "metadata": {},
   "source": [
    "Bu fonksiyon ile de medyan değerleri alınmıştır. VErilerimiz normal dağılmadıoğı için aykırı değerlerden kaçınmak için ortalama yerine medyan kullşanılabilecektir."
   ]
  },
  {
   "cell_type": "code",
   "execution_count": 42,
   "metadata": {},
   "outputs": [
    {
     "data": {
      "text/html": [
       "<div>\n",
       "<style scoped>\n",
       "    .dataframe tbody tr th:only-of-type {\n",
       "        vertical-align: middle;\n",
       "    }\n",
       "\n",
       "    .dataframe tbody tr th {\n",
       "        vertical-align: top;\n",
       "    }\n",
       "\n",
       "    .dataframe thead th {\n",
       "        text-align: right;\n",
       "    }\n",
       "</style>\n",
       "<table border=\"1\" class=\"dataframe\">\n",
       "  <thead>\n",
       "    <tr style=\"text-align: right;\">\n",
       "      <th></th>\n",
       "      <th>Pregnancies</th>\n",
       "      <th>Glucose</th>\n",
       "      <th>BloodPressure</th>\n",
       "      <th>SkinThickness</th>\n",
       "      <th>Insulin</th>\n",
       "      <th>BMI</th>\n",
       "      <th>DiabetesPedigreeFunction</th>\n",
       "      <th>Age</th>\n",
       "      <th>Outcome</th>\n",
       "    </tr>\n",
       "  </thead>\n",
       "  <tbody>\n",
       "    <tr>\n",
       "      <th>0</th>\n",
       "      <td>1.0</td>\n",
       "      <td>99</td>\n",
       "      <td>70.0</td>\n",
       "      <td>0.0</td>\n",
       "      <td>0.0</td>\n",
       "      <td>31.6</td>\n",
       "      <td>0.254</td>\n",
       "      <td>22.0</td>\n",
       "      <td>0.0</td>\n",
       "    </tr>\n",
       "    <tr>\n",
       "      <th>1</th>\n",
       "      <td>NaN</td>\n",
       "      <td>100</td>\n",
       "      <td>NaN</td>\n",
       "      <td>NaN</td>\n",
       "      <td>NaN</td>\n",
       "      <td>32.0</td>\n",
       "      <td>NaN</td>\n",
       "      <td>NaN</td>\n",
       "      <td>NaN</td>\n",
       "    </tr>\n",
       "  </tbody>\n",
       "</table>\n",
       "</div>"
      ],
      "text/plain": [
       "   Pregnancies  Glucose  BloodPressure  SkinThickness  Insulin   BMI  \\\n",
       "0          1.0       99           70.0            0.0      0.0  31.6   \n",
       "1          NaN      100            NaN            NaN      NaN  32.0   \n",
       "\n",
       "   DiabetesPedigreeFunction   Age  Outcome  \n",
       "0                     0.254  22.0      0.0  \n",
       "1                       NaN   NaN      NaN  "
      ]
     },
     "execution_count": 42,
     "metadata": {},
     "output_type": "execute_result"
    }
   ],
   "source": [
    "data.mode()"
   ]
  },
  {
   "cell_type": "markdown",
   "metadata": {},
   "source": [
    "Bu fonksiyon ile de mod değerleri alınmıştır."
   ]
  },
  {
   "cell_type": "code",
   "execution_count": 43,
   "metadata": {},
   "outputs": [
    {
     "data": {
      "text/html": [
       "<div>\n",
       "<style scoped>\n",
       "    .dataframe tbody tr th:only-of-type {\n",
       "        vertical-align: middle;\n",
       "    }\n",
       "\n",
       "    .dataframe tbody tr th {\n",
       "        vertical-align: top;\n",
       "    }\n",
       "\n",
       "    .dataframe thead th {\n",
       "        text-align: right;\n",
       "    }\n",
       "</style>\n",
       "<table border=\"1\" class=\"dataframe\">\n",
       "  <thead>\n",
       "    <tr style=\"text-align: right;\">\n",
       "      <th></th>\n",
       "      <th>Pregnancies</th>\n",
       "      <th>Glucose</th>\n",
       "      <th>BloodPressure</th>\n",
       "      <th>SkinThickness</th>\n",
       "      <th>Insulin</th>\n",
       "      <th>BMI</th>\n",
       "      <th>DiabetesPedigreeFunction</th>\n",
       "      <th>Age</th>\n",
       "      <th>Outcome</th>\n",
       "    </tr>\n",
       "  </thead>\n",
       "  <tbody>\n",
       "    <tr>\n",
       "      <th>Pregnancies</th>\n",
       "      <td>1.000000</td>\n",
       "      <td>0.130759</td>\n",
       "      <td>0.206581</td>\n",
       "      <td>-0.088675</td>\n",
       "      <td>-0.090608</td>\n",
       "      <td>0.037389</td>\n",
       "      <td>-0.013274</td>\n",
       "      <td>0.582318</td>\n",
       "      <td>0.235631</td>\n",
       "    </tr>\n",
       "    <tr>\n",
       "      <th>Glucose</th>\n",
       "      <td>0.130759</td>\n",
       "      <td>1.000000</td>\n",
       "      <td>0.227750</td>\n",
       "      <td>0.017161</td>\n",
       "      <td>0.280328</td>\n",
       "      <td>0.193989</td>\n",
       "      <td>0.051546</td>\n",
       "      <td>0.268977</td>\n",
       "      <td>0.493355</td>\n",
       "    </tr>\n",
       "    <tr>\n",
       "      <th>BloodPressure</th>\n",
       "      <td>0.206581</td>\n",
       "      <td>0.227750</td>\n",
       "      <td>1.000000</td>\n",
       "      <td>0.039799</td>\n",
       "      <td>-0.019897</td>\n",
       "      <td>0.290307</td>\n",
       "      <td>0.022308</td>\n",
       "      <td>0.345872</td>\n",
       "      <td>0.171178</td>\n",
       "    </tr>\n",
       "    <tr>\n",
       "      <th>SkinThickness</th>\n",
       "      <td>-0.088675</td>\n",
       "      <td>0.017161</td>\n",
       "      <td>0.039799</td>\n",
       "      <td>1.000000</td>\n",
       "      <td>0.475258</td>\n",
       "      <td>0.383783</td>\n",
       "      <td>0.165758</td>\n",
       "      <td>-0.122427</td>\n",
       "      <td>0.042490</td>\n",
       "    </tr>\n",
       "    <tr>\n",
       "      <th>Insulin</th>\n",
       "      <td>-0.090608</td>\n",
       "      <td>0.280328</td>\n",
       "      <td>-0.019897</td>\n",
       "      <td>0.475258</td>\n",
       "      <td>1.000000</td>\n",
       "      <td>0.177380</td>\n",
       "      <td>0.225171</td>\n",
       "      <td>-0.053711</td>\n",
       "      <td>0.114653</td>\n",
       "    </tr>\n",
       "    <tr>\n",
       "      <th>BMI</th>\n",
       "      <td>0.037389</td>\n",
       "      <td>0.193989</td>\n",
       "      <td>0.290307</td>\n",
       "      <td>0.383783</td>\n",
       "      <td>0.177380</td>\n",
       "      <td>1.000000</td>\n",
       "      <td>0.148256</td>\n",
       "      <td>0.066110</td>\n",
       "      <td>0.268268</td>\n",
       "    </tr>\n",
       "    <tr>\n",
       "      <th>DiabetesPedigreeFunction</th>\n",
       "      <td>-0.013274</td>\n",
       "      <td>0.051546</td>\n",
       "      <td>0.022308</td>\n",
       "      <td>0.165758</td>\n",
       "      <td>0.225171</td>\n",
       "      <td>0.148256</td>\n",
       "      <td>1.000000</td>\n",
       "      <td>0.031168</td>\n",
       "      <td>0.168112</td>\n",
       "    </tr>\n",
       "    <tr>\n",
       "      <th>Age</th>\n",
       "      <td>0.582318</td>\n",
       "      <td>0.268977</td>\n",
       "      <td>0.345872</td>\n",
       "      <td>-0.122427</td>\n",
       "      <td>-0.053711</td>\n",
       "      <td>0.066110</td>\n",
       "      <td>0.031168</td>\n",
       "      <td>1.000000</td>\n",
       "      <td>0.267017</td>\n",
       "    </tr>\n",
       "    <tr>\n",
       "      <th>Outcome</th>\n",
       "      <td>0.235631</td>\n",
       "      <td>0.493355</td>\n",
       "      <td>0.171178</td>\n",
       "      <td>0.042490</td>\n",
       "      <td>0.114653</td>\n",
       "      <td>0.268268</td>\n",
       "      <td>0.168112</td>\n",
       "      <td>0.267017</td>\n",
       "      <td>1.000000</td>\n",
       "    </tr>\n",
       "  </tbody>\n",
       "</table>\n",
       "</div>"
      ],
      "text/plain": [
       "                          Pregnancies   Glucose  BloodPressure  SkinThickness  \\\n",
       "Pregnancies                  1.000000  0.130759       0.206581      -0.088675   \n",
       "Glucose                      0.130759  1.000000       0.227750       0.017161   \n",
       "BloodPressure                0.206581  0.227750       1.000000       0.039799   \n",
       "SkinThickness               -0.088675  0.017161       0.039799       1.000000   \n",
       "Insulin                     -0.090608  0.280328      -0.019897       0.475258   \n",
       "BMI                          0.037389  0.193989       0.290307       0.383783   \n",
       "DiabetesPedigreeFunction    -0.013274  0.051546       0.022308       0.165758   \n",
       "Age                          0.582318  0.268977       0.345872      -0.122427   \n",
       "Outcome                      0.235631  0.493355       0.171178       0.042490   \n",
       "\n",
       "                           Insulin       BMI  DiabetesPedigreeFunction  \\\n",
       "Pregnancies              -0.090608  0.037389                 -0.013274   \n",
       "Glucose                   0.280328  0.193989                  0.051546   \n",
       "BloodPressure            -0.019897  0.290307                  0.022308   \n",
       "SkinThickness             0.475258  0.383783                  0.165758   \n",
       "Insulin                   1.000000  0.177380                  0.225171   \n",
       "BMI                       0.177380  1.000000                  0.148256   \n",
       "DiabetesPedigreeFunction  0.225171  0.148256                  1.000000   \n",
       "Age                      -0.053711  0.066110                  0.031168   \n",
       "Outcome                   0.114653  0.268268                  0.168112   \n",
       "\n",
       "                               Age   Outcome  \n",
       "Pregnancies               0.582318  0.235631  \n",
       "Glucose                   0.268977  0.493355  \n",
       "BloodPressure             0.345872  0.171178  \n",
       "SkinThickness            -0.122427  0.042490  \n",
       "Insulin                  -0.053711  0.114653  \n",
       "BMI                       0.066110  0.268268  \n",
       "DiabetesPedigreeFunction  0.031168  0.168112  \n",
       "Age                       1.000000  0.267017  \n",
       "Outcome                   0.267017  1.000000  "
      ]
     },
     "execution_count": 43,
     "metadata": {},
     "output_type": "execute_result"
    }
   ],
   "source": [
    "data.corr()"
   ]
  },
  {
   "cell_type": "markdown",
   "metadata": {},
   "source": [
    "Kullandığımız özniteliklerin korelasyon tablosu üstteki gibi oluşmaktadır, Korealsyon ısı grafiğinde yapılan yorumları burası için de yapabiliriz.\n"
   ]
  },
  {
   "cell_type": "code",
   "execution_count": 44,
   "metadata": {},
   "outputs": [
    {
     "data": {
      "text/plain": [
       "Pregnancies                   10.571525\n",
       "Glucose                      840.812863\n",
       "BloodPressure                127.714899\n",
       "SkinThickness                232.004308\n",
       "Insulin                     6989.270567\n",
       "BMI                           40.757138\n",
       "DiabetesPedigreeFunction       0.060068\n",
       "Age                          118.370195\n",
       "Outcome                        0.214141\n",
       "dtype: float64"
      ]
     },
     "execution_count": 44,
     "metadata": {},
     "output_type": "execute_result"
    }
   ],
   "source": [
    "varyans=(data.std())**2\n",
    "varyans"
   ]
  },
  {
   "cell_type": "markdown",
   "metadata": {},
   "source": [
    "Varyans değeri standart sapmanın karesi olduğundan yukarıda gösterildiği gibi önce std sapma bulunmuş ve karesi alınmıştır"
   ]
  },
  {
   "cell_type": "code",
   "execution_count": 45,
   "metadata": {},
   "outputs": [
    {
     "data": {
      "text/html": [
       "<div>\n",
       "<style scoped>\n",
       "    .dataframe tbody tr th:only-of-type {\n",
       "        vertical-align: middle;\n",
       "    }\n",
       "\n",
       "    .dataframe tbody tr th {\n",
       "        vertical-align: top;\n",
       "    }\n",
       "\n",
       "    .dataframe thead th {\n",
       "        text-align: right;\n",
       "    }\n",
       "</style>\n",
       "<table border=\"1\" class=\"dataframe\">\n",
       "  <thead>\n",
       "    <tr style=\"text-align: right;\">\n",
       "      <th></th>\n",
       "      <th>Pregnancies</th>\n",
       "      <th>Glucose</th>\n",
       "      <th>BloodPressure</th>\n",
       "      <th>SkinThickness</th>\n",
       "      <th>Insulin</th>\n",
       "      <th>BMI</th>\n",
       "      <th>DiabetesPedigreeFunction</th>\n",
       "      <th>Age</th>\n",
       "      <th>Outcome</th>\n",
       "    </tr>\n",
       "  </thead>\n",
       "  <tbody>\n",
       "    <tr>\n",
       "      <th>Pregnancies</th>\n",
       "      <td>10.571525</td>\n",
       "      <td>12.327955</td>\n",
       "      <td>7.590660</td>\n",
       "      <td>-4.391561</td>\n",
       "      <td>-24.629367</td>\n",
       "      <td>0.776102</td>\n",
       "      <td>-0.010577</td>\n",
       "      <td>20.599188</td>\n",
       "      <td>0.354529</td>\n",
       "    </tr>\n",
       "    <tr>\n",
       "      <th>Glucose</th>\n",
       "      <td>12.327955</td>\n",
       "      <td>840.812863</td>\n",
       "      <td>74.632524</td>\n",
       "      <td>7.579305</td>\n",
       "      <td>679.567615</td>\n",
       "      <td>35.911062</td>\n",
       "      <td>0.366324</td>\n",
       "      <td>84.856799</td>\n",
       "      <td>6.620014</td>\n",
       "    </tr>\n",
       "    <tr>\n",
       "      <th>BloodPressure</th>\n",
       "      <td>7.590660</td>\n",
       "      <td>74.632524</td>\n",
       "      <td>127.714899</td>\n",
       "      <td>6.850825</td>\n",
       "      <td>-18.798561</td>\n",
       "      <td>20.945007</td>\n",
       "      <td>0.061789</td>\n",
       "      <td>42.526338</td>\n",
       "      <td>0.895199</td>\n",
       "    </tr>\n",
       "    <tr>\n",
       "      <th>SkinThickness</th>\n",
       "      <td>-4.391561</td>\n",
       "      <td>7.579305</td>\n",
       "      <td>6.850825</td>\n",
       "      <td>232.004308</td>\n",
       "      <td>605.191814</td>\n",
       "      <td>37.319516</td>\n",
       "      <td>0.618791</td>\n",
       "      <td>-20.288323</td>\n",
       "      <td>0.299495</td>\n",
       "    </tr>\n",
       "    <tr>\n",
       "      <th>Insulin</th>\n",
       "      <td>-24.629367</td>\n",
       "      <td>679.567615</td>\n",
       "      <td>-18.798561</td>\n",
       "      <td>605.191814</td>\n",
       "      <td>6989.270567</td>\n",
       "      <td>94.672117</td>\n",
       "      <td>4.613712</td>\n",
       "      <td>-48.853709</td>\n",
       "      <td>4.435579</td>\n",
       "    </tr>\n",
       "    <tr>\n",
       "      <th>BMI</th>\n",
       "      <td>0.776102</td>\n",
       "      <td>35.911062</td>\n",
       "      <td>20.945007</td>\n",
       "      <td>37.319516</td>\n",
       "      <td>94.672117</td>\n",
       "      <td>40.757138</td>\n",
       "      <td>0.231972</td>\n",
       "      <td>4.591897</td>\n",
       "      <td>0.792539</td>\n",
       "    </tr>\n",
       "    <tr>\n",
       "      <th>DiabetesPedigreeFunction</th>\n",
       "      <td>-0.010577</td>\n",
       "      <td>0.366324</td>\n",
       "      <td>0.061789</td>\n",
       "      <td>0.618791</td>\n",
       "      <td>4.613712</td>\n",
       "      <td>0.231972</td>\n",
       "      <td>0.060068</td>\n",
       "      <td>0.083109</td>\n",
       "      <td>0.019067</td>\n",
       "    </tr>\n",
       "    <tr>\n",
       "      <th>Age</th>\n",
       "      <td>20.599188</td>\n",
       "      <td>84.856799</td>\n",
       "      <td>42.526338</td>\n",
       "      <td>-20.288323</td>\n",
       "      <td>-48.853709</td>\n",
       "      <td>4.591897</td>\n",
       "      <td>0.083109</td>\n",
       "      <td>118.370195</td>\n",
       "      <td>1.344345</td>\n",
       "    </tr>\n",
       "    <tr>\n",
       "      <th>Outcome</th>\n",
       "      <td>0.354529</td>\n",
       "      <td>6.620014</td>\n",
       "      <td>0.895199</td>\n",
       "      <td>0.299495</td>\n",
       "      <td>4.435579</td>\n",
       "      <td>0.792539</td>\n",
       "      <td>0.019067</td>\n",
       "      <td>1.344345</td>\n",
       "      <td>0.214141</td>\n",
       "    </tr>\n",
       "  </tbody>\n",
       "</table>\n",
       "</div>"
      ],
      "text/plain": [
       "                          Pregnancies     Glucose  BloodPressure  \\\n",
       "Pregnancies                 10.571525   12.327955       7.590660   \n",
       "Glucose                     12.327955  840.812863      74.632524   \n",
       "BloodPressure                7.590660   74.632524     127.714899   \n",
       "SkinThickness               -4.391561    7.579305       6.850825   \n",
       "Insulin                    -24.629367  679.567615     -18.798561   \n",
       "BMI                          0.776102   35.911062      20.945007   \n",
       "DiabetesPedigreeFunction    -0.010577    0.366324       0.061789   \n",
       "Age                         20.599188   84.856799      42.526338   \n",
       "Outcome                      0.354529    6.620014       0.895199   \n",
       "\n",
       "                          SkinThickness      Insulin        BMI  \\\n",
       "Pregnancies                   -4.391561   -24.629367   0.776102   \n",
       "Glucose                        7.579305   679.567615  35.911062   \n",
       "BloodPressure                  6.850825   -18.798561  20.945007   \n",
       "SkinThickness                232.004308   605.191814  37.319516   \n",
       "Insulin                      605.191814  6989.270567  94.672117   \n",
       "BMI                           37.319516    94.672117  40.757138   \n",
       "DiabetesPedigreeFunction       0.618791     4.613712   0.231972   \n",
       "Age                          -20.288323   -48.853709   4.591897   \n",
       "Outcome                        0.299495     4.435579   0.792539   \n",
       "\n",
       "                          DiabetesPedigreeFunction         Age   Outcome  \n",
       "Pregnancies                              -0.010577   20.599188  0.354529  \n",
       "Glucose                                   0.366324   84.856799  6.620014  \n",
       "BloodPressure                             0.061789   42.526338  0.895199  \n",
       "SkinThickness                             0.618791  -20.288323  0.299495  \n",
       "Insulin                                   4.613712  -48.853709  4.435579  \n",
       "BMI                                       0.231972    4.591897  0.792539  \n",
       "DiabetesPedigreeFunction                  0.060068    0.083109  0.019067  \n",
       "Age                                       0.083109  118.370195  1.344345  \n",
       "Outcome                                   0.019067    1.344345  0.214141  "
      ]
     },
     "execution_count": 45,
     "metadata": {},
     "output_type": "execute_result"
    }
   ],
   "source": [
    "data.cov()"
   ]
  },
  {
   "cell_type": "markdown",
   "metadata": {},
   "source": [
    "En son olarak Veriye ait kovaryans tablosu oluşturulmuştur"
   ]
  }
 ],
 "metadata": {
  "kernelspec": {
   "display_name": "Python 3 (ipykernel)",
   "language": "python",
   "name": "python3"
  },
  "language_info": {
   "codemirror_mode": {
    "name": "ipython",
    "version": 3
   },
   "file_extension": ".py",
   "mimetype": "text/x-python",
   "name": "python",
   "nbconvert_exporter": "python",
   "pygments_lexer": "ipython3",
   "version": "3.9.7"
  }
 },
 "nbformat": 4,
 "nbformat_minor": 4
}
